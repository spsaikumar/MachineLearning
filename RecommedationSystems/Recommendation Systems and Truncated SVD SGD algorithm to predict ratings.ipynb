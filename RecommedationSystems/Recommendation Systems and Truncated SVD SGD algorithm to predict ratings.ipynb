{
  "nbformat": 4,
  "nbformat_minor": 0,
  "metadata": {
    "colab": {
      "provenance": []
    },
    "kernelspec": {
      "display_name": "Python 3",
      "language": "python",
      "name": "python3"
    },
    "language_info": {
      "codemirror_mode": {
        "name": "ipython",
        "version": 3
      },
      "file_extension": ".py",
      "mimetype": "text/x-python",
      "name": "python",
      "nbconvert_exporter": "python",
      "pygments_lexer": "ipython3",
      "version": "3.6.3"
    },
    "widgets": {
      "application/vnd.jupyter.widget-state+json": {
        "e90f7227ebfd4c209fa2584b3a0954a7": {
          "model_module": "@jupyter-widgets/controls",
          "model_name": "HBoxModel",
          "model_module_version": "1.5.0",
          "state": {
            "_dom_classes": [],
            "_model_module": "@jupyter-widgets/controls",
            "_model_module_version": "1.5.0",
            "_model_name": "HBoxModel",
            "_view_count": null,
            "_view_module": "@jupyter-widgets/controls",
            "_view_module_version": "1.5.0",
            "_view_name": "HBoxView",
            "box_style": "",
            "children": [
              "IPY_MODEL_7ae191be37f346e6928b42b4b0023ce3",
              "IPY_MODEL_1cec05cb2fc34115bd0a99067e37a94d",
              "IPY_MODEL_3c8b3b5243fa450d9aaeeddee83d701e"
            ],
            "layout": "IPY_MODEL_53688655b7654ee4a64ad29341631218"
          }
        },
        "7ae191be37f346e6928b42b4b0023ce3": {
          "model_module": "@jupyter-widgets/controls",
          "model_name": "HTMLModel",
          "model_module_version": "1.5.0",
          "state": {
            "_dom_classes": [],
            "_model_module": "@jupyter-widgets/controls",
            "_model_module_version": "1.5.0",
            "_model_name": "HTMLModel",
            "_view_count": null,
            "_view_module": "@jupyter-widgets/controls",
            "_view_module_version": "1.5.0",
            "_view_name": "HTMLView",
            "description": "",
            "description_tooltip": null,
            "layout": "IPY_MODEL_a4ee692d8713421eb3a6e25144ced7b6",
            "placeholder": "​",
            "style": "IPY_MODEL_63efb06fda5446f18de807febb8053dd",
            "value": "100%"
          }
        },
        "1cec05cb2fc34115bd0a99067e37a94d": {
          "model_module": "@jupyter-widgets/controls",
          "model_name": "FloatProgressModel",
          "model_module_version": "1.5.0",
          "state": {
            "_dom_classes": [],
            "_model_module": "@jupyter-widgets/controls",
            "_model_module_version": "1.5.0",
            "_model_name": "FloatProgressModel",
            "_view_count": null,
            "_view_module": "@jupyter-widgets/controls",
            "_view_module_version": "1.5.0",
            "_view_name": "ProgressView",
            "bar_style": "success",
            "description": "",
            "description_tooltip": null,
            "layout": "IPY_MODEL_575beded90fe438fac3cce56909ba70e",
            "max": 101,
            "min": 0,
            "orientation": "horizontal",
            "style": "IPY_MODEL_2a9bc9230b894848aba4a9e0a590d427",
            "value": 101
          }
        },
        "3c8b3b5243fa450d9aaeeddee83d701e": {
          "model_module": "@jupyter-widgets/controls",
          "model_name": "HTMLModel",
          "model_module_version": "1.5.0",
          "state": {
            "_dom_classes": [],
            "_model_module": "@jupyter-widgets/controls",
            "_model_module_version": "1.5.0",
            "_model_name": "HTMLModel",
            "_view_count": null,
            "_view_module": "@jupyter-widgets/controls",
            "_view_module_version": "1.5.0",
            "_view_name": "HTMLView",
            "description": "",
            "description_tooltip": null,
            "layout": "IPY_MODEL_d424e18afe894123be7f1a9d5eb0349e",
            "placeholder": "​",
            "style": "IPY_MODEL_e10ea5996163452083596fb3b7607f6f",
            "value": " 101/101 [03:52&lt;00:00,  2.10s/it]"
          }
        },
        "53688655b7654ee4a64ad29341631218": {
          "model_module": "@jupyter-widgets/base",
          "model_name": "LayoutModel",
          "model_module_version": "1.2.0",
          "state": {
            "_model_module": "@jupyter-widgets/base",
            "_model_module_version": "1.2.0",
            "_model_name": "LayoutModel",
            "_view_count": null,
            "_view_module": "@jupyter-widgets/base",
            "_view_module_version": "1.2.0",
            "_view_name": "LayoutView",
            "align_content": null,
            "align_items": null,
            "align_self": null,
            "border": null,
            "bottom": null,
            "display": null,
            "flex": null,
            "flex_flow": null,
            "grid_area": null,
            "grid_auto_columns": null,
            "grid_auto_flow": null,
            "grid_auto_rows": null,
            "grid_column": null,
            "grid_gap": null,
            "grid_row": null,
            "grid_template_areas": null,
            "grid_template_columns": null,
            "grid_template_rows": null,
            "height": null,
            "justify_content": null,
            "justify_items": null,
            "left": null,
            "margin": null,
            "max_height": null,
            "max_width": null,
            "min_height": null,
            "min_width": null,
            "object_fit": null,
            "object_position": null,
            "order": null,
            "overflow": null,
            "overflow_x": null,
            "overflow_y": null,
            "padding": null,
            "right": null,
            "top": null,
            "visibility": null,
            "width": null
          }
        },
        "a4ee692d8713421eb3a6e25144ced7b6": {
          "model_module": "@jupyter-widgets/base",
          "model_name": "LayoutModel",
          "model_module_version": "1.2.0",
          "state": {
            "_model_module": "@jupyter-widgets/base",
            "_model_module_version": "1.2.0",
            "_model_name": "LayoutModel",
            "_view_count": null,
            "_view_module": "@jupyter-widgets/base",
            "_view_module_version": "1.2.0",
            "_view_name": "LayoutView",
            "align_content": null,
            "align_items": null,
            "align_self": null,
            "border": null,
            "bottom": null,
            "display": null,
            "flex": null,
            "flex_flow": null,
            "grid_area": null,
            "grid_auto_columns": null,
            "grid_auto_flow": null,
            "grid_auto_rows": null,
            "grid_column": null,
            "grid_gap": null,
            "grid_row": null,
            "grid_template_areas": null,
            "grid_template_columns": null,
            "grid_template_rows": null,
            "height": null,
            "justify_content": null,
            "justify_items": null,
            "left": null,
            "margin": null,
            "max_height": null,
            "max_width": null,
            "min_height": null,
            "min_width": null,
            "object_fit": null,
            "object_position": null,
            "order": null,
            "overflow": null,
            "overflow_x": null,
            "overflow_y": null,
            "padding": null,
            "right": null,
            "top": null,
            "visibility": null,
            "width": null
          }
        },
        "63efb06fda5446f18de807febb8053dd": {
          "model_module": "@jupyter-widgets/controls",
          "model_name": "DescriptionStyleModel",
          "model_module_version": "1.5.0",
          "state": {
            "_model_module": "@jupyter-widgets/controls",
            "_model_module_version": "1.5.0",
            "_model_name": "DescriptionStyleModel",
            "_view_count": null,
            "_view_module": "@jupyter-widgets/base",
            "_view_module_version": "1.2.0",
            "_view_name": "StyleView",
            "description_width": ""
          }
        },
        "575beded90fe438fac3cce56909ba70e": {
          "model_module": "@jupyter-widgets/base",
          "model_name": "LayoutModel",
          "model_module_version": "1.2.0",
          "state": {
            "_model_module": "@jupyter-widgets/base",
            "_model_module_version": "1.2.0",
            "_model_name": "LayoutModel",
            "_view_count": null,
            "_view_module": "@jupyter-widgets/base",
            "_view_module_version": "1.2.0",
            "_view_name": "LayoutView",
            "align_content": null,
            "align_items": null,
            "align_self": null,
            "border": null,
            "bottom": null,
            "display": null,
            "flex": null,
            "flex_flow": null,
            "grid_area": null,
            "grid_auto_columns": null,
            "grid_auto_flow": null,
            "grid_auto_rows": null,
            "grid_column": null,
            "grid_gap": null,
            "grid_row": null,
            "grid_template_areas": null,
            "grid_template_columns": null,
            "grid_template_rows": null,
            "height": null,
            "justify_content": null,
            "justify_items": null,
            "left": null,
            "margin": null,
            "max_height": null,
            "max_width": null,
            "min_height": null,
            "min_width": null,
            "object_fit": null,
            "object_position": null,
            "order": null,
            "overflow": null,
            "overflow_x": null,
            "overflow_y": null,
            "padding": null,
            "right": null,
            "top": null,
            "visibility": null,
            "width": null
          }
        },
        "2a9bc9230b894848aba4a9e0a590d427": {
          "model_module": "@jupyter-widgets/controls",
          "model_name": "ProgressStyleModel",
          "model_module_version": "1.5.0",
          "state": {
            "_model_module": "@jupyter-widgets/controls",
            "_model_module_version": "1.5.0",
            "_model_name": "ProgressStyleModel",
            "_view_count": null,
            "_view_module": "@jupyter-widgets/base",
            "_view_module_version": "1.2.0",
            "_view_name": "StyleView",
            "bar_color": null,
            "description_width": ""
          }
        },
        "d424e18afe894123be7f1a9d5eb0349e": {
          "model_module": "@jupyter-widgets/base",
          "model_name": "LayoutModel",
          "model_module_version": "1.2.0",
          "state": {
            "_model_module": "@jupyter-widgets/base",
            "_model_module_version": "1.2.0",
            "_model_name": "LayoutModel",
            "_view_count": null,
            "_view_module": "@jupyter-widgets/base",
            "_view_module_version": "1.2.0",
            "_view_name": "LayoutView",
            "align_content": null,
            "align_items": null,
            "align_self": null,
            "border": null,
            "bottom": null,
            "display": null,
            "flex": null,
            "flex_flow": null,
            "grid_area": null,
            "grid_auto_columns": null,
            "grid_auto_flow": null,
            "grid_auto_rows": null,
            "grid_column": null,
            "grid_gap": null,
            "grid_row": null,
            "grid_template_areas": null,
            "grid_template_columns": null,
            "grid_template_rows": null,
            "height": null,
            "justify_content": null,
            "justify_items": null,
            "left": null,
            "margin": null,
            "max_height": null,
            "max_width": null,
            "min_height": null,
            "min_width": null,
            "object_fit": null,
            "object_position": null,
            "order": null,
            "overflow": null,
            "overflow_x": null,
            "overflow_y": null,
            "padding": null,
            "right": null,
            "top": null,
            "visibility": null,
            "width": null
          }
        },
        "e10ea5996163452083596fb3b7607f6f": {
          "model_module": "@jupyter-widgets/controls",
          "model_name": "DescriptionStyleModel",
          "model_module_version": "1.5.0",
          "state": {
            "_model_module": "@jupyter-widgets/controls",
            "_model_module_version": "1.5.0",
            "_model_name": "DescriptionStyleModel",
            "_view_count": null,
            "_view_module": "@jupyter-widgets/base",
            "_view_module_version": "1.2.0",
            "_view_name": "StyleView",
            "description_width": ""
          }
        }
      }
    }
  },
  "cells": [
    {
      "cell_type": "markdown",
      "metadata": {
        "id": "YeM0ZBWUVtXR"
      },
      "source": [
        "# <font color='red'>SGD Algorithm to predict movie ratings</font>"
      ]
    },
    {
      "cell_type": "markdown",
      "metadata": {
        "id": "M2vyJqSlmmjM"
      },
      "source": [
        "**There will be some functions that start with the word \"grader\" ex: grader_matrix(), grader_mean(), grader_dim() etc, you should not change those function definition.<br><br>Every Grader function has to return True.**"
      ]
    },
    {
      "cell_type": "markdown",
      "metadata": {
        "id": "AL6njTf8WBO0"
      },
      "source": [
        "<pre>\n",
        "1. Download the data from <a href='https://drive.google.com/open?id=1-1z7iDB52cB6_JpO7Dqa-eOYSs-mivpq'> here </a>\n",
        "2. The data will be of this format, each data point is represented as a triplet of user_id, movie_id and rating \n",
        "<table>\n",
        "<tr><th>user_id</th><th>movie_id</th><th>rating</th></tr>\n",
        "<tr><td>77</td><td>236</td><td>3</td></tr>\n",
        "<tr><td>471</td><td>208</td><td>5</td></tr>\n",
        "<tr><td>641</td><td>401</td><td>4</td></tr>\n",
        "<tr><td>31</td><td>298</td><td>4</td></tr>\n",
        "<tr><td>58</td><td>504</td><td>5</td></tr>\n",
        "<tr><td>235</td><td>727</td><td>5</td></tr>\n",
        "</table>"
      ]
    },
    {
      "cell_type": "markdown",
      "metadata": {
        "id": "73dhFsT0WSSB"
      },
      "source": [
        "## <font color='red'>Task 1</font>"
      ]
    },
    {
      "cell_type": "markdown",
      "metadata": {
        "id": "HY0frS6EWaEV"
      },
      "source": [
        "<font color='red'><b>Predict the rating for a given (user_id, movie_id) pair </b> </font>\n"
      ]
    },
    {
      "cell_type": "markdown",
      "metadata": {
        "id": "R-ISYxaVbT8L"
      },
      "source": [
        "Predicted rating $\\hat{y}_{ij}$ for user i, movied j pair is calcuated as $\\hat{y}_{ij} = \\mu + b_i + c_j + u_i^T v_j$ , here we will be finding the best values of $b_{i}$ and $c_{j}$ using SGD algorithm with the optimization problem for N users and M movies is defined as"
      ]
    },
    {
      "cell_type": "markdown",
      "metadata": {
        "id": "8Aj8SXeQWlZd"
      },
      "source": [
        "$$\n",
        "L = \\min_{ b, c, \\{ u_i \\}_{i=1}^N, \\{ v_j \\}_{j=1}^M}\n",
        "\\quad\n",
        "\\alpha \\Big(\n",
        "    \\sum_{j} \\sum_{k} v_{jk}^2 \n",
        "    + \\sum_{i} \\sum_{k} u_{ik}^2 \n",
        "    + \\sum_{i} b_i^2\n",
        "    + \\sum_{j} c_i^2\n",
        "    \\Big)\n",
        "+ \\sum_{i,j \\in \\mathcal{I}^{\\text{train}}}\n",
        "    (y_{ij} - \\mu - b_i - c_j - u_i^T v_j)^2\n",
        "$$"
      ]
    },
    {
      "cell_type": "markdown",
      "metadata": {
        "id": "2Q5bnWyZXrM7"
      },
      "source": [
        "<ul>\n",
        "<li><span class=\"math\">\\(\\mu\\)</span> : scalar mean rating</li>\n",
        "<li><span class=\"math\">\\(b_i\\)</span> : scalar bias term for user <span class=\"math\">\\(i\\)</span></li>\n",
        "<li><span class=\"math\">\\(c_j\\)</span> : scalar bias term for movie <span class=\"math\">\\(j\\)</span></li>\n",
        "<li><span class=\"math\">\\(u_i\\)</span> : K-dimensional vector for user <span class=\"math\">\\(i\\)</span></li>\n",
        "<li><span class=\"math\">\\(v_j\\)</span> : K-dimensional vector for movie <span class=\"math\">\\(j\\)</span></li>\n",
        "</ul>\n",
        "\n",
        " $ \\ $\n"
      ]
    },
    {
      "cell_type": "markdown",
      "metadata": {
        "id": "q1cf4CunbEr4"
      },
      "source": [
        "\n",
        "\n",
        "\n",
        "*.  We will be giving you some functions, please write code in that functions only.\n",
        "\n",
        "*.  After every function, we will be giving you expected output, please make sure that you get that output. \n",
        "\n",
        "\n",
        "\n"
      ]
    },
    {
      "cell_type": "markdown",
      "metadata": {
        "id": "ZWQyB5hfy3u7"
      },
      "source": [
        "1. Construct adjacency matrix with the given data, assuming its graph and the weight of each edge is the rating given by user to the movie\n",
        "\n",
        "<img src='https://i.imgur.com/rmUCGMb.jpg' width=200>\n",
        "\n",
        "   you can construct this matrix like $A[i][j]=r_{ij}$ here $i$ is user_id, $j$ is movie_id and $r_{ij}$ is rating given by user $i$ to the movie $j$\n",
        "\n",
        "   Hint : you can create adjacency matrix using <a href='https://docs.scipy.org/doc/scipy/reference/generated/scipy.sparse.csr_matrix.html'> csr_matrix</a>\n",
        "\n",
        "2. We will Apply SVD decomposition on the Adjaceny matrix <a href='https://stackoverflow.com/a/31528944/4084039'>link1</a>, <a href='https://machinelearningmastery.com/singular-value-decomposition-for-machine-learning/'> link2</a> and get three matrices $U, \\sum, V$ such that $U \\times \\sum \\times V^T = A$, <br> \n",
        "if $A$ is of dimensions $N \\times M$ then <br>\n",
        "U is of $N \\times k$, <br>\n",
        "$\\sum$ is of $k \\times k$ and <br>\n",
        "$V$ is $M \\times k$ dimensions. <br>\n",
        "\n",
        "   *.  So the matrix $U$ can be represented as matrix representation of users, where each row $u_{i}$ represents a k-dimensional vector for a user\n",
        "\n",
        "   *. So the matrix $V$ can be represented as matrix representation of movies, where each row $v_{j}$ represents a k-dimensional vector for a movie.\n",
        "3. Compute $\\mu$ , $\\mu$  represents the mean of all the rating given in the dataset.(write your code in <font color='blue'>def m_u()</font>)\n",
        "4. For each unique user initilize a bias value $B_{i}$ to zero, so if we have $N$ users $B$ will be a $N$ dimensional vector, the $i^{th}$ value of the $B$ will corresponds to the bias term for $i^{th}$ user (write your code in <font color='blue'>def initialize()</font>)\n",
        "\n",
        "5. For each unique movie initilize a bias value $C_{j}$ zero, so if we have $M$ movies $C$ will be a $M$ dimensional vector, the $j^{th}$ value of the $C$ will corresponds to the bias term for $j^{th}$ movie (write your code in <font color='blue'>def initialize()</font>)\n",
        "\n",
        "6. Compute dL/db_i (Write you code in <font color='blue'> def derivative_db()</font>)\n",
        "7. Compute dL/dc_j(write your code in <font color='blue'> def derivative_dc()</font>\n",
        "\n",
        "8. Print the mean squared error with predicted ratings.\n",
        "\n",
        "<pre>\n",
        "for each epoch:\n",
        "    for each pair of (user, movie):\n",
        "        b_i =  b_i - learning_rate * dL/db_i\n",
        "        c_j =  c_j - learning_rate * dL/dc_j\n",
        "predict the ratings with formula\n",
        "</pre>\n",
        "$\\hat{y}_{ij} = \\mu + b_i + c_j + \\text{dot_product}(u_i , v_j) $\n",
        "\n",
        "9. you can choose any learning rate and regularization term in the range $10^{-3}  \\text{ to } 10^2$  <br>\n",
        "  \n",
        "10. __bonus__: instead of using SVD decomposition you can learn the vectors $u_i$, $v_j$ with the help of SGD algo similar to $b_i$ and $c_j$ "
      ]
    },
    {
      "cell_type": "code",
      "metadata": {
        "id": "VlPVJoZ8JN4P"
      },
      "source": [],
      "execution_count": null,
      "outputs": []
    },
    {
      "cell_type": "code",
      "metadata": {
        "id": "Q2XrlYeuJOFq"
      },
      "source": [],
      "execution_count": null,
      "outputs": []
    },
    {
      "cell_type": "markdown",
      "metadata": {
        "id": "3-aBnRepA6gy"
      },
      "source": [
        "<br>"
      ]
    },
    {
      "cell_type": "markdown",
      "metadata": {
        "id": "IP_6xMAZA4mE"
      },
      "source": [
        " # <font color='red'>Task 2 </font>"
      ]
    },
    {
      "cell_type": "markdown",
      "metadata": {
        "id": "-9HCN_3WA2au"
      },
      "source": [
        "As we know U is the learned matrix of user vectors, with its i-th row as the vector ui for user i. Each row of U can be seen as a \"feature vector\" for a particular user.\n",
        "\n",
        "The question we'd like to investigate is this: do our computed per-user features that are optimized for predicting movie ratings contain anything to do with gender?\n",
        "\n",
        "The provided data file <a href='https://drive.google.com/open?id=1PHFdJh_4gIPiLH5Q4UErH8GK71hTrzlY'>user_info.csv</a> contains an is_male column indicating which users in the dataset are male. Can you predict this signal given the features U?\n",
        "\n",
        "\n",
        "> __Note 1__ : there is no train test split in the data, the goal of this assignment is to give an intution about how to do matrix factorization with the help of SGD and application of truncated SVD. for better understanding of the collabarative fillerting please check netflix case study. <br><br>\n",
        "> __Note 2__ : Check if scaling of $U$, $V$ matrices improve the metric "
      ]
    },
    {
      "cell_type": "markdown",
      "metadata": {
        "id": "ovFCo1JCBIXM"
      },
      "source": [
        "<br>\n",
        "\n",
        "\n",
        "<br>"
      ]
    },
    {
      "cell_type": "markdown",
      "metadata": {
        "id": "iVJo-3njBQLf"
      },
      "source": [
        "<font color='red'> Reading the csv file </font>"
      ]
    },
    {
      "cell_type": "code",
      "source": [
        "from google.colab import drive\n",
        "drive.mount('/content/drive')"
      ],
      "metadata": {
        "colab": {
          "base_uri": "https://localhost:8080/"
        },
        "id": "2wsbQPoNqDQr",
        "outputId": "fdde046a-3ed0-41d3-e3e3-3f885ab2d71a"
      },
      "execution_count": 2,
      "outputs": [
        {
          "output_type": "stream",
          "name": "stdout",
          "text": [
            "Mounted at /content/drive\n"
          ]
        }
      ]
    },
    {
      "cell_type": "code",
      "metadata": {
        "colab": {
          "base_uri": "https://localhost:8080/",
          "height": 206
        },
        "id": "hEhmfRD637EW",
        "outputId": "1403f0da-f598-4a1c-e65a-f593a5d921b0"
      },
      "source": [
        "import pandas as pd\n",
        "path_dir = '/content/drive/MyDrive/Colab Notebooks/AAIC_Assignments/solving/15_RecommendationSystem_Truncated SVD SGD algorithm to predict ratings/ratings_train.csv'\n",
        "# data=pd.read_csv('ratings_train.cs)\n",
        "data=pd.read_csv(path_dir)\n",
        "data.head()"
      ],
      "execution_count": 5,
      "outputs": [
        {
          "output_type": "execute_result",
          "data": {
            "text/plain": [
              "   user_id  item_id  rating\n",
              "0      772       36       3\n",
              "1      471      228       5\n",
              "2      641      401       4\n",
              "3      312       98       4\n",
              "4       58      504       5"
            ],
            "text/html": [
              "\n",
              "  <div id=\"df-a2d7ba97-8e57-4937-b202-a497144554ab\">\n",
              "    <div class=\"colab-df-container\">\n",
              "      <div>\n",
              "<style scoped>\n",
              "    .dataframe tbody tr th:only-of-type {\n",
              "        vertical-align: middle;\n",
              "    }\n",
              "\n",
              "    .dataframe tbody tr th {\n",
              "        vertical-align: top;\n",
              "    }\n",
              "\n",
              "    .dataframe thead th {\n",
              "        text-align: right;\n",
              "    }\n",
              "</style>\n",
              "<table border=\"1\" class=\"dataframe\">\n",
              "  <thead>\n",
              "    <tr style=\"text-align: right;\">\n",
              "      <th></th>\n",
              "      <th>user_id</th>\n",
              "      <th>item_id</th>\n",
              "      <th>rating</th>\n",
              "    </tr>\n",
              "  </thead>\n",
              "  <tbody>\n",
              "    <tr>\n",
              "      <th>0</th>\n",
              "      <td>772</td>\n",
              "      <td>36</td>\n",
              "      <td>3</td>\n",
              "    </tr>\n",
              "    <tr>\n",
              "      <th>1</th>\n",
              "      <td>471</td>\n",
              "      <td>228</td>\n",
              "      <td>5</td>\n",
              "    </tr>\n",
              "    <tr>\n",
              "      <th>2</th>\n",
              "      <td>641</td>\n",
              "      <td>401</td>\n",
              "      <td>4</td>\n",
              "    </tr>\n",
              "    <tr>\n",
              "      <th>3</th>\n",
              "      <td>312</td>\n",
              "      <td>98</td>\n",
              "      <td>4</td>\n",
              "    </tr>\n",
              "    <tr>\n",
              "      <th>4</th>\n",
              "      <td>58</td>\n",
              "      <td>504</td>\n",
              "      <td>5</td>\n",
              "    </tr>\n",
              "  </tbody>\n",
              "</table>\n",
              "</div>\n",
              "      <button class=\"colab-df-convert\" onclick=\"convertToInteractive('df-a2d7ba97-8e57-4937-b202-a497144554ab')\"\n",
              "              title=\"Convert this dataframe to an interactive table.\"\n",
              "              style=\"display:none;\">\n",
              "        \n",
              "  <svg xmlns=\"http://www.w3.org/2000/svg\" height=\"24px\"viewBox=\"0 0 24 24\"\n",
              "       width=\"24px\">\n",
              "    <path d=\"M0 0h24v24H0V0z\" fill=\"none\"/>\n",
              "    <path d=\"M18.56 5.44l.94 2.06.94-2.06 2.06-.94-2.06-.94-.94-2.06-.94 2.06-2.06.94zm-11 1L8.5 8.5l.94-2.06 2.06-.94-2.06-.94L8.5 2.5l-.94 2.06-2.06.94zm10 10l.94 2.06.94-2.06 2.06-.94-2.06-.94-.94-2.06-.94 2.06-2.06.94z\"/><path d=\"M17.41 7.96l-1.37-1.37c-.4-.4-.92-.59-1.43-.59-.52 0-1.04.2-1.43.59L10.3 9.45l-7.72 7.72c-.78.78-.78 2.05 0 2.83L4 21.41c.39.39.9.59 1.41.59.51 0 1.02-.2 1.41-.59l7.78-7.78 2.81-2.81c.8-.78.8-2.07 0-2.86zM5.41 20L4 18.59l7.72-7.72 1.47 1.35L5.41 20z\"/>\n",
              "  </svg>\n",
              "      </button>\n",
              "      \n",
              "  <style>\n",
              "    .colab-df-container {\n",
              "      display:flex;\n",
              "      flex-wrap:wrap;\n",
              "      gap: 12px;\n",
              "    }\n",
              "\n",
              "    .colab-df-convert {\n",
              "      background-color: #E8F0FE;\n",
              "      border: none;\n",
              "      border-radius: 50%;\n",
              "      cursor: pointer;\n",
              "      display: none;\n",
              "      fill: #1967D2;\n",
              "      height: 32px;\n",
              "      padding: 0 0 0 0;\n",
              "      width: 32px;\n",
              "    }\n",
              "\n",
              "    .colab-df-convert:hover {\n",
              "      background-color: #E2EBFA;\n",
              "      box-shadow: 0px 1px 2px rgba(60, 64, 67, 0.3), 0px 1px 3px 1px rgba(60, 64, 67, 0.15);\n",
              "      fill: #174EA6;\n",
              "    }\n",
              "\n",
              "    [theme=dark] .colab-df-convert {\n",
              "      background-color: #3B4455;\n",
              "      fill: #D2E3FC;\n",
              "    }\n",
              "\n",
              "    [theme=dark] .colab-df-convert:hover {\n",
              "      background-color: #434B5C;\n",
              "      box-shadow: 0px 1px 3px 1px rgba(0, 0, 0, 0.15);\n",
              "      filter: drop-shadow(0px 1px 2px rgba(0, 0, 0, 0.3));\n",
              "      fill: #FFFFFF;\n",
              "    }\n",
              "  </style>\n",
              "\n",
              "      <script>\n",
              "        const buttonEl =\n",
              "          document.querySelector('#df-a2d7ba97-8e57-4937-b202-a497144554ab button.colab-df-convert');\n",
              "        buttonEl.style.display =\n",
              "          google.colab.kernel.accessAllowed ? 'block' : 'none';\n",
              "\n",
              "        async function convertToInteractive(key) {\n",
              "          const element = document.querySelector('#df-a2d7ba97-8e57-4937-b202-a497144554ab');\n",
              "          const dataTable =\n",
              "            await google.colab.kernel.invokeFunction('convertToInteractive',\n",
              "                                                     [key], {});\n",
              "          if (!dataTable) return;\n",
              "\n",
              "          const docLinkHtml = 'Like what you see? Visit the ' +\n",
              "            '<a target=\"_blank\" href=https://colab.research.google.com/notebooks/data_table.ipynb>data table notebook</a>'\n",
              "            + ' to learn more about interactive tables.';\n",
              "          element.innerHTML = '';\n",
              "          dataTable['output_type'] = 'display_data';\n",
              "          await google.colab.output.renderOutput(dataTable, element);\n",
              "          const docLink = document.createElement('div');\n",
              "          docLink.innerHTML = docLinkHtml;\n",
              "          element.appendChild(docLink);\n",
              "        }\n",
              "      </script>\n",
              "    </div>\n",
              "  </div>\n",
              "  "
            ]
          },
          "metadata": {},
          "execution_count": 5
        }
      ]
    },
    {
      "cell_type": "code",
      "metadata": {
        "colab": {
          "base_uri": "https://localhost:8080/"
        },
        "id": "66ibGJ74hCde",
        "outputId": "4739d537-9ff7-47f4-bf20-2aeaca888972"
      },
      "source": [
        "data.shape"
      ],
      "execution_count": 6,
      "outputs": [
        {
          "output_type": "execute_result",
          "data": {
            "text/plain": [
              "(89992, 3)"
            ]
          },
          "metadata": {},
          "execution_count": 6
        }
      ]
    },
    {
      "cell_type": "markdown",
      "metadata": {
        "id": "mvB8SDS_hW03"
      },
      "source": [
        "<font color='red'>Create your adjacency matrix </font>"
      ]
    },
    {
      "cell_type": "code",
      "source": [
        "user_i=data['user_id']\n",
        "movie_j=data['item_id']\n",
        "#converting dtype: pandas --> list\n",
        "rating=data['rating'].values.tolist()\n",
        "user_info= user_i.values.tolist()\n",
        "movie_info= movie_j.values.tolist()\n"
      ],
      "metadata": {
        "id": "757kvNLpp_ua"
      },
      "execution_count": 55,
      "outputs": []
    },
    {
      "cell_type": "code",
      "metadata": {
        "id": "t44MNT40hZQW"
      },
      "source": [
        "from scipy.sparse import csr_matrix\n",
        "user_i=data['user_id']\n",
        "user_i=data['item_id']\n",
        "# write your code of adjacency matrix here\n",
        "adjacency_matrix = csr_matrix((rating,(user_info, movie_info))).toarray() "
      ],
      "execution_count": 56,
      "outputs": []
    },
    {
      "cell_type": "code",
      "metadata": {
        "id": "-mCgC0WbhZTO",
        "colab": {
          "base_uri": "https://localhost:8080/"
        },
        "outputId": "6fe12de3-e097-43c4-8575-312f8701d3ed"
      },
      "source": [
        "adjacency_matrix.shape"
      ],
      "execution_count": 57,
      "outputs": [
        {
          "output_type": "execute_result",
          "data": {
            "text/plain": [
              "(943, 1681)"
            ]
          },
          "metadata": {},
          "execution_count": 57
        }
      ]
    },
    {
      "cell_type": "markdown",
      "metadata": {
        "id": "4acJD4ujEtD6"
      },
      "source": [
        "<font color='cyan'>Grader function - 1</font>"
      ]
    },
    {
      "cell_type": "code",
      "metadata": {
        "id": "2QuTzFBREsDV",
        "colab": {
          "base_uri": "https://localhost:8080/"
        },
        "outputId": "b6200d61-cf9a-471c-aa27-589cbcd78789"
      },
      "source": [
        "def grader_matrix(matrix):\n",
        "  assert(matrix.shape==(943,1681))\n",
        "  return True\n",
        "grader_matrix(adjacency_matrix)"
      ],
      "execution_count": 58,
      "outputs": [
        {
          "output_type": "execute_result",
          "data": {
            "text/plain": [
              "True"
            ]
          },
          "metadata": {},
          "execution_count": 58
        }
      ]
    },
    {
      "cell_type": "markdown",
      "metadata": {
        "id": "U7VwkRNeHpWE"
      },
      "source": [
        "**The unique items in the given csv file are 1662 only . But the id's vary from 0-1681 but they are not continuous and hence \n",
        "you'll get matrix of size 943x1681.**"
      ]
    },
    {
      "cell_type": "markdown",
      "metadata": {
        "id": "gXDf1RCUBsYN"
      },
      "source": [
        "<font color='red'> SVD decompostion</font>"
      ]
    },
    {
      "cell_type": "markdown",
      "metadata": {
        "id": "OJPWI9VwD_ih"
      },
      "source": [
        "Sample code for SVD decompostion"
      ]
    },
    {
      "cell_type": "code",
      "metadata": {
        "colab": {
          "base_uri": "https://localhost:8080/"
        },
        "id": "GATD35bmBszc",
        "outputId": "eb98619d-8c20-4b64-96f0-cdb1e3c12af1"
      },
      "source": [
        "from sklearn.utils.extmath import randomized_svd\n",
        "import numpy as np \n",
        "matrix = np.random.random((20, 10))\n",
        "U, Sigma, VT = randomized_svd(matrix, n_components=5,n_iter=5, random_state=None)\n",
        "print(U.shape)\n",
        "print(Sigma.shape)\n",
        "print(VT.T.shape)"
      ],
      "execution_count": 13,
      "outputs": [
        {
          "output_type": "stream",
          "name": "stdout",
          "text": [
            "(20, 5)\n",
            "(5,)\n",
            "(10, 5)\n"
          ]
        }
      ]
    },
    {
      "cell_type": "markdown",
      "metadata": {
        "id": "ePDgwALQEJoB"
      },
      "source": [
        "<font color='red'>Write your code for SVD decompostion</font>"
      ]
    },
    {
      "cell_type": "code",
      "metadata": {
        "id": "ZYnsKBmFEIg3",
        "colab": {
          "base_uri": "https://localhost:8080/"
        },
        "outputId": "28c9bebc-6983-4515-ffec-e6683d4bb157"
      },
      "source": [
        "# Please use adjacency_matrix as matrix for SVD decompostion\n",
        "# You can choose n_components as your choice\n",
        "U, Sigma, VT = randomized_svd(adjacency_matrix, n_components=5,n_iter=5, random_state=None)\n",
        "print('-'*45)\n",
        "print('Shape of Left Singular vectors: ',U.shape)\n",
        "print('Shape of Diagonal of Singular values: ',Sigma.shape)\n",
        "print('Shape of Right Singular vectors: ',VT.T.shape)\n",
        "print('-'*45)"
      ],
      "execution_count": 61,
      "outputs": [
        {
          "output_type": "stream",
          "name": "stdout",
          "text": [
            "---------------------------------------------\n",
            "Shape of Left Singular vectors:  (943, 5)\n",
            "Shape of Diagonal of Singular values:  (5,)\n",
            "Shape of Right Singular vectors:  (1681, 5)\n",
            "---------------------------------------------\n"
          ]
        }
      ]
    },
    {
      "cell_type": "markdown",
      "metadata": {
        "id": "83Vh4NoO_JyU"
      },
      "source": [
        "<font color='red'>Compute mean of ratings</font>"
      ]
    },
    {
      "cell_type": "code",
      "metadata": {
        "id": "cBHuCn2QSEnl"
      },
      "source": [
        "def m_u(ratings):\n",
        "    '''In this function, we will compute mean for all the ratings'''\n",
        "    # you can use mean() function to do this\n",
        "    # check this (https://pandas.pydata.org/pandas-docs/stable/reference/api/pandas.DataFrame.mean.html) link for more details.\n",
        "    res_mean = np.mean(ratings)\n",
        "\n",
        "    return res_mean"
      ],
      "execution_count": 62,
      "outputs": []
    },
    {
      "cell_type": "code",
      "metadata": {
        "id": "iu1nn-1x3ebp",
        "colab": {
          "base_uri": "https://localhost:8080/"
        },
        "outputId": "68ab017a-bd10-4b7a-f71b-ca7d005359b7"
      },
      "source": [
        "mu=m_u(data['rating'])\n",
        "print(mu)"
      ],
      "execution_count": 63,
      "outputs": [
        {
          "output_type": "stream",
          "name": "stdout",
          "text": [
            "3.529480398257623\n"
          ]
        }
      ]
    },
    {
      "cell_type": "markdown",
      "metadata": {
        "id": "76ooYQIdG_tf"
      },
      "source": [
        "<font color='cyan'>Grader function -2 </font>"
      ]
    },
    {
      "cell_type": "code",
      "metadata": {
        "id": "TZy1m67oG9r9",
        "colab": {
          "base_uri": "https://localhost:8080/"
        },
        "outputId": "ad8ea7b9-b294-4d67-ce08-6054007bf370"
      },
      "source": [
        "def grader_mean(mu):\n",
        "  assert(np.round(mu,3)==3.529)\n",
        "  return True\n",
        "mu=m_u(data['rating'])\n",
        "grader_mean(mu)"
      ],
      "execution_count": 18,
      "outputs": [
        {
          "output_type": "execute_result",
          "data": {
            "text/plain": [
              "True"
            ]
          },
          "metadata": {},
          "execution_count": 18
        }
      ]
    },
    {
      "cell_type": "markdown",
      "metadata": {
        "id": "qSvAW1X94g3G"
      },
      "source": [
        "<font color='red'>Initialize $B_{i}$ and $C_{j}$"
      ]
    },
    {
      "cell_type": "markdown",
      "metadata": {
        "id": "qsOl-4xq5aUG"
      },
      "source": [
        "Hint : Number of rows of adjacent matrix corresponds to user dimensions($B_{i}$), number of columns of adjacent matrix corresponds to movie dimensions ($C_{j}$)"
      ]
    },
    {
      "cell_type": "code",
      "metadata": {
        "id": "AyEJqPka4lBW"
      },
      "source": [
        "def initialize(dim):\n",
        "    '''In this function, we will initialize bias value 'B' and 'C'.'''\n",
        "    # initalize the value to zeros \n",
        "    # return output as a list of zeros \n",
        "    init_zero = np.zeros(dim)\n",
        "    \n",
        "\n",
        "    return init_zero"
      ],
      "execution_count": 64,
      "outputs": []
    },
    {
      "cell_type": "code",
      "source": [
        "# adjacency_matrix.shape, len(adjacency_matrix), adjacency_matrix.shape[0], adjacency_matrix.shape[1]"
      ],
      "metadata": {
        "colab": {
          "base_uri": "https://localhost:8080/"
        },
        "id": "biFu5CvU-cL2",
        "outputId": "7fe303c8-179a-42b6-ac12-a7f57541635e"
      },
      "execution_count": 70,
      "outputs": [
        {
          "output_type": "execute_result",
          "data": {
            "text/plain": [
              "((943, 1681), 943, 943, 1681)"
            ]
          },
          "metadata": {},
          "execution_count": 70
        }
      ]
    },
    {
      "cell_type": "code",
      "metadata": {
        "id": "Nlae9QAQ43Xz"
      },
      "source": [
        "# give the number of dimensions for b_i (Here b_i corresponds to users)\n",
        "dim= adjacency_matrix.shape[0]\n",
        "b_i=initialize(dim)"
      ],
      "execution_count": 71,
      "outputs": []
    },
    {
      "cell_type": "code",
      "metadata": {
        "id": "rwuopn4HoEbP"
      },
      "source": [
        "# give the number of dimensions for c_j (Here c_j corresponds to movies)\n",
        "dim= adjacency_matrix.shape[1]\n",
        "c_j=initialize(dim)"
      ],
      "execution_count": 72,
      "outputs": []
    },
    {
      "cell_type": "markdown",
      "metadata": {
        "id": "nfPJ3_h6JIkI"
      },
      "source": [
        "<font color='cyan'>Grader function -3 </font>"
      ]
    },
    {
      "cell_type": "code",
      "metadata": {
        "id": "dQhiNjw0Hz4m",
        "colab": {
          "base_uri": "https://localhost:8080/"
        },
        "outputId": "6448dbd6-d7b4-4b6c-b2fc-f4be7d75125f"
      },
      "source": [
        "def grader_dim(b_i,c_j):\n",
        "  assert(len(b_i)==943 and np.sum(b_i)==0)\n",
        "  assert(len(c_j)==1681 and np.sum(c_j)==0)\n",
        "  return True\n",
        "grader_dim(b_i,c_j)"
      ],
      "execution_count": 23,
      "outputs": [
        {
          "output_type": "execute_result",
          "data": {
            "text/plain": [
              "True"
            ]
          },
          "metadata": {},
          "execution_count": 23
        }
      ]
    },
    {
      "cell_type": "markdown",
      "metadata": {
        "id": "DTDK4ZR18MrZ"
      },
      "source": [
        "<font color='red'>Compute dL/db_i</font>"
      ]
    },
    {
      "cell_type": "code",
      "metadata": {
        "id": "3NFzVC1N8S4L"
      },
      "source": [
        "def derivative_db(user_id,item_id,rating,U,V,mu,alpha):\n",
        "    '''In this function, we will compute dL/db_i'''\n",
        "    #derivate term of Regularizer-term\n",
        "    reg_b = alpha * 2*b_i[user_id]\n",
        "    #derivate term of Loss-term\n",
        "    loss_b = 2*(rating-mu-b_i[user_id]-c_j[item_id]-np.dot(U[user_id],np.transpose(V)[item_id]))\n",
        "\n",
        "    dL_db_i = reg_b - loss_b\n",
        "    return dL_db_i\n"
      ],
      "execution_count": 77,
      "outputs": []
    },
    {
      "cell_type": "markdown",
      "metadata": {
        "id": "ilISrTeQ0f0v"
      },
      "source": [
        "<font color='cyan'>Grader function -4 </font>"
      ]
    },
    {
      "cell_type": "code",
      "metadata": {
        "id": "Wt5ixEVZ043U",
        "colab": {
          "base_uri": "https://localhost:8080/"
        },
        "outputId": "99017ea7-8878-4f38-bc2b-649b510fcb65"
      },
      "source": [
        "def grader_db(value):\n",
        "    assert(np.round(value,3)==-0.931)\n",
        "    return True\n",
        "U1, Sigma, V1 = randomized_svd(adjacency_matrix, n_components=2,n_iter=5, random_state=24)\n",
        "# Please don't change random state\n",
        "# Here we are considering n_componets = 2 for our convinence\n",
        "alpha=0.01 \n",
        "value=derivative_db(312,98,4,U1,V1,mu,alpha)\n",
        "grader_db(value)"
      ],
      "execution_count": 78,
      "outputs": [
        {
          "output_type": "execute_result",
          "data": {
            "text/plain": [
              "True"
            ]
          },
          "metadata": {},
          "execution_count": 78
        }
      ]
    },
    {
      "cell_type": "markdown",
      "metadata": {
        "id": "1Kp0hC_b9v60"
      },
      "source": [
        "<font color='red'>Compute dL/dc_j</font>"
      ]
    },
    {
      "cell_type": "code",
      "metadata": {
        "id": "FAtSYMrc9UqJ"
      },
      "source": [
        "def derivative_dc(user_id,item_id,rating,U,V,mu, alpha):\n",
        "    '''In this function, we will compute dL/dc_j'''\n",
        "    #derivate term of Regularizer-term\n",
        "    reg_c = alpha * 2*c_j[item_id]\n",
        "    #derivate term of Loss-term\n",
        "    loss_c = 2*(rating-mu-b_i[user_id]-c_j[item_id]-np.dot(U[user_id],np.transpose(V)[item_id]))\n",
        "\n",
        "    dL_dc_j = reg_c - loss_c\n",
        "    \n",
        "    return dL_dc_j\n"
      ],
      "execution_count": 79,
      "outputs": []
    },
    {
      "cell_type": "markdown",
      "metadata": {
        "id": "lxkAm8aH1SBF"
      },
      "source": [
        "<font color='cyan'>Grader function - 5 </font>"
      ]
    },
    {
      "cell_type": "code",
      "metadata": {
        "id": "RaIN9yie1US8",
        "colab": {
          "base_uri": "https://localhost:8080/"
        },
        "outputId": "7589def4-c654-428f-beef-a29268edd1bd"
      },
      "source": [
        "def grader_dc(value):\n",
        "    assert(np.round(value,3)==-2.929)\n",
        "    return True\n",
        "U1, Sigma, V1 = randomized_svd(adjacency_matrix, n_components=2,n_iter=5, random_state=24)\n",
        "# Please don't change random state\n",
        "# Here we are considering n_componets = 2 for our convinence\n",
        "r=0.01 \n",
        "value=derivative_dc(58,504,5,U1,V1,mu,r)\n",
        "grader_dc(value)"
      ],
      "execution_count": 80,
      "outputs": [
        {
          "output_type": "execute_result",
          "data": {
            "text/plain": [
              "True"
            ]
          },
          "metadata": {},
          "execution_count": 80
        }
      ]
    },
    {
      "cell_type": "markdown",
      "metadata": {
        "id": "lg5XNbDWCIKI"
      },
      "source": [
        "<font color='red'>Compute MSE (mean squared error) for predicted ratings</font>\n"
      ]
    },
    {
      "cell_type": "markdown",
      "metadata": {
        "id": "7WUjNy0TDQX6"
      },
      "source": [
        "for each epoch, print the MSE value"
      ]
    },
    {
      "cell_type": "markdown",
      "metadata": {
        "id": "D2pCy1AKCafw"
      },
      "source": [
        "<pre>\n",
        "for each epoch:\n",
        "\n",
        "    for each pair of (user, movie):\n",
        "\n",
        "        b_i =  b_i - learning_rate * dL/db_i\n",
        "\n",
        "        c_j =  c_j - learning_rate * dL/dc_j\n",
        "\n",
        "predict the ratings with formula\n",
        "</pre>\n",
        "\n",
        "$\\hat{y}_{ij} = \\mu + b_i + c_j + \\text{dot_product}(u_i , v_j) $"
      ]
    },
    {
      "cell_type": "code",
      "source": [
        "# type(data)"
      ],
      "metadata": {
        "colab": {
          "base_uri": "https://localhost:8080/"
        },
        "id": "C19bjQGUvXyT",
        "outputId": "f998d92d-9393-4a9d-d03d-9b6d2561aea5"
      },
      "execution_count": 81,
      "outputs": [
        {
          "output_type": "execute_result",
          "data": {
            "text/plain": [
              "pandas.core.frame.DataFrame"
            ]
          },
          "metadata": {},
          "execution_count": 81
        }
      ]
    },
    {
      "cell_type": "code",
      "source": [
        "data"
      ],
      "metadata": {
        "colab": {
          "base_uri": "https://localhost:8080/",
          "height": 423
        },
        "id": "9FulF2J1vgPF",
        "outputId": "2ba0b8b8-e200-4378-80f4-182b4d0777a4"
      },
      "execution_count": 82,
      "outputs": [
        {
          "output_type": "execute_result",
          "data": {
            "text/plain": [
              "       user_id  item_id  rating\n",
              "0          772       36       3\n",
              "1          471      228       5\n",
              "2          641      401       4\n",
              "3          312       98       4\n",
              "4           58      504       5\n",
              "...        ...      ...     ...\n",
              "89987      415      813       4\n",
              "89988      842      120       3\n",
              "89989      574      505       2\n",
              "89990      757      472       5\n",
              "89991      503      204       3\n",
              "\n",
              "[89992 rows x 3 columns]"
            ],
            "text/html": [
              "\n",
              "  <div id=\"df-73eb18d3-ebf1-41b5-af04-f7f87eea81af\">\n",
              "    <div class=\"colab-df-container\">\n",
              "      <div>\n",
              "<style scoped>\n",
              "    .dataframe tbody tr th:only-of-type {\n",
              "        vertical-align: middle;\n",
              "    }\n",
              "\n",
              "    .dataframe tbody tr th {\n",
              "        vertical-align: top;\n",
              "    }\n",
              "\n",
              "    .dataframe thead th {\n",
              "        text-align: right;\n",
              "    }\n",
              "</style>\n",
              "<table border=\"1\" class=\"dataframe\">\n",
              "  <thead>\n",
              "    <tr style=\"text-align: right;\">\n",
              "      <th></th>\n",
              "      <th>user_id</th>\n",
              "      <th>item_id</th>\n",
              "      <th>rating</th>\n",
              "    </tr>\n",
              "  </thead>\n",
              "  <tbody>\n",
              "    <tr>\n",
              "      <th>0</th>\n",
              "      <td>772</td>\n",
              "      <td>36</td>\n",
              "      <td>3</td>\n",
              "    </tr>\n",
              "    <tr>\n",
              "      <th>1</th>\n",
              "      <td>471</td>\n",
              "      <td>228</td>\n",
              "      <td>5</td>\n",
              "    </tr>\n",
              "    <tr>\n",
              "      <th>2</th>\n",
              "      <td>641</td>\n",
              "      <td>401</td>\n",
              "      <td>4</td>\n",
              "    </tr>\n",
              "    <tr>\n",
              "      <th>3</th>\n",
              "      <td>312</td>\n",
              "      <td>98</td>\n",
              "      <td>4</td>\n",
              "    </tr>\n",
              "    <tr>\n",
              "      <th>4</th>\n",
              "      <td>58</td>\n",
              "      <td>504</td>\n",
              "      <td>5</td>\n",
              "    </tr>\n",
              "    <tr>\n",
              "      <th>...</th>\n",
              "      <td>...</td>\n",
              "      <td>...</td>\n",
              "      <td>...</td>\n",
              "    </tr>\n",
              "    <tr>\n",
              "      <th>89987</th>\n",
              "      <td>415</td>\n",
              "      <td>813</td>\n",
              "      <td>4</td>\n",
              "    </tr>\n",
              "    <tr>\n",
              "      <th>89988</th>\n",
              "      <td>842</td>\n",
              "      <td>120</td>\n",
              "      <td>3</td>\n",
              "    </tr>\n",
              "    <tr>\n",
              "      <th>89989</th>\n",
              "      <td>574</td>\n",
              "      <td>505</td>\n",
              "      <td>2</td>\n",
              "    </tr>\n",
              "    <tr>\n",
              "      <th>89990</th>\n",
              "      <td>757</td>\n",
              "      <td>472</td>\n",
              "      <td>5</td>\n",
              "    </tr>\n",
              "    <tr>\n",
              "      <th>89991</th>\n",
              "      <td>503</td>\n",
              "      <td>204</td>\n",
              "      <td>3</td>\n",
              "    </tr>\n",
              "  </tbody>\n",
              "</table>\n",
              "<p>89992 rows × 3 columns</p>\n",
              "</div>\n",
              "      <button class=\"colab-df-convert\" onclick=\"convertToInteractive('df-73eb18d3-ebf1-41b5-af04-f7f87eea81af')\"\n",
              "              title=\"Convert this dataframe to an interactive table.\"\n",
              "              style=\"display:none;\">\n",
              "        \n",
              "  <svg xmlns=\"http://www.w3.org/2000/svg\" height=\"24px\"viewBox=\"0 0 24 24\"\n",
              "       width=\"24px\">\n",
              "    <path d=\"M0 0h24v24H0V0z\" fill=\"none\"/>\n",
              "    <path d=\"M18.56 5.44l.94 2.06.94-2.06 2.06-.94-2.06-.94-.94-2.06-.94 2.06-2.06.94zm-11 1L8.5 8.5l.94-2.06 2.06-.94-2.06-.94L8.5 2.5l-.94 2.06-2.06.94zm10 10l.94 2.06.94-2.06 2.06-.94-2.06-.94-.94-2.06-.94 2.06-2.06.94z\"/><path d=\"M17.41 7.96l-1.37-1.37c-.4-.4-.92-.59-1.43-.59-.52 0-1.04.2-1.43.59L10.3 9.45l-7.72 7.72c-.78.78-.78 2.05 0 2.83L4 21.41c.39.39.9.59 1.41.59.51 0 1.02-.2 1.41-.59l7.78-7.78 2.81-2.81c.8-.78.8-2.07 0-2.86zM5.41 20L4 18.59l7.72-7.72 1.47 1.35L5.41 20z\"/>\n",
              "  </svg>\n",
              "      </button>\n",
              "      \n",
              "  <style>\n",
              "    .colab-df-container {\n",
              "      display:flex;\n",
              "      flex-wrap:wrap;\n",
              "      gap: 12px;\n",
              "    }\n",
              "\n",
              "    .colab-df-convert {\n",
              "      background-color: #E8F0FE;\n",
              "      border: none;\n",
              "      border-radius: 50%;\n",
              "      cursor: pointer;\n",
              "      display: none;\n",
              "      fill: #1967D2;\n",
              "      height: 32px;\n",
              "      padding: 0 0 0 0;\n",
              "      width: 32px;\n",
              "    }\n",
              "\n",
              "    .colab-df-convert:hover {\n",
              "      background-color: #E2EBFA;\n",
              "      box-shadow: 0px 1px 2px rgba(60, 64, 67, 0.3), 0px 1px 3px 1px rgba(60, 64, 67, 0.15);\n",
              "      fill: #174EA6;\n",
              "    }\n",
              "\n",
              "    [theme=dark] .colab-df-convert {\n",
              "      background-color: #3B4455;\n",
              "      fill: #D2E3FC;\n",
              "    }\n",
              "\n",
              "    [theme=dark] .colab-df-convert:hover {\n",
              "      background-color: #434B5C;\n",
              "      box-shadow: 0px 1px 3px 1px rgba(0, 0, 0, 0.15);\n",
              "      filter: drop-shadow(0px 1px 2px rgba(0, 0, 0, 0.3));\n",
              "      fill: #FFFFFF;\n",
              "    }\n",
              "  </style>\n",
              "\n",
              "      <script>\n",
              "        const buttonEl =\n",
              "          document.querySelector('#df-73eb18d3-ebf1-41b5-af04-f7f87eea81af button.colab-df-convert');\n",
              "        buttonEl.style.display =\n",
              "          google.colab.kernel.accessAllowed ? 'block' : 'none';\n",
              "\n",
              "        async function convertToInteractive(key) {\n",
              "          const element = document.querySelector('#df-73eb18d3-ebf1-41b5-af04-f7f87eea81af');\n",
              "          const dataTable =\n",
              "            await google.colab.kernel.invokeFunction('convertToInteractive',\n",
              "                                                     [key], {});\n",
              "          if (!dataTable) return;\n",
              "\n",
              "          const docLinkHtml = 'Like what you see? Visit the ' +\n",
              "            '<a target=\"_blank\" href=https://colab.research.google.com/notebooks/data_table.ipynb>data table notebook</a>'\n",
              "            + ' to learn more about interactive tables.';\n",
              "          element.innerHTML = '';\n",
              "          dataTable['output_type'] = 'display_data';\n",
              "          await google.colab.output.renderOutput(dataTable, element);\n",
              "          const docLink = document.createElement('div');\n",
              "          docLink.innerHTML = docLinkHtml;\n",
              "          element.appendChild(docLink);\n",
              "        }\n",
              "      </script>\n",
              "    </div>\n",
              "  </div>\n",
              "  "
            ]
          },
          "metadata": {},
          "execution_count": 82
        }
      ]
    },
    {
      "cell_type": "code",
      "source": [
        "from sklearn.metrics import mean_squared_error\n",
        "from tqdm.auto import tqdm\n",
        "\n",
        "def cal_mse(data,U,V,mu,alpha):\n",
        "  y_true_val = data['rating']\n",
        "  mse_lst = []\n",
        "  epochs = range(101)\n",
        "  lr = 0.001 #learning rate\n",
        "  print('*'*40)\n",
        "  for epoch in tqdm(epochs):\n",
        "    for each_row in np.array(data):\n",
        "      user_id, item_id, rating = each_row[0], each_row[1], each_row[2]\n",
        "      b_i[user_id] = b_i[user_id] - lr * derivative_db(user_id,item_id,rating,U,V,mu,alpha)\n",
        "      c_j[item_id] = c_j[item_id] - lr * derivative_dc(user_id,item_id,rating,U,V,mu,alpha)\n",
        "\n",
        "    y_pred_val = []\n",
        "    #zip(data['user_id'],data['item_id']):\n",
        "    for row in np.array(data):\n",
        "      user_id, item_id, rating = row[0], row[1], row[2] \n",
        "      y_pred_val.append(mu + b_i[user_id] + c_j[item_id] + np.dot(U[user_id], V.T[item_id]))\n",
        "      \n",
        "    loss_val = mean_squared_error(y_true_val, y_pred_val)\n",
        "    mse_lst.append(loss_val)\n",
        "\n",
        "    if epoch%10 == 0:\n",
        "      print(\" Epoch:{1:2d} --> Mean Square Error:{0:4.4f} \".format(loss_val,epoch))\n",
        "      print('-'*40)\n",
        "  print('*'*40)\n",
        "  return mse_lst\n",
        "\n",
        "alpha=0.01\n",
        "mse = cal_mse(data,U1,V1,mu,alpha)"
      ],
      "metadata": {
        "colab": {
          "base_uri": "https://localhost:8080/",
          "height": 487,
          "referenced_widgets": [
            "e90f7227ebfd4c209fa2584b3a0954a7",
            "7ae191be37f346e6928b42b4b0023ce3",
            "1cec05cb2fc34115bd0a99067e37a94d",
            "3c8b3b5243fa450d9aaeeddee83d701e",
            "53688655b7654ee4a64ad29341631218",
            "a4ee692d8713421eb3a6e25144ced7b6",
            "63efb06fda5446f18de807febb8053dd",
            "575beded90fe438fac3cce56909ba70e",
            "2a9bc9230b894848aba4a9e0a590d427",
            "d424e18afe894123be7f1a9d5eb0349e",
            "e10ea5996163452083596fb3b7607f6f"
          ]
        },
        "id": "_yVZD96QvkY0",
        "outputId": "371418ab-cb52-4fde-896a-7544b1562822"
      },
      "execution_count": 96,
      "outputs": [
        {
          "output_type": "stream",
          "name": "stdout",
          "text": [
            "****************************************\n"
          ]
        },
        {
          "output_type": "display_data",
          "data": {
            "text/plain": [
              "  0%|          | 0/101 [00:00<?, ?it/s]"
            ],
            "application/vnd.jupyter.widget-view+json": {
              "version_major": 2,
              "version_minor": 0,
              "model_id": "e90f7227ebfd4c209fa2584b3a0954a7"
            }
          },
          "metadata": {}
        },
        {
          "output_type": "stream",
          "name": "stdout",
          "text": [
            " Epoch: 0 --> Mean Square Error:0.8364 \n",
            "----------------------------------------\n",
            " Epoch:10 --> Mean Square Error:0.8358 \n",
            "----------------------------------------\n",
            " Epoch:20 --> Mean Square Error:0.8353 \n",
            "----------------------------------------\n",
            " Epoch:30 --> Mean Square Error:0.8350 \n",
            "----------------------------------------\n",
            " Epoch:40 --> Mean Square Error:0.8346 \n",
            "----------------------------------------\n",
            " Epoch:50 --> Mean Square Error:0.8344 \n",
            "----------------------------------------\n",
            " Epoch:60 --> Mean Square Error:0.8342 \n",
            "----------------------------------------\n",
            " Epoch:70 --> Mean Square Error:0.8340 \n",
            "----------------------------------------\n",
            " Epoch:80 --> Mean Square Error:0.8338 \n",
            "----------------------------------------\n",
            " Epoch:90 --> Mean Square Error:0.8337 \n",
            "----------------------------------------\n",
            " Epoch:100 --> Mean Square Error:0.8335 \n",
            "----------------------------------------\n",
            "****************************************\n"
          ]
        }
      ]
    },
    {
      "cell_type": "markdown",
      "metadata": {
        "id": "hTXYZFFUVSg5"
      },
      "source": [
        "<font color='red'>Plot epoch number vs MSE </font>\n",
        "\n",
        "* epoch number on X-axis\n",
        "* MSE on Y-axis"
      ]
    },
    {
      "cell_type": "code",
      "metadata": {
        "id": "igkkO3EvVRt6",
        "colab": {
          "base_uri": "https://localhost:8080/",
          "height": 295
        },
        "outputId": "bb925c05-12fe-4a58-c0cd-7f45cfaa660e"
      },
      "source": [
        "import numpy as np\n",
        "import matplotlib as mpl\n",
        "import matplotlib.pyplot as plt\n",
        "import matplotlib.gridspec as gridspec # Alignments \n",
        "epoch=np.array(list(range(101)))\n",
        "plt.plot(epoch,mse)\n",
        "plt.xlabel(\"Epoch\")\n",
        "plt.ylabel(\"MSE\")\n",
        "plt.title(\"Epochs vs MSE\")\n",
        "plt.grid(color='gray', linestyle='--', linewidth=0.6)\n",
        "plt.show()"
      ],
      "execution_count": 98,
      "outputs": [
        {
          "output_type": "display_data",
          "data": {
            "text/plain": [
              "<Figure size 432x288 with 1 Axes>"
            ],
            "image/png": "[encoded data removed]"
          },
          "metadata": {
            "needs_background": "light"
          }
        }
      ]
    },
    {
      "cell_type": "markdown",
      "metadata": {
        "id": "NeWAGkT6C9kq"
      },
      "source": [
        "<br>"
      ]
    },
    {
      "cell_type": "markdown",
      "metadata": {
        "id": "lkIQOOo1C9o7"
      },
      "source": [
        "# <font color='red'> Task 2</font>"
      ]
    },
    {
      "cell_type": "markdown",
      "metadata": {
        "id": "9kl4Ryi_7E_T"
      },
      "source": [
        "- For this task you have to consider the user_matrix U and the user_info.csv file.\n",
        "- You have to consider is_male columns as  output features and rest as input features. Now you have to fit a model by posing this problem as binary classification task.\n",
        "- You can apply any model like Logistic regression or Decision tree and check the performance of the model. \n",
        "- Do plot confusion matrix after fitting your model and write your observations how your model is performing in this task.\n",
        "\n",
        "- Optional work- You can try scaling your U matrix.Scaling means changing the values of n_componenets while performing svd\n",
        "  and then check your results."
      ]
    },
    {
      "cell_type": "code",
      "metadata": {
        "id": "c1FTc39gDdti",
        "colab": {
          "base_uri": "https://localhost:8080/",
          "height": 206
        },
        "outputId": "73137c24-c5b1-478b-c991-f3250bf7c966"
      },
      "source": [
        "path_dir_2 = '/content/drive/MyDrive/Colab Notebooks/AAIC_Assignments/solving/15_RecommendationSystem_Truncated SVD SGD algorithm to predict ratings/user_info.csv.txt'\n",
        "data_2=pd.read_csv(path_dir_2)\n",
        "data_2.head()"
      ],
      "execution_count": 134,
      "outputs": [
        {
          "output_type": "execute_result",
          "data": {
            "text/plain": [
              "   user_id  age  is_male  orig_user_id\n",
              "0        0   24        1             1\n",
              "1        1   53        0             2\n",
              "2        2   23        1             3\n",
              "3        3   24        1             4\n",
              "4        4   33        0             5"
            ],
            "text/html": [
              "\n",
              "  <div id=\"df-63d18588-ebbf-4584-a10d-1679c23c20a3\">\n",
              "    <div class=\"colab-df-container\">\n",
              "      <div>\n",
              "<style scoped>\n",
              "    .dataframe tbody tr th:only-of-type {\n",
              "        vertical-align: middle;\n",
              "    }\n",
              "\n",
              "    .dataframe tbody tr th {\n",
              "        vertical-align: top;\n",
              "    }\n",
              "\n",
              "    .dataframe thead th {\n",
              "        text-align: right;\n",
              "    }\n",
              "</style>\n",
              "<table border=\"1\" class=\"dataframe\">\n",
              "  <thead>\n",
              "    <tr style=\"text-align: right;\">\n",
              "      <th></th>\n",
              "      <th>user_id</th>\n",
              "      <th>age</th>\n",
              "      <th>is_male</th>\n",
              "      <th>orig_user_id</th>\n",
              "    </tr>\n",
              "  </thead>\n",
              "  <tbody>\n",
              "    <tr>\n",
              "      <th>0</th>\n",
              "      <td>0</td>\n",
              "      <td>24</td>\n",
              "      <td>1</td>\n",
              "      <td>1</td>\n",
              "    </tr>\n",
              "    <tr>\n",
              "      <th>1</th>\n",
              "      <td>1</td>\n",
              "      <td>53</td>\n",
              "      <td>0</td>\n",
              "      <td>2</td>\n",
              "    </tr>\n",
              "    <tr>\n",
              "      <th>2</th>\n",
              "      <td>2</td>\n",
              "      <td>23</td>\n",
              "      <td>1</td>\n",
              "      <td>3</td>\n",
              "    </tr>\n",
              "    <tr>\n",
              "      <th>3</th>\n",
              "      <td>3</td>\n",
              "      <td>24</td>\n",
              "      <td>1</td>\n",
              "      <td>4</td>\n",
              "    </tr>\n",
              "    <tr>\n",
              "      <th>4</th>\n",
              "      <td>4</td>\n",
              "      <td>33</td>\n",
              "      <td>0</td>\n",
              "      <td>5</td>\n",
              "    </tr>\n",
              "  </tbody>\n",
              "</table>\n",
              "</div>\n",
              "      <button class=\"colab-df-convert\" onclick=\"convertToInteractive('df-63d18588-ebbf-4584-a10d-1679c23c20a3')\"\n",
              "              title=\"Convert this dataframe to an interactive table.\"\n",
              "              style=\"display:none;\">\n",
              "        \n",
              "  <svg xmlns=\"http://www.w3.org/2000/svg\" height=\"24px\"viewBox=\"0 0 24 24\"\n",
              "       width=\"24px\">\n",
              "    <path d=\"M0 0h24v24H0V0z\" fill=\"none\"/>\n",
              "    <path d=\"M18.56 5.44l.94 2.06.94-2.06 2.06-.94-2.06-.94-.94-2.06-.94 2.06-2.06.94zm-11 1L8.5 8.5l.94-2.06 2.06-.94-2.06-.94L8.5 2.5l-.94 2.06-2.06.94zm10 10l.94 2.06.94-2.06 2.06-.94-2.06-.94-.94-2.06-.94 2.06-2.06.94z\"/><path d=\"M17.41 7.96l-1.37-1.37c-.4-.4-.92-.59-1.43-.59-.52 0-1.04.2-1.43.59L10.3 9.45l-7.72 7.72c-.78.78-.78 2.05 0 2.83L4 21.41c.39.39.9.59 1.41.59.51 0 1.02-.2 1.41-.59l7.78-7.78 2.81-2.81c.8-.78.8-2.07 0-2.86zM5.41 20L4 18.59l7.72-7.72 1.47 1.35L5.41 20z\"/>\n",
              "  </svg>\n",
              "      </button>\n",
              "      \n",
              "  <style>\n",
              "    .colab-df-container {\n",
              "      display:flex;\n",
              "      flex-wrap:wrap;\n",
              "      gap: 12px;\n",
              "    }\n",
              "\n",
              "    .colab-df-convert {\n",
              "      background-color: #E8F0FE;\n",
              "      border: none;\n",
              "      border-radius: 50%;\n",
              "      cursor: pointer;\n",
              "      display: none;\n",
              "      fill: #1967D2;\n",
              "      height: 32px;\n",
              "      padding: 0 0 0 0;\n",
              "      width: 32px;\n",
              "    }\n",
              "\n",
              "    .colab-df-convert:hover {\n",
              "      background-color: #E2EBFA;\n",
              "      box-shadow: 0px 1px 2px rgba(60, 64, 67, 0.3), 0px 1px 3px 1px rgba(60, 64, 67, 0.15);\n",
              "      fill: #174EA6;\n",
              "    }\n",
              "\n",
              "    [theme=dark] .colab-df-convert {\n",
              "      background-color: #3B4455;\n",
              "      fill: #D2E3FC;\n",
              "    }\n",
              "\n",
              "    [theme=dark] .colab-df-convert:hover {\n",
              "      background-color: #434B5C;\n",
              "      box-shadow: 0px 1px 3px 1px rgba(0, 0, 0, 0.15);\n",
              "      filter: drop-shadow(0px 1px 2px rgba(0, 0, 0, 0.3));\n",
              "      fill: #FFFFFF;\n",
              "    }\n",
              "  </style>\n",
              "\n",
              "      <script>\n",
              "        const buttonEl =\n",
              "          document.querySelector('#df-63d18588-ebbf-4584-a10d-1679c23c20a3 button.colab-df-convert');\n",
              "        buttonEl.style.display =\n",
              "          google.colab.kernel.accessAllowed ? 'block' : 'none';\n",
              "\n",
              "        async function convertToInteractive(key) {\n",
              "          const element = document.querySelector('#df-63d18588-ebbf-4584-a10d-1679c23c20a3');\n",
              "          const dataTable =\n",
              "            await google.colab.kernel.invokeFunction('convertToInteractive',\n",
              "                                                     [key], {});\n",
              "          if (!dataTable) return;\n",
              "\n",
              "          const docLinkHtml = 'Like what you see? Visit the ' +\n",
              "            '<a target=\"_blank\" href=https://colab.research.google.com/notebooks/data_table.ipynb>data table notebook</a>'\n",
              "            + ' to learn more about interactive tables.';\n",
              "          element.innerHTML = '';\n",
              "          dataTable['output_type'] = 'display_data';\n",
              "          await google.colab.output.renderOutput(dataTable, element);\n",
              "          const docLink = document.createElement('div');\n",
              "          docLink.innerHTML = docLinkHtml;\n",
              "          element.appendChild(docLink);\n",
              "        }\n",
              "      </script>\n",
              "    </div>\n",
              "  </div>\n",
              "  "
            ]
          },
          "metadata": {},
          "execution_count": 134
        }
      ]
    },
    {
      "cell_type": "code",
      "metadata": {
        "id": "s7e_3BBsHpWO"
      },
      "source": [
        "#Taking Left Singular vectors as column data\n",
        "df_2 = pd.DataFrame(data = U1,)\n",
        "X=df_2     "
      ],
      "execution_count": 136,
      "outputs": []
    },
    {
      "cell_type": "code",
      "source": [
        "#  X"
      ],
      "metadata": {
        "colab": {
          "base_uri": "https://localhost:8080/",
          "height": 423
        },
        "id": "lgyQKcpoJ0IJ",
        "outputId": "954933b7-cfca-41e3-f12c-24f4e21781eb"
      },
      "execution_count": 139,
      "outputs": [
        {
          "output_type": "execute_result",
          "data": {
            "text/plain": [
              "            0         1\n",
              "0    0.066226  0.007888\n",
              "1    0.013644 -0.048895\n",
              "2    0.005438 -0.025128\n",
              "3    0.005704 -0.018211\n",
              "4    0.034122  0.009005\n",
              "..        ...       ...\n",
              "938  0.010350 -0.038006\n",
              "939  0.031624 -0.007730\n",
              "940  0.007389 -0.025974\n",
              "941  0.024999  0.004478\n",
              "942  0.043373 -0.002814\n",
              "\n",
              "[943 rows x 2 columns]"
            ],
            "text/html": [
              "\n",
              "  <div id=\"df-4cb26281-b626-48bf-a9b6-b981bb63bff6\">\n",
              "    <div class=\"colab-df-container\">\n",
              "      <div>\n",
              "<style scoped>\n",
              "    .dataframe tbody tr th:only-of-type {\n",
              "        vertical-align: middle;\n",
              "    }\n",
              "\n",
              "    .dataframe tbody tr th {\n",
              "        vertical-align: top;\n",
              "    }\n",
              "\n",
              "    .dataframe thead th {\n",
              "        text-align: right;\n",
              "    }\n",
              "</style>\n",
              "<table border=\"1\" class=\"dataframe\">\n",
              "  <thead>\n",
              "    <tr style=\"text-align: right;\">\n",
              "      <th></th>\n",
              "      <th>0</th>\n",
              "      <th>1</th>\n",
              "    </tr>\n",
              "  </thead>\n",
              "  <tbody>\n",
              "    <tr>\n",
              "      <th>0</th>\n",
              "      <td>0.066226</td>\n",
              "      <td>0.007888</td>\n",
              "    </tr>\n",
              "    <tr>\n",
              "      <th>1</th>\n",
              "      <td>0.013644</td>\n",
              "      <td>-0.048895</td>\n",
              "    </tr>\n",
              "    <tr>\n",
              "      <th>2</th>\n",
              "      <td>0.005438</td>\n",
              "      <td>-0.025128</td>\n",
              "    </tr>\n",
              "    <tr>\n",
              "      <th>3</th>\n",
              "      <td>0.005704</td>\n",
              "      <td>-0.018211</td>\n",
              "    </tr>\n",
              "    <tr>\n",
              "      <th>4</th>\n",
              "      <td>0.034122</td>\n",
              "      <td>0.009005</td>\n",
              "    </tr>\n",
              "    <tr>\n",
              "      <th>...</th>\n",
              "      <td>...</td>\n",
              "      <td>...</td>\n",
              "    </tr>\n",
              "    <tr>\n",
              "      <th>938</th>\n",
              "      <td>0.010350</td>\n",
              "      <td>-0.038006</td>\n",
              "    </tr>\n",
              "    <tr>\n",
              "      <th>939</th>\n",
              "      <td>0.031624</td>\n",
              "      <td>-0.007730</td>\n",
              "    </tr>\n",
              "    <tr>\n",
              "      <th>940</th>\n",
              "      <td>0.007389</td>\n",
              "      <td>-0.025974</td>\n",
              "    </tr>\n",
              "    <tr>\n",
              "      <th>941</th>\n",
              "      <td>0.024999</td>\n",
              "      <td>0.004478</td>\n",
              "    </tr>\n",
              "    <tr>\n",
              "      <th>942</th>\n",
              "      <td>0.043373</td>\n",
              "      <td>-0.002814</td>\n",
              "    </tr>\n",
              "  </tbody>\n",
              "</table>\n",
              "<p>943 rows × 2 columns</p>\n",
              "</div>\n",
              "      <button class=\"colab-df-convert\" onclick=\"convertToInteractive('df-4cb26281-b626-48bf-a9b6-b981bb63bff6')\"\n",
              "              title=\"Convert this dataframe to an interactive table.\"\n",
              "              style=\"display:none;\">\n",
              "        \n",
              "  <svg xmlns=\"http://www.w3.org/2000/svg\" height=\"24px\"viewBox=\"0 0 24 24\"\n",
              "       width=\"24px\">\n",
              "    <path d=\"M0 0h24v24H0V0z\" fill=\"none\"/>\n",
              "    <path d=\"M18.56 5.44l.94 2.06.94-2.06 2.06-.94-2.06-.94-.94-2.06-.94 2.06-2.06.94zm-11 1L8.5 8.5l.94-2.06 2.06-.94-2.06-.94L8.5 2.5l-.94 2.06-2.06.94zm10 10l.94 2.06.94-2.06 2.06-.94-2.06-.94-.94-2.06-.94 2.06-2.06.94z\"/><path d=\"M17.41 7.96l-1.37-1.37c-.4-.4-.92-.59-1.43-.59-.52 0-1.04.2-1.43.59L10.3 9.45l-7.72 7.72c-.78.78-.78 2.05 0 2.83L4 21.41c.39.39.9.59 1.41.59.51 0 1.02-.2 1.41-.59l7.78-7.78 2.81-2.81c.8-.78.8-2.07 0-2.86zM5.41 20L4 18.59l7.72-7.72 1.47 1.35L5.41 20z\"/>\n",
              "  </svg>\n",
              "      </button>\n",
              "      \n",
              "  <style>\n",
              "    .colab-df-container {\n",
              "      display:flex;\n",
              "      flex-wrap:wrap;\n",
              "      gap: 12px;\n",
              "    }\n",
              "\n",
              "    .colab-df-convert {\n",
              "      background-color: #E8F0FE;\n",
              "      border: none;\n",
              "      border-radius: 50%;\n",
              "      cursor: pointer;\n",
              "      display: none;\n",
              "      fill: #1967D2;\n",
              "      height: 32px;\n",
              "      padding: 0 0 0 0;\n",
              "      width: 32px;\n",
              "    }\n",
              "\n",
              "    .colab-df-convert:hover {\n",
              "      background-color: #E2EBFA;\n",
              "      box-shadow: 0px 1px 2px rgba(60, 64, 67, 0.3), 0px 1px 3px 1px rgba(60, 64, 67, 0.15);\n",
              "      fill: #174EA6;\n",
              "    }\n",
              "\n",
              "    [theme=dark] .colab-df-convert {\n",
              "      background-color: #3B4455;\n",
              "      fill: #D2E3FC;\n",
              "    }\n",
              "\n",
              "    [theme=dark] .colab-df-convert:hover {\n",
              "      background-color: #434B5C;\n",
              "      box-shadow: 0px 1px 3px 1px rgba(0, 0, 0, 0.15);\n",
              "      filter: drop-shadow(0px 1px 2px rgba(0, 0, 0, 0.3));\n",
              "      fill: #FFFFFF;\n",
              "    }\n",
              "  </style>\n",
              "\n",
              "      <script>\n",
              "        const buttonEl =\n",
              "          document.querySelector('#df-4cb26281-b626-48bf-a9b6-b981bb63bff6 button.colab-df-convert');\n",
              "        buttonEl.style.display =\n",
              "          google.colab.kernel.accessAllowed ? 'block' : 'none';\n",
              "\n",
              "        async function convertToInteractive(key) {\n",
              "          const element = document.querySelector('#df-4cb26281-b626-48bf-a9b6-b981bb63bff6');\n",
              "          const dataTable =\n",
              "            await google.colab.kernel.invokeFunction('convertToInteractive',\n",
              "                                                     [key], {});\n",
              "          if (!dataTable) return;\n",
              "\n",
              "          const docLinkHtml = 'Like what you see? Visit the ' +\n",
              "            '<a target=\"_blank\" href=https://colab.research.google.com/notebooks/data_table.ipynb>data table notebook</a>'\n",
              "            + ' to learn more about interactive tables.';\n",
              "          element.innerHTML = '';\n",
              "          dataTable['output_type'] = 'display_data';\n",
              "          await google.colab.output.renderOutput(dataTable, element);\n",
              "          const docLink = document.createElement('div');\n",
              "          docLink.innerHTML = docLinkHtml;\n",
              "          element.appendChild(docLink);\n",
              "        }\n",
              "      </script>\n",
              "    </div>\n",
              "  </div>\n",
              "  "
            ]
          },
          "metadata": {},
          "execution_count": 139
        }
      ]
    },
    {
      "cell_type": "code",
      "metadata": {
        "id": "M3K5ZHmSHpWO",
        "colab": {
          "base_uri": "https://localhost:8080/",
          "height": 206
        },
        "outputId": "c34a5a57-0b3c-43bd-a65e-6414d0425ab6"
      },
      "source": [
        "df_2['is_male']=data_2['is_male']\n",
        "df_2.head(5)"
      ],
      "execution_count": 140,
      "outputs": [
        {
          "output_type": "execute_result",
          "data": {
            "text/plain": [
              "          0         1  is_male\n",
              "0  0.066226  0.007888        1\n",
              "1  0.013644 -0.048895        0\n",
              "2  0.005438 -0.025128        1\n",
              "3  0.005704 -0.018211        1\n",
              "4  0.034122  0.009005        0"
            ],
            "text/html": [
              "\n",
              "  <div id=\"df-3714deeb-9c11-497d-8fd8-4eeef553cf0a\">\n",
              "    <div class=\"colab-df-container\">\n",
              "      <div>\n",
              "<style scoped>\n",
              "    .dataframe tbody tr th:only-of-type {\n",
              "        vertical-align: middle;\n",
              "    }\n",
              "\n",
              "    .dataframe tbody tr th {\n",
              "        vertical-align: top;\n",
              "    }\n",
              "\n",
              "    .dataframe thead th {\n",
              "        text-align: right;\n",
              "    }\n",
              "</style>\n",
              "<table border=\"1\" class=\"dataframe\">\n",
              "  <thead>\n",
              "    <tr style=\"text-align: right;\">\n",
              "      <th></th>\n",
              "      <th>0</th>\n",
              "      <th>1</th>\n",
              "      <th>is_male</th>\n",
              "    </tr>\n",
              "  </thead>\n",
              "  <tbody>\n",
              "    <tr>\n",
              "      <th>0</th>\n",
              "      <td>0.066226</td>\n",
              "      <td>0.007888</td>\n",
              "      <td>1</td>\n",
              "    </tr>\n",
              "    <tr>\n",
              "      <th>1</th>\n",
              "      <td>0.013644</td>\n",
              "      <td>-0.048895</td>\n",
              "      <td>0</td>\n",
              "    </tr>\n",
              "    <tr>\n",
              "      <th>2</th>\n",
              "      <td>0.005438</td>\n",
              "      <td>-0.025128</td>\n",
              "      <td>1</td>\n",
              "    </tr>\n",
              "    <tr>\n",
              "      <th>3</th>\n",
              "      <td>0.005704</td>\n",
              "      <td>-0.018211</td>\n",
              "      <td>1</td>\n",
              "    </tr>\n",
              "    <tr>\n",
              "      <th>4</th>\n",
              "      <td>0.034122</td>\n",
              "      <td>0.009005</td>\n",
              "      <td>0</td>\n",
              "    </tr>\n",
              "  </tbody>\n",
              "</table>\n",
              "</div>\n",
              "      <button class=\"colab-df-convert\" onclick=\"convertToInteractive('df-3714deeb-9c11-497d-8fd8-4eeef553cf0a')\"\n",
              "              title=\"Convert this dataframe to an interactive table.\"\n",
              "              style=\"display:none;\">\n",
              "        \n",
              "  <svg xmlns=\"http://www.w3.org/2000/svg\" height=\"24px\"viewBox=\"0 0 24 24\"\n",
              "       width=\"24px\">\n",
              "    <path d=\"M0 0h24v24H0V0z\" fill=\"none\"/>\n",
              "    <path d=\"M18.56 5.44l.94 2.06.94-2.06 2.06-.94-2.06-.94-.94-2.06-.94 2.06-2.06.94zm-11 1L8.5 8.5l.94-2.06 2.06-.94-2.06-.94L8.5 2.5l-.94 2.06-2.06.94zm10 10l.94 2.06.94-2.06 2.06-.94-2.06-.94-.94-2.06-.94 2.06-2.06.94z\"/><path d=\"M17.41 7.96l-1.37-1.37c-.4-.4-.92-.59-1.43-.59-.52 0-1.04.2-1.43.59L10.3 9.45l-7.72 7.72c-.78.78-.78 2.05 0 2.83L4 21.41c.39.39.9.59 1.41.59.51 0 1.02-.2 1.41-.59l7.78-7.78 2.81-2.81c.8-.78.8-2.07 0-2.86zM5.41 20L4 18.59l7.72-7.72 1.47 1.35L5.41 20z\"/>\n",
              "  </svg>\n",
              "      </button>\n",
              "      \n",
              "  <style>\n",
              "    .colab-df-container {\n",
              "      display:flex;\n",
              "      flex-wrap:wrap;\n",
              "      gap: 12px;\n",
              "    }\n",
              "\n",
              "    .colab-df-convert {\n",
              "      background-color: #E8F0FE;\n",
              "      border: none;\n",
              "      border-radius: 50%;\n",
              "      cursor: pointer;\n",
              "      display: none;\n",
              "      fill: #1967D2;\n",
              "      height: 32px;\n",
              "      padding: 0 0 0 0;\n",
              "      width: 32px;\n",
              "    }\n",
              "\n",
              "    .colab-df-convert:hover {\n",
              "      background-color: #E2EBFA;\n",
              "      box-shadow: 0px 1px 2px rgba(60, 64, 67, 0.3), 0px 1px 3px 1px rgba(60, 64, 67, 0.15);\n",
              "      fill: #174EA6;\n",
              "    }\n",
              "\n",
              "    [theme=dark] .colab-df-convert {\n",
              "      background-color: #3B4455;\n",
              "      fill: #D2E3FC;\n",
              "    }\n",
              "\n",
              "    [theme=dark] .colab-df-convert:hover {\n",
              "      background-color: #434B5C;\n",
              "      box-shadow: 0px 1px 3px 1px rgba(0, 0, 0, 0.15);\n",
              "      filter: drop-shadow(0px 1px 2px rgba(0, 0, 0, 0.3));\n",
              "      fill: #FFFFFF;\n",
              "    }\n",
              "  </style>\n",
              "\n",
              "      <script>\n",
              "        const buttonEl =\n",
              "          document.querySelector('#df-3714deeb-9c11-497d-8fd8-4eeef553cf0a button.colab-df-convert');\n",
              "        buttonEl.style.display =\n",
              "          google.colab.kernel.accessAllowed ? 'block' : 'none';\n",
              "\n",
              "        async function convertToInteractive(key) {\n",
              "          const element = document.querySelector('#df-3714deeb-9c11-497d-8fd8-4eeef553cf0a');\n",
              "          const dataTable =\n",
              "            await google.colab.kernel.invokeFunction('convertToInteractive',\n",
              "                                                     [key], {});\n",
              "          if (!dataTable) return;\n",
              "\n",
              "          const docLinkHtml = 'Like what you see? Visit the ' +\n",
              "            '<a target=\"_blank\" href=https://colab.research.google.com/notebooks/data_table.ipynb>data table notebook</a>'\n",
              "            + ' to learn more about interactive tables.';\n",
              "          element.innerHTML = '';\n",
              "          dataTable['output_type'] = 'display_data';\n",
              "          await google.colab.output.renderOutput(dataTable, element);\n",
              "          const docLink = document.createElement('div');\n",
              "          docLink.innerHTML = docLinkHtml;\n",
              "          element.appendChild(docLink);\n",
              "        }\n",
              "      </script>\n",
              "    </div>\n",
              "  </div>\n",
              "  "
            ]
          },
          "metadata": {},
          "execution_count": 140
        }
      ]
    },
    {
      "cell_type": "code",
      "source": [
        "X=X.drop('is_male',axis='columns') #Independent variable\n",
        "#consider is_male columns as output features \n",
        "y=df_2['is_male'] #dependent variable"
      ],
      "metadata": {
        "id": "d34YvGPCJh5g"
      },
      "execution_count": 141,
      "outputs": []
    },
    {
      "cell_type": "code",
      "source": [
        "from sklearn.model_selection import train_test_split\n",
        "X_train, X_test, y_train, y_test = train_test_split( X, y, test_size=0.3, random_state=54)"
      ],
      "metadata": {
        "id": "K9SKx4JZwotQ"
      },
      "execution_count": 143,
      "outputs": []
    },
    {
      "cell_type": "code",
      "source": [
        "#using Logistic Regression\n",
        "from sklearn.linear_model import LogisticRegression\n",
        "classifier = LogisticRegression(random_state=0)\n",
        "classifier = classifier.fit(X_train, y_train)\n",
        "y_pred_lg_reg=classifier.predict(X_test)\n",
        "\n",
        "from sklearn import metrics\n",
        "conf_mat = metrics.confusion_matrix(y_test,y_pred_lg_reg)\n",
        "print('-'*20)\n",
        "print('Confusion Matrix:\\n %s'%conf_mat)\n",
        "print('-'*20)\n"
      ],
      "metadata": {
        "colab": {
          "base_uri": "https://localhost:8080/"
        },
        "id": "gT7F0b6wwtL4",
        "outputId": "3b12477a-e5c6-480a-8010-9a3caf0db6f3"
      },
      "execution_count": 148,
      "outputs": [
        {
          "output_type": "stream",
          "name": "stdout",
          "text": [
            "--------------------\n",
            "Confusion Matrix:\n",
            " [[  0  82]\n",
            " [  0 201]]\n",
            "--------------------\n"
          ]
        }
      ]
    },
    {
      "cell_type": "code",
      "source": [
        "#using Decision tree\n",
        "from sklearn.tree import DecisionTreeClassifier\n",
        "clf = DecisionTreeClassifier(random_state=0)\n",
        "clf = classifier.fit(X_train, y_train)\n",
        "y_pred_dt=classifier.predict(X_test)\n",
        "\n",
        "from sklearn import metrics\n",
        "conf_mat = metrics.confusion_matrix(y_test,y_pred_dt)\n",
        "print('-'*20)\n",
        "print('Confusion Matrix:\\n %s'%conf_mat)\n",
        "print('-'*20)"
      ],
      "metadata": {
        "colab": {
          "base_uri": "https://localhost:8080/"
        },
        "id": "O3qaLGjILQhv",
        "outputId": "789c4746-b53e-443b-928f-70189d4c1c68"
      },
      "execution_count": 149,
      "outputs": [
        {
          "output_type": "stream",
          "name": "stdout",
          "text": [
            "--------------------\n",
            "Confusion Matrix:\n",
            " [[  0  82]\n",
            " [  0 201]]\n",
            "--------------------\n"
          ]
        }
      ]
    },
    {
      "cell_type": "code",
      "source": [
        "import seaborn as sns\n",
        "categories = ['0', '1']\n",
        "sns.heatmap(conf_mat, annot=True)\n",
        "plt.title('Confusion Matrix Test data')\n",
        "plt.xlabel(\"Predicted Labels\")\n",
        "plt.ylabel(\"True Labels\")\n"
      ],
      "metadata": {
        "colab": {
          "base_uri": "https://localhost:8080/",
          "height": 313
        },
        "id": "he3Erd5LKWnX",
        "outputId": "ca4b9268-99b7-483d-e29f-0d4b65d7e4c6"
      },
      "execution_count": 127,
      "outputs": [
        {
          "output_type": "execute_result",
          "data": {
            "text/plain": [
              "Text(33.0, 0.5, 'True Labels')"
            ]
          },
          "metadata": {},
          "execution_count": 127
        },
        {
          "output_type": "display_data",
          "data": {
            "text/plain": [
              "<Figure size 432x288 with 2 Axes>"
            ],
            "image/png": "[encoded data removed]"
          },
          "metadata": {
            "needs_background": "light"
          }
        }
      ]
    }
  ]
}