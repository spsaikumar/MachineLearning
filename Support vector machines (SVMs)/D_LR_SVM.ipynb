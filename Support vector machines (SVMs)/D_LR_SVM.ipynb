{
  "nbformat": 4,
  "nbformat_minor": 0,
  "metadata": {
    "kernelspec": {
      "display_name": "Python 3",
      "language": "python",
      "name": "python3"
    },
    "language_info": {
      "codemirror_mode": {
        "name": "ipython",
        "version": 3
      },
      "file_extension": ".py",
      "mimetype": "text/x-python",
      "name": "python",
      "nbconvert_exporter": "python",
      "pygments_lexer": "ipython3",
      "version": "3.6.8"
    },
    "colab": {
      "provenance": []
    }
  },
  "cells": [
    {
      "cell_type": "markdown",
      "metadata": {
        "id": "86Tvnj5UblTy"
      },
      "source": [
        "## Task-D: Collinear features and their effect on linear models"
      ]
    },
    {
      "cell_type": "code",
      "metadata": {
        "id": "qn_eOn2EblT3"
      },
      "source": [
        "%matplotlib inline\n",
        "import warnings\n",
        "warnings.filterwarnings(\"ignore\")\n",
        "import pandas as pd\n",
        "import numpy as np\n",
        "from sklearn.datasets import load_iris\n",
        "from sklearn.linear_model import SGDClassifier\n",
        "from sklearn.model_selection import GridSearchCV\n",
        "import seaborn as sns\n",
        "import matplotlib.pyplot as plt"
      ],
      "execution_count": null,
      "outputs": []
    },
    {
      "cell_type": "code",
      "source": [
        "from google.colab import drive\n",
        "drive.mount('/content/drive')"
      ],
      "metadata": {
        "colab": {
          "base_uri": "https://localhost:8080/"
        },
        "id": "RHt72Jd8ukFu",
        "outputId": "c1e15e24-d6c4-4cd1-d319-394bad686b7a"
      },
      "execution_count": null,
      "outputs": [
        {
          "output_type": "stream",
          "name": "stdout",
          "text": [
            "Mounted at /content/drive\n"
          ]
        }
      ]
    },
    {
      "cell_type": "code",
      "metadata": {
        "id": "VMoYWIayblUB"
      },
      "source": [
        "data = pd.read_csv('/content/drive/MyDrive/Colab Notebooks/AAIC_Assignments/solving/8_Behavior_of_Linear_Models/task_d.csv')"
      ],
      "execution_count": null,
      "outputs": []
    },
    {
      "cell_type": "code",
      "metadata": {
        "id": "RfStXG4tblUI",
        "outputId": "cc7d2a45-ad57-4517-eef5-781d76b92af2",
        "colab": {
          "base_uri": "https://localhost:8080/",
          "height": 206
        }
      },
      "source": [
        "data.head()"
      ],
      "execution_count": null,
      "outputs": [
        {
          "output_type": "execute_result",
          "data": {
            "text/plain": [
              "          x         y         z       x*x       2*y  2*z+3*x*x         w  \\\n",
              "0 -0.581066  0.841837 -1.012978 -0.604025  0.841837  -0.665927 -0.536277   \n",
              "1 -0.894309 -0.207835 -1.012978 -0.883052 -0.207835  -0.917054 -0.522364   \n",
              "2 -1.207552  0.212034 -1.082312 -1.150918  0.212034  -1.166507  0.205738   \n",
              "3 -1.364174  0.002099 -0.943643 -1.280666  0.002099  -1.266540 -0.665720   \n",
              "4 -0.737687  1.051772 -1.012978 -0.744934  1.051772  -0.792746 -0.735054   \n",
              "\n",
              "   target  \n",
              "0       0  \n",
              "1       0  \n",
              "2       0  \n",
              "3       0  \n",
              "4       0  "
            ],
            "text/html": [
              "\n",
              "  <div id=\"df-6c707797-d5ca-4422-ab5d-72ce16a87d9b\">\n",
              "    <div class=\"colab-df-container\">\n",
              "      <div>\n",
              "<style scoped>\n",
              "    .dataframe tbody tr th:only-of-type {\n",
              "        vertical-align: middle;\n",
              "    }\n",
              "\n",
              "    .dataframe tbody tr th {\n",
              "        vertical-align: top;\n",
              "    }\n",
              "\n",
              "    .dataframe thead th {\n",
              "        text-align: right;\n",
              "    }\n",
              "</style>\n",
              "<table border=\"1\" class=\"dataframe\">\n",
              "  <thead>\n",
              "    <tr style=\"text-align: right;\">\n",
              "      <th></th>\n",
              "      <th>x</th>\n",
              "      <th>y</th>\n",
              "      <th>z</th>\n",
              "      <th>x*x</th>\n",
              "      <th>2*y</th>\n",
              "      <th>2*z+3*x*x</th>\n",
              "      <th>w</th>\n",
              "      <th>target</th>\n",
              "    </tr>\n",
              "  </thead>\n",
              "  <tbody>\n",
              "    <tr>\n",
              "      <th>0</th>\n",
              "      <td>-0.581066</td>\n",
              "      <td>0.841837</td>\n",
              "      <td>-1.012978</td>\n",
              "      <td>-0.604025</td>\n",
              "      <td>0.841837</td>\n",
              "      <td>-0.665927</td>\n",
              "      <td>-0.536277</td>\n",
              "      <td>0</td>\n",
              "    </tr>\n",
              "    <tr>\n",
              "      <th>1</th>\n",
              "      <td>-0.894309</td>\n",
              "      <td>-0.207835</td>\n",
              "      <td>-1.012978</td>\n",
              "      <td>-0.883052</td>\n",
              "      <td>-0.207835</td>\n",
              "      <td>-0.917054</td>\n",
              "      <td>-0.522364</td>\n",
              "      <td>0</td>\n",
              "    </tr>\n",
              "    <tr>\n",
              "      <th>2</th>\n",
              "      <td>-1.207552</td>\n",
              "      <td>0.212034</td>\n",
              "      <td>-1.082312</td>\n",
              "      <td>-1.150918</td>\n",
              "      <td>0.212034</td>\n",
              "      <td>-1.166507</td>\n",
              "      <td>0.205738</td>\n",
              "      <td>0</td>\n",
              "    </tr>\n",
              "    <tr>\n",
              "      <th>3</th>\n",
              "      <td>-1.364174</td>\n",
              "      <td>0.002099</td>\n",
              "      <td>-0.943643</td>\n",
              "      <td>-1.280666</td>\n",
              "      <td>0.002099</td>\n",
              "      <td>-1.266540</td>\n",
              "      <td>-0.665720</td>\n",
              "      <td>0</td>\n",
              "    </tr>\n",
              "    <tr>\n",
              "      <th>4</th>\n",
              "      <td>-0.737687</td>\n",
              "      <td>1.051772</td>\n",
              "      <td>-1.012978</td>\n",
              "      <td>-0.744934</td>\n",
              "      <td>1.051772</td>\n",
              "      <td>-0.792746</td>\n",
              "      <td>-0.735054</td>\n",
              "      <td>0</td>\n",
              "    </tr>\n",
              "  </tbody>\n",
              "</table>\n",
              "</div>\n",
              "      <button class=\"colab-df-convert\" onclick=\"convertToInteractive('df-6c707797-d5ca-4422-ab5d-72ce16a87d9b')\"\n",
              "              title=\"Convert this dataframe to an interactive table.\"\n",
              "              style=\"display:none;\">\n",
              "        \n",
              "  <svg xmlns=\"http://www.w3.org/2000/svg\" height=\"24px\"viewBox=\"0 0 24 24\"\n",
              "       width=\"24px\">\n",
              "    <path d=\"M0 0h24v24H0V0z\" fill=\"none\"/>\n",
              "    <path d=\"M18.56 5.44l.94 2.06.94-2.06 2.06-.94-2.06-.94-.94-2.06-.94 2.06-2.06.94zm-11 1L8.5 8.5l.94-2.06 2.06-.94-2.06-.94L8.5 2.5l-.94 2.06-2.06.94zm10 10l.94 2.06.94-2.06 2.06-.94-2.06-.94-.94-2.06-.94 2.06-2.06.94z\"/><path d=\"M17.41 7.96l-1.37-1.37c-.4-.4-.92-.59-1.43-.59-.52 0-1.04.2-1.43.59L10.3 9.45l-7.72 7.72c-.78.78-.78 2.05 0 2.83L4 21.41c.39.39.9.59 1.41.59.51 0 1.02-.2 1.41-.59l7.78-7.78 2.81-2.81c.8-.78.8-2.07 0-2.86zM5.41 20L4 18.59l7.72-7.72 1.47 1.35L5.41 20z\"/>\n",
              "  </svg>\n",
              "      </button>\n",
              "      \n",
              "  <style>\n",
              "    .colab-df-container {\n",
              "      display:flex;\n",
              "      flex-wrap:wrap;\n",
              "      gap: 12px;\n",
              "    }\n",
              "\n",
              "    .colab-df-convert {\n",
              "      background-color: #E8F0FE;\n",
              "      border: none;\n",
              "      border-radius: 50%;\n",
              "      cursor: pointer;\n",
              "      display: none;\n",
              "      fill: #1967D2;\n",
              "      height: 32px;\n",
              "      padding: 0 0 0 0;\n",
              "      width: 32px;\n",
              "    }\n",
              "\n",
              "    .colab-df-convert:hover {\n",
              "      background-color: #E2EBFA;\n",
              "      box-shadow: 0px 1px 2px rgba(60, 64, 67, 0.3), 0px 1px 3px 1px rgba(60, 64, 67, 0.15);\n",
              "      fill: #174EA6;\n",
              "    }\n",
              "\n",
              "    [theme=dark] .colab-df-convert {\n",
              "      background-color: #3B4455;\n",
              "      fill: #D2E3FC;\n",
              "    }\n",
              "\n",
              "    [theme=dark] .colab-df-convert:hover {\n",
              "      background-color: #434B5C;\n",
              "      box-shadow: 0px 1px 3px 1px rgba(0, 0, 0, 0.15);\n",
              "      filter: drop-shadow(0px 1px 2px rgba(0, 0, 0, 0.3));\n",
              "      fill: #FFFFFF;\n",
              "    }\n",
              "  </style>\n",
              "\n",
              "      <script>\n",
              "        const buttonEl =\n",
              "          document.querySelector('#df-6c707797-d5ca-4422-ab5d-72ce16a87d9b button.colab-df-convert');\n",
              "        buttonEl.style.display =\n",
              "          google.colab.kernel.accessAllowed ? 'block' : 'none';\n",
              "\n",
              "        async function convertToInteractive(key) {\n",
              "          const element = document.querySelector('#df-6c707797-d5ca-4422-ab5d-72ce16a87d9b');\n",
              "          const dataTable =\n",
              "            await google.colab.kernel.invokeFunction('convertToInteractive',\n",
              "                                                     [key], {});\n",
              "          if (!dataTable) return;\n",
              "\n",
              "          const docLinkHtml = 'Like what you see? Visit the ' +\n",
              "            '<a target=\"_blank\" href=https://colab.research.google.com/notebooks/data_table.ipynb>data table notebook</a>'\n",
              "            + ' to learn more about interactive tables.';\n",
              "          element.innerHTML = '';\n",
              "          dataTable['output_type'] = 'display_data';\n",
              "          await google.colab.output.renderOutput(dataTable, element);\n",
              "          const docLink = document.createElement('div');\n",
              "          docLink.innerHTML = docLinkHtml;\n",
              "          element.appendChild(docLink);\n",
              "        }\n",
              "      </script>\n",
              "    </div>\n",
              "  </div>\n",
              "  "
            ]
          },
          "metadata": {},
          "execution_count": 5
        }
      ]
    },
    {
      "cell_type": "code",
      "source": [
        "data.shape"
      ],
      "metadata": {
        "colab": {
          "base_uri": "https://localhost:8080/"
        },
        "id": "GfDeOXirzcVl",
        "outputId": "bd4ac07d-b9c8-4e33-d223-78e70a37fa26"
      },
      "execution_count": null,
      "outputs": [
        {
          "output_type": "execute_result",
          "data": {
            "text/plain": [
              "(100, 8)"
            ]
          },
          "metadata": {},
          "execution_count": 7
        }
      ]
    },
    {
      "cell_type": "code",
      "metadata": {
        "id": "JIIuomCkblUP"
      },
      "source": [
        "X = data.drop(['target'], axis=1).values\n",
        "Y = data['target'].values"
      ],
      "execution_count": null,
      "outputs": []
    },
    {
      "cell_type": "code",
      "source": [
        "data"
      ],
      "metadata": {
        "id": "oryKJxU9zatN"
      },
      "execution_count": null,
      "outputs": []
    },
    {
      "cell_type": "markdown",
      "metadata": {
        "id": "Ydm98u3EblUU"
      },
      "source": [
        "### Doing perturbation test to check the presence of collinearity  \n",
        "\n",
        "#### Task: 1 Logistic Regression\n",
        "<pre>\n",
        "\n",
        "\n",
        "\n",
        "1. <b>Finding the Correlation between the features</b>\n",
        "    a. check the correlation between the features\n",
        "    b. plot heat map of correlation matrix using seaborn heatmap\n",
        "2. <b>Finding the best model for the given data</b>\n",
        "    a. Train Logistic regression on data(X,Y) that we have created in the above cell\n",
        "    b. Find the best hyper prameter alpha with hyper parameter tuning using k-fold cross validation (grid search CV or         \n",
        "    random search CV make sure you choose the alpha in log space)\n",
        "    c. Creat a new Logistic regression with the best alpha\n",
        "    (search for how to get the best hyper parameter value), name the best model as 'best_model'\n",
        "    \n",
        "3. <b>Getting the weights with the original data</b>\n",
        "    a. train the 'best_model' with X, Y\n",
        "    b. Check the accuracy of the model 'best_model_accuracy'\n",
        "    c. Get the weights W using best_model.coef_\n",
        "\n",
        "4. <b>Modifying original data</b>\n",
        "    a. Add a noise(order of 10^-2) to each element of X \n",
        "    and get the new data set X' (X' = X + e)\n",
        "    b. Train the same 'best_model' with data (X', Y)\n",
        "    c. Check the accuracy of the model 'best_model_accuracy_edited'\n",
        "    d. Get the weights W' using best_model.coef_\n",
        "    \n",
        "5. <b> Checking deviations in metric and weights </b>\n",
        "    a. find the difference between 'best_model_accuracy_edited' and 'best_model_accuracy'\n",
        "    b. find the absolute change between each value of W and W' ==> |(W-W')|\n",
        "    c. print the top 4 features which have higher % change in weights \n",
        "    compare to the other feature\n",
        "\n",
        "</pre>\n",
        "\n",
        "#### Task: 2 Linear SVM\n",
        "\n",
        "<pre>\n",
        "1. Do the same steps (2, 3, 4, 5) we have done in the above task 1.\n",
        "</pre>\n",
        "\n",
        "<strong><font color='red'>Do write the observations based on the results you get from the deviations of weights in both Logistic Regression and linear SVM</font></strong>"
      ]
    },
    {
      "cell_type": "code",
      "metadata": {
        "id": "Lai8wXU1pmSb",
        "colab": {
          "base_uri": "https://localhost:8080/",
          "height": 300
        },
        "outputId": "923c9c32-c9eb-4830-e76d-4e52b695e25d"
      },
      "source": [
        "#1. Finding the Correlation between the features\n",
        "# a. check the correlation between the features\n",
        "data.corr()"
      ],
      "execution_count": null,
      "outputs": [
        {
          "output_type": "execute_result",
          "data": {
            "text/plain": [
              "                  x         y         z       x*x       2*y  2*z+3*x*x  \\\n",
              "x          1.000000 -0.205926  0.812458  0.997947 -0.205926   0.996252   \n",
              "y         -0.205926  1.000000 -0.602663 -0.209289  1.000000  -0.261123   \n",
              "z          0.812458 -0.602663  1.000000  0.807137 -0.602663   0.847163   \n",
              "x*x        0.997947 -0.209289  0.807137  1.000000 -0.209289   0.997457   \n",
              "2*y       -0.205926  1.000000 -0.602663 -0.209289  1.000000  -0.261123   \n",
              "2*z+3*x*x  0.996252 -0.261123  0.847163  0.997457 -0.261123   1.000000   \n",
              "w          0.583277 -0.401790  0.674486  0.583803 -0.401790   0.606860   \n",
              "target     0.728290 -0.690684  0.969990  0.719570 -0.690684   0.764729   \n",
              "\n",
              "                  w    target  \n",
              "x          0.583277  0.728290  \n",
              "y         -0.401790 -0.690684  \n",
              "z          0.674486  0.969990  \n",
              "x*x        0.583803  0.719570  \n",
              "2*y       -0.401790 -0.690684  \n",
              "2*z+3*x*x  0.606860  0.764729  \n",
              "w          1.000000  0.641750  \n",
              "target     0.641750  1.000000  "
            ],
            "text/html": [
              "\n",
              "  <div id=\"df-8f05727e-e7f2-4ce9-8afa-723611ff18d3\">\n",
              "    <div class=\"colab-df-container\">\n",
              "      <div>\n",
              "<style scoped>\n",
              "    .dataframe tbody tr th:only-of-type {\n",
              "        vertical-align: middle;\n",
              "    }\n",
              "\n",
              "    .dataframe tbody tr th {\n",
              "        vertical-align: top;\n",
              "    }\n",
              "\n",
              "    .dataframe thead th {\n",
              "        text-align: right;\n",
              "    }\n",
              "</style>\n",
              "<table border=\"1\" class=\"dataframe\">\n",
              "  <thead>\n",
              "    <tr style=\"text-align: right;\">\n",
              "      <th></th>\n",
              "      <th>x</th>\n",
              "      <th>y</th>\n",
              "      <th>z</th>\n",
              "      <th>x*x</th>\n",
              "      <th>2*y</th>\n",
              "      <th>2*z+3*x*x</th>\n",
              "      <th>w</th>\n",
              "      <th>target</th>\n",
              "    </tr>\n",
              "  </thead>\n",
              "  <tbody>\n",
              "    <tr>\n",
              "      <th>x</th>\n",
              "      <td>1.000000</td>\n",
              "      <td>-0.205926</td>\n",
              "      <td>0.812458</td>\n",
              "      <td>0.997947</td>\n",
              "      <td>-0.205926</td>\n",
              "      <td>0.996252</td>\n",
              "      <td>0.583277</td>\n",
              "      <td>0.728290</td>\n",
              "    </tr>\n",
              "    <tr>\n",
              "      <th>y</th>\n",
              "      <td>-0.205926</td>\n",
              "      <td>1.000000</td>\n",
              "      <td>-0.602663</td>\n",
              "      <td>-0.209289</td>\n",
              "      <td>1.000000</td>\n",
              "      <td>-0.261123</td>\n",
              "      <td>-0.401790</td>\n",
              "      <td>-0.690684</td>\n",
              "    </tr>\n",
              "    <tr>\n",
              "      <th>z</th>\n",
              "      <td>0.812458</td>\n",
              "      <td>-0.602663</td>\n",
              "      <td>1.000000</td>\n",
              "      <td>0.807137</td>\n",
              "      <td>-0.602663</td>\n",
              "      <td>0.847163</td>\n",
              "      <td>0.674486</td>\n",
              "      <td>0.969990</td>\n",
              "    </tr>\n",
              "    <tr>\n",
              "      <th>x*x</th>\n",
              "      <td>0.997947</td>\n",
              "      <td>-0.209289</td>\n",
              "      <td>0.807137</td>\n",
              "      <td>1.000000</td>\n",
              "      <td>-0.209289</td>\n",
              "      <td>0.997457</td>\n",
              "      <td>0.583803</td>\n",
              "      <td>0.719570</td>\n",
              "    </tr>\n",
              "    <tr>\n",
              "      <th>2*y</th>\n",
              "      <td>-0.205926</td>\n",
              "      <td>1.000000</td>\n",
              "      <td>-0.602663</td>\n",
              "      <td>-0.209289</td>\n",
              "      <td>1.000000</td>\n",
              "      <td>-0.261123</td>\n",
              "      <td>-0.401790</td>\n",
              "      <td>-0.690684</td>\n",
              "    </tr>\n",
              "    <tr>\n",
              "      <th>2*z+3*x*x</th>\n",
              "      <td>0.996252</td>\n",
              "      <td>-0.261123</td>\n",
              "      <td>0.847163</td>\n",
              "      <td>0.997457</td>\n",
              "      <td>-0.261123</td>\n",
              "      <td>1.000000</td>\n",
              "      <td>0.606860</td>\n",
              "      <td>0.764729</td>\n",
              "    </tr>\n",
              "    <tr>\n",
              "      <th>w</th>\n",
              "      <td>0.583277</td>\n",
              "      <td>-0.401790</td>\n",
              "      <td>0.674486</td>\n",
              "      <td>0.583803</td>\n",
              "      <td>-0.401790</td>\n",
              "      <td>0.606860</td>\n",
              "      <td>1.000000</td>\n",
              "      <td>0.641750</td>\n",
              "    </tr>\n",
              "    <tr>\n",
              "      <th>target</th>\n",
              "      <td>0.728290</td>\n",
              "      <td>-0.690684</td>\n",
              "      <td>0.969990</td>\n",
              "      <td>0.719570</td>\n",
              "      <td>-0.690684</td>\n",
              "      <td>0.764729</td>\n",
              "      <td>0.641750</td>\n",
              "      <td>1.000000</td>\n",
              "    </tr>\n",
              "  </tbody>\n",
              "</table>\n",
              "</div>\n",
              "      <button class=\"colab-df-convert\" onclick=\"convertToInteractive('df-8f05727e-e7f2-4ce9-8afa-723611ff18d3')\"\n",
              "              title=\"Convert this dataframe to an interactive table.\"\n",
              "              style=\"display:none;\">\n",
              "        \n",
              "  <svg xmlns=\"http://www.w3.org/2000/svg\" height=\"24px\"viewBox=\"0 0 24 24\"\n",
              "       width=\"24px\">\n",
              "    <path d=\"M0 0h24v24H0V0z\" fill=\"none\"/>\n",
              "    <path d=\"M18.56 5.44l.94 2.06.94-2.06 2.06-.94-2.06-.94-.94-2.06-.94 2.06-2.06.94zm-11 1L8.5 8.5l.94-2.06 2.06-.94-2.06-.94L8.5 2.5l-.94 2.06-2.06.94zm10 10l.94 2.06.94-2.06 2.06-.94-2.06-.94-.94-2.06-.94 2.06-2.06.94z\"/><path d=\"M17.41 7.96l-1.37-1.37c-.4-.4-.92-.59-1.43-.59-.52 0-1.04.2-1.43.59L10.3 9.45l-7.72 7.72c-.78.78-.78 2.05 0 2.83L4 21.41c.39.39.9.59 1.41.59.51 0 1.02-.2 1.41-.59l7.78-7.78 2.81-2.81c.8-.78.8-2.07 0-2.86zM5.41 20L4 18.59l7.72-7.72 1.47 1.35L5.41 20z\"/>\n",
              "  </svg>\n",
              "      </button>\n",
              "      \n",
              "  <style>\n",
              "    .colab-df-container {\n",
              "      display:flex;\n",
              "      flex-wrap:wrap;\n",
              "      gap: 12px;\n",
              "    }\n",
              "\n",
              "    .colab-df-convert {\n",
              "      background-color: #E8F0FE;\n",
              "      border: none;\n",
              "      border-radius: 50%;\n",
              "      cursor: pointer;\n",
              "      display: none;\n",
              "      fill: #1967D2;\n",
              "      height: 32px;\n",
              "      padding: 0 0 0 0;\n",
              "      width: 32px;\n",
              "    }\n",
              "\n",
              "    .colab-df-convert:hover {\n",
              "      background-color: #E2EBFA;\n",
              "      box-shadow: 0px 1px 2px rgba(60, 64, 67, 0.3), 0px 1px 3px 1px rgba(60, 64, 67, 0.15);\n",
              "      fill: #174EA6;\n",
              "    }\n",
              "\n",
              "    [theme=dark] .colab-df-convert {\n",
              "      background-color: #3B4455;\n",
              "      fill: #D2E3FC;\n",
              "    }\n",
              "\n",
              "    [theme=dark] .colab-df-convert:hover {\n",
              "      background-color: #434B5C;\n",
              "      box-shadow: 0px 1px 3px 1px rgba(0, 0, 0, 0.15);\n",
              "      filter: drop-shadow(0px 1px 2px rgba(0, 0, 0, 0.3));\n",
              "      fill: #FFFFFF;\n",
              "    }\n",
              "  </style>\n",
              "\n",
              "      <script>\n",
              "        const buttonEl =\n",
              "          document.querySelector('#df-8f05727e-e7f2-4ce9-8afa-723611ff18d3 button.colab-df-convert');\n",
              "        buttonEl.style.display =\n",
              "          google.colab.kernel.accessAllowed ? 'block' : 'none';\n",
              "\n",
              "        async function convertToInteractive(key) {\n",
              "          const element = document.querySelector('#df-8f05727e-e7f2-4ce9-8afa-723611ff18d3');\n",
              "          const dataTable =\n",
              "            await google.colab.kernel.invokeFunction('convertToInteractive',\n",
              "                                                     [key], {});\n",
              "          if (!dataTable) return;\n",
              "\n",
              "          const docLinkHtml = 'Like what you see? Visit the ' +\n",
              "            '<a target=\"_blank\" href=https://colab.research.google.com/notebooks/data_table.ipynb>data table notebook</a>'\n",
              "            + ' to learn more about interactive tables.';\n",
              "          element.innerHTML = '';\n",
              "          dataTable['output_type'] = 'display_data';\n",
              "          await google.colab.output.renderOutput(dataTable, element);\n",
              "          const docLink = document.createElement('div');\n",
              "          docLink.innerHTML = docLinkHtml;\n",
              "          element.appendChild(docLink);\n",
              "        }\n",
              "      </script>\n",
              "    </div>\n",
              "  </div>\n",
              "  "
            ]
          },
          "metadata": {},
          "execution_count": 9
        }
      ]
    },
    {
      "cell_type": "code",
      "source": [
        "# b. plot heat map of correlation matrix using seaborn heatmap\n",
        "sns.heatmap(data.corr(), annot=True)\n",
        "plt.show()"
      ],
      "metadata": {
        "colab": {
          "base_uri": "https://localhost:8080/",
          "height": 312
        },
        "id": "xiNefBDEz0mV",
        "outputId": "d71112de-d3b2-4749-cc62-2bb1babe1d68"
      },
      "execution_count": null,
      "outputs": [
        {
          "output_type": "display_data",
          "data": {
            "text/plain": [
              "<Figure size 432x288 with 2 Axes>"
            ],
            "image/png": "[encoded data removed]"
          },
          "metadata": {
            "needs_background": "light"
          }
        }
      ]
    },
    {
      "cell_type": "code",
      "source": [
        "# 2. Finding the best model for the given data\n",
        "# a. Train Logistic regression on data(X,Y) that we have created in the above cell\n",
        "# Create regularization penalty space\n",
        "penalty = ['l1', 'l2']\n",
        "# Create regularization hyperparameter space\n",
        "alpha = np.logspace(0, 4, 10)\n",
        "print('values of alpha:', alpha)\n",
        "# Create hyperparameter options\n",
        "hyperparameters = dict(alpha=alpha, penalty=penalty)\n"
      ],
      "metadata": {
        "colab": {
          "base_uri": "https://localhost:8080/"
        },
        "id": "MywKSyv-0ep3",
        "outputId": "242e8589-a0f4-46ff-a718-76f9eb356f23"
      },
      "execution_count": null,
      "outputs": [
        {
          "output_type": "stream",
          "name": "stdout",
          "text": [
            "values of alpha: [1.00000000e+00 2.78255940e+00 7.74263683e+00 2.15443469e+01\n",
            " 5.99484250e+01 1.66810054e+02 4.64158883e+02 1.29154967e+03\n",
            " 3.59381366e+03 1.00000000e+04]\n"
          ]
        }
      ]
    },
    {
      "cell_type": "code",
      "source": [
        "estimator_log = SGDClassifier(loss = 'log')\n",
        "clf = GridSearchCV(estimator_log, hyperparameters, cv = 5, verbose = 0)\n",
        "model = clf.fit(X,Y)\n",
        "\n"
      ],
      "metadata": {
        "id": "_Fc1EV7u1agL"
      },
      "execution_count": null,
      "outputs": []
    },
    {
      "cell_type": "code",
      "source": [
        "#b. Find the best hyper prameter alpha with hyper parameter tuning using k-fold cross validation (grid search CV or random search CV make sure you choose the alpha in log space)\n",
        "best_alpha = model.best_estimator_.get_params()['alpha']\n",
        "best_penalty = model.best_estimator_.get_params()['penalty']\n",
        "best_alpha,best_penalty"
      ],
      "metadata": {
        "colab": {
          "base_uri": "https://localhost:8080/"
        },
        "id": "kfQpOVeV11h7",
        "outputId": "1c4c38a0-b3b0-47fc-a809-eb40919036c7"
      },
      "execution_count": null,
      "outputs": [
        {
          "output_type": "execute_result",
          "data": {
            "text/plain": [
              "(1.0, 'l2')"
            ]
          },
          "metadata": {},
          "execution_count": 16
        }
      ]
    },
    {
      "cell_type": "code",
      "source": [
        "#c. Creat a new Logistic regression with the best alpha (search for how to get the best hyper parameter value), name the best model as 'best_model'\n",
        "best_model_log = SGDClassifier(loss = 'log', alpha = best_alpha, penalty = best_penalty)\n",
        "best_model_log.fit(X,Y)\n"
      ],
      "metadata": {
        "id": "gdb9nCMu3XCR"
      },
      "execution_count": null,
      "outputs": []
    },
    {
      "cell_type": "code",
      "source": [
        "# 3. Getting the weights with the original data\n",
        "# c. Get the weights W using best_model.coef_\n",
        "best_model_log_coeff = best_model_log.coef_\n",
        "print('Weights of new mode: ',best_model_log_coeff )"
      ],
      "metadata": {
        "colab": {
          "base_uri": "https://localhost:8080/"
        },
        "id": "N9siFo4MITx5",
        "outputId": "42e486a0-4248-4f54-b024-5d565195a4bd"
      },
      "execution_count": null,
      "outputs": [
        {
          "output_type": "stream",
          "name": "stdout",
          "text": [
            "Weights of new mode:  [[ 0.16900286 -0.18779348  0.26012518  0.16481895 -0.18779348  0.1797363\n",
            "   0.15073136]]\n"
          ]
        }
      ]
    },
    {
      "cell_type": "code",
      "source": [
        "# b. Check the accuracy of the model 'best_model_accuracy'\n",
        "from sklearn import model_selection\n",
        "acc_score = 'accuracy'\n",
        "kfold_model = model_selection.KFold(n_splits = 10, random_state=7, shuffle = True)\n",
        "results = model_selection.cross_val_score(best_model_log, X,Y, cv = kfold_model, scoring = acc_score)\n",
        "print(\"Accuracy of the model: %.3f (%.3f)\" % (results.mean(), results.std()))"
      ],
      "metadata": {
        "colab": {
          "base_uri": "https://localhost:8080/"
        },
        "id": "_TWQs3oF4IMx",
        "outputId": "80271a40-9c6a-438e-ccc9-168e77e3dbe0"
      },
      "execution_count": null,
      "outputs": [
        {
          "output_type": "stream",
          "name": "stdout",
          "text": [
            "Accuracy of the model: 1.000 (0.000)\n"
          ]
        }
      ]
    },
    {
      "cell_type": "code",
      "source": [
        "#step-4 Modifying original data\n",
        "X_new = X\n",
        "Y_new = Y\n"
      ],
      "metadata": {
        "id": "XFe1k1Ma5nBK"
      },
      "execution_count": null,
      "outputs": []
    },
    {
      "cell_type": "code",
      "source": [
        "# adding 10^-2 to all elements of X\n",
        "row = len(X_new)\n",
        "col = len(X_new[0])\n",
        "for r in range(row): \n",
        "    for c in range(col): \n",
        "        X_new[r][c] = X_new[r][c] + (1/100)\n"
      ],
      "metadata": {
        "id": "rImhhwIk6B7r"
      },
      "execution_count": null,
      "outputs": []
    },
    {
      "cell_type": "code",
      "source": [
        "# Train the same 'best_model' with data (X', Y)\n",
        "best_model_log.fit(X_new, Y)\n"
      ],
      "metadata": {
        "colab": {
          "base_uri": "https://localhost:8080/"
        },
        "id": "J3TXeCJR6obI",
        "outputId": "a2ce8f78-5c36-4a31-90e6-907c9e21ae51"
      },
      "execution_count": null,
      "outputs": [
        {
          "output_type": "execute_result",
          "data": {
            "text/plain": [
              "SGDClassifier(alpha=1.0, loss='log')"
            ]
          },
          "metadata": {},
          "execution_count": 27
        }
      ]
    },
    {
      "cell_type": "code",
      "source": [
        "# Check the accuracy of the model 'best_model_accuracy_edited'\n",
        "from sklearn import model_selection\n",
        "acc_score = 'accuracy'\n",
        "kfold_model = model_selection.KFold(n_splits = 10, random_state=7, shuffle = True)\n",
        "results_edited = model_selection.cross_val_score(best_model_log, X_new,Y, cv = kfold_model, scoring = acc_score)\n",
        "print(\"Accuracy of the model with denoised data: %.3f (%.3f)\" % (results.mean(), results.std()))"
      ],
      "metadata": {
        "colab": {
          "base_uri": "https://localhost:8080/"
        },
        "id": "Jn7gbIlp60AO",
        "outputId": "c43189ba-6554-4493-f054-96ae40ca20d2"
      },
      "execution_count": null,
      "outputs": [
        {
          "output_type": "stream",
          "name": "stdout",
          "text": [
            "Accuracy of the model with denoised data: 1.000 (0.000)\n"
          ]
        }
      ]
    },
    {
      "cell_type": "code",
      "source": [
        "best_model_coef_edited = best_model_log.coef_"
      ],
      "metadata": {
        "id": "RIGDUFBk65VA"
      },
      "execution_count": null,
      "outputs": []
    },
    {
      "cell_type": "code",
      "source": [
        "#find the absolute change between each value of W and W' ==> |(W-W')|\n",
        "weight_diff_feature = abs(best_model_coef_edited -  best_model_log_coeff)\n",
        "weight_diff_feature"
      ],
      "metadata": {
        "colab": {
          "base_uri": "https://localhost:8080/"
        },
        "id": "kghZBgYO7zOl",
        "outputId": "93e85cf5-de6b-4f52-8ba8-5bdd2b5a20ff"
      },
      "execution_count": null,
      "outputs": [
        {
          "output_type": "execute_result",
          "data": {
            "text/plain": [
              "array([[2.77287579e-04, 2.60887934e-04, 3.08959849e-04, 2.81790050e-04,\n",
              "        2.60887934e-04, 2.83156422e-04, 6.70390019e-05]])"
            ]
          },
          "metadata": {},
          "execution_count": 33
        }
      ]
    },
    {
      "cell_type": "code",
      "source": [
        "# find the difference between 'best_model_accuracy_edited' and 'best_model_accuracy'\n",
        "results - results_edited"
      ],
      "metadata": {
        "colab": {
          "base_uri": "https://localhost:8080/"
        },
        "id": "UQQ_1KAR72P9",
        "outputId": "4ba6efb8-bc42-4a92-e28c-6ba7f23a1172"
      },
      "execution_count": null,
      "outputs": [
        {
          "output_type": "execute_result",
          "data": {
            "text/plain": [
              "array([0., 0., 0., 0., 0., 0., 0., 0., 0., 0.])"
            ]
          },
          "metadata": {},
          "execution_count": 34
        }
      ]
    },
    {
      "cell_type": "code",
      "source": [
        "# print the top 4 features which have higher % change in weights compare to theother feature\n",
        "weight_diff_feature\n",
        "sorted_index_weight_diff_feature = np.argsort(weight_diff_feature)"
      ],
      "metadata": {
        "id": "86ddb2QN8Ruu"
      },
      "execution_count": null,
      "outputs": []
    },
    {
      "cell_type": "code",
      "source": [
        "count = 0\n",
        "print('print the top 4 features which have higher % change in weights compare to the other feature: ')\n",
        "# for i in sorted_index_weight_diff_feature[0]:\n",
        "#     count+=1\n",
        "#     print(data.columns[i])\n",
        "#     if count ==4:\n",
        "#         break\n",
        "for i in sorted_index_weight_diff_feature[0][:4]:\n",
        "    print(data.columns[i])  "
      ],
      "metadata": {
        "colab": {
          "base_uri": "https://localhost:8080/"
        },
        "id": "8kduxaBZ8byF",
        "outputId": "08696e47-872b-436e-9fb1-db457fdbdedc"
      },
      "execution_count": null,
      "outputs": [
        {
          "output_type": "stream",
          "name": "stdout",
          "text": [
            "print the top 4 features which have higher % change in weights compare to the other feature: \n",
            "w\n",
            "y\n",
            "2*y\n",
            "x\n"
          ]
        }
      ]
    },
    {
      "cell_type": "markdown",
      "source": [
        "# **Task-2**\n"
      ],
      "metadata": {
        "id": "Szd0Ewu197Ak"
      }
    },
    {
      "cell_type": "code",
      "source": [
        "# Create regularization penalty space\n",
        "penalty = ['l1', 'l2']\n",
        "# Create regularization hyperparameter space\n",
        "alpha = np.logspace(0, 4, 10)\n",
        "# Create hyperparameter options\n",
        "hyperparameters = dict(alpha=alpha, penalty=penalty)\n",
        "estimator_svm = SGDClassifier(loss='hinge')\n",
        "clf_lr_svm = GridSearchCV(estimator_svm, hyperparameters, cv=5, verbose=0)\n",
        "model_lr_svm = clf_lr_svm.fit(X,Y)\n",
        "best_alpha_lr_svm = model.best_estimator_.get_params()['alpha']\n",
        "best_penalty_lr_svm = model.best_estimator_.get_params()['penalty']\n",
        "best_alpha_lr_svm, best_penalty_lr_svm"
      ],
      "metadata": {
        "colab": {
          "base_uri": "https://localhost:8080/"
        },
        "id": "wylKgjvv9vO1",
        "outputId": "0f1d8c03-013f-4c20-b0b0-8d4fa4b2a803"
      },
      "execution_count": null,
      "outputs": [
        {
          "output_type": "execute_result",
          "data": {
            "text/plain": [
              "(1.0, 'l2')"
            ]
          },
          "metadata": {},
          "execution_count": 68
        }
      ]
    },
    {
      "cell_type": "code",
      "source": [
        "\n",
        "best_model_lr_svm = SGDClassifier(loss='hinge', alpha=best_alpha_lr_svm, penalty=best_penalty_lr_svm)\n",
        "best_model_lr_svm.fit(X, Y)\n"
      ],
      "metadata": {
        "colab": {
          "base_uri": "https://localhost:8080/"
        },
        "id": "A0h38qVA-uXc",
        "outputId": "6a773ac4-ffcc-45d1-e13b-a3b8bb5845fe"
      },
      "execution_count": null,
      "outputs": [
        {
          "output_type": "execute_result",
          "data": {
            "text/plain": [
              "SGDClassifier(alpha=1.0)"
            ]
          },
          "metadata": {},
          "execution_count": 69
        }
      ]
    },
    {
      "cell_type": "code",
      "source": [
        "best_model_lr_svm_coeff = best_model_lr_svm.coef_\n",
        "best_model_lr_svm_coeff\n"
      ],
      "metadata": {
        "colab": {
          "base_uri": "https://localhost:8080/"
        },
        "id": "Mx8MgTDO_Nwb",
        "outputId": "9a4cfe61-a2e5-4e02-e26d-14a40496dfce"
      },
      "execution_count": null,
      "outputs": [
        {
          "output_type": "execute_result",
          "data": {
            "text/plain": [
              "array([[ 0.16317092, -0.22350926,  0.35693343,  0.15365796, -0.22350926,\n",
              "         0.18140221,  0.13355616]])"
            ]
          },
          "metadata": {},
          "execution_count": 70
        }
      ]
    },
    {
      "cell_type": "code",
      "source": [
        "from sklearn import model_selection\n",
        "acc_score_lr_svm = 'accuracy'\n",
        "kfold_model_lr_svm = model_selection.KFold(n_splits = 10, random_state=7, shuffle = True)\n",
        "results_svm = model_selection.cross_val_score(best_model_lr_svm, X,Y, cv = kfold_model_lr_svm, scoring = acc_score_lr_svm)\n",
        "print(\"Accuracy of the model: %.3f (%.3f)\" % (results_svm.mean(), results_svm.std()))"
      ],
      "metadata": {
        "colab": {
          "base_uri": "https://localhost:8080/"
        },
        "id": "Xvy_o3Zu_fuD",
        "outputId": "9acd9f59-82d5-47fe-a78d-01eb8dcb3966"
      },
      "execution_count": null,
      "outputs": [
        {
          "output_type": "stream",
          "name": "stdout",
          "text": [
            "Accuracy of the model: 1.000 (0.000)\n"
          ]
        }
      ]
    },
    {
      "cell_type": "code",
      "source": [
        "#step-4 Modifying original data\n",
        "X_new = X\n",
        "Y_new = Y"
      ],
      "metadata": {
        "id": "_qy0DgnaAEhb"
      },
      "execution_count": null,
      "outputs": []
    },
    {
      "cell_type": "code",
      "source": [
        "# adding 10^-2 to all elements of X\n",
        "row = len(X_new)\n",
        "col = len(X_new[0])\n",
        "for r in range(row): \n",
        "    for c in range(col): \n",
        "        X_new[r][c] = X_new[r][c] + (1/100)"
      ],
      "metadata": {
        "id": "1vVUKE0a_9c0"
      },
      "execution_count": null,
      "outputs": []
    },
    {
      "cell_type": "code",
      "source": [
        "# Train the same 'best_model' with data (X', Y)\n",
        "best_model_lr_svm.fit(X_new, Y)"
      ],
      "metadata": {
        "colab": {
          "base_uri": "https://localhost:8080/"
        },
        "id": "kzL9fabEAFqL",
        "outputId": "854d9f2c-7202-4764-8afc-c39044dbb4e1"
      },
      "execution_count": null,
      "outputs": [
        {
          "output_type": "execute_result",
          "data": {
            "text/plain": [
              "SGDClassifier(alpha=1.0)"
            ]
          },
          "metadata": {},
          "execution_count": 74
        }
      ]
    },
    {
      "cell_type": "code",
      "source": [
        "# Check the accuracy of the model 'best_model_accuracy_edited'\n",
        "from sklearn import model_selection\n",
        "acc_score_lr_svm = 'accuracy'\n",
        "kfold_model_lr_svm = model_selection.KFold(n_splits = 10, random_state=7, shuffle = True)\n",
        "results_svm_edited = model_selection.cross_val_score(best_model_lr_svm, X_new,Y, cv = kfold_model_lr_svm, scoring = acc_score_lr_svm)\n",
        "print(\"Accuracy of the model: %.3f (%.3f)\" % (results_svm_edited.mean(), results_svm_edited.std()))"
      ],
      "metadata": {
        "colab": {
          "base_uri": "https://localhost:8080/"
        },
        "id": "6s1Obg4CANly",
        "outputId": "1b3102fc-b742-4ceb-eebf-14bd06acbf61"
      },
      "execution_count": null,
      "outputs": [
        {
          "output_type": "stream",
          "name": "stdout",
          "text": [
            "Accuracy of the model: 1.000 (0.000)\n"
          ]
        }
      ]
    },
    {
      "cell_type": "code",
      "source": [
        "best_model_lr_svm_coeff_edited = best_model_lr_svm.coef_\n",
        "best_model_lr_svm_coeff_edited"
      ],
      "metadata": {
        "colab": {
          "base_uri": "https://localhost:8080/"
        },
        "id": "2u1HVpGFAnsf",
        "outputId": "2578377c-21f0-43ae-b356-4fc721f0fb60"
      },
      "execution_count": null,
      "outputs": [
        {
          "output_type": "execute_result",
          "data": {
            "text/plain": [
              "array([[ 0.16110677, -0.22373947,  0.35624348,  0.15132989, -0.22373947,\n",
              "         0.17922183,  0.1350263 ]])"
            ]
          },
          "metadata": {},
          "execution_count": 76
        }
      ]
    },
    {
      "cell_type": "code",
      "source": [
        "#find the absolute change between each value of W and W' ==> |(W-W')|\n",
        "weight_diff_feature_svm = abs(best_model_lr_svm_coeff_edited -  best_model_lr_svm_coeff)\n",
        "weight_diff_feature_svm"
      ],
      "metadata": {
        "colab": {
          "base_uri": "https://localhost:8080/"
        },
        "id": "xr79E0O7BE17",
        "outputId": "c2c72ae3-c95c-41f0-8ab3-a43f4ed48f40"
      },
      "execution_count": null,
      "outputs": [
        {
          "output_type": "execute_result",
          "data": {
            "text/plain": [
              "array([[0.00206416, 0.00023021, 0.00068995, 0.00232807, 0.00023021,\n",
              "        0.00218038, 0.00147014]])"
            ]
          },
          "metadata": {},
          "execution_count": 81
        }
      ]
    },
    {
      "cell_type": "code",
      "source": [
        "## find the difference between 'best_model_accuracy_edited' and 'best_model_accuracy'\n",
        "results_svm_edited - results_svm"
      ],
      "metadata": {
        "colab": {
          "base_uri": "https://localhost:8080/"
        },
        "id": "U3wg9gagBPAJ",
        "outputId": "58f32759-a4f4-4e41-9255-ffb74f4f4860"
      },
      "execution_count": null,
      "outputs": [
        {
          "output_type": "execute_result",
          "data": {
            "text/plain": [
              "array([0., 0., 0., 0., 0., 0., 0., 0., 0., 0.])"
            ]
          },
          "metadata": {},
          "execution_count": 82
        }
      ]
    },
    {
      "cell_type": "code",
      "source": [
        "# print the top 4 features which have higher % change in weights compare to theother feature\n",
        "weight_diff_feature_svm\n",
        "sorted_index_weight_diff_feature_svm = np.argsort(weight_diff_feature_svm)"
      ],
      "metadata": {
        "id": "BsQHwhzVCIxD"
      },
      "execution_count": null,
      "outputs": []
    },
    {
      "cell_type": "code",
      "source": [
        "count = 0\n",
        "print('print the top 4 features which have higher % change in weights compare to the other feature: ')\n",
        "for i in sorted_index_weight_diff_feature_svm[0][:4]:\n",
        "    print(data.columns[i]) "
      ],
      "metadata": {
        "colab": {
          "base_uri": "https://localhost:8080/"
        },
        "id": "b6PLmsFKCCJb",
        "outputId": "690b239c-4a2d-46a5-9455-933c9769d844"
      },
      "execution_count": null,
      "outputs": [
        {
          "output_type": "stream",
          "name": "stdout",
          "text": [
            "print the top 4 features which have higher % change in weights compare to the other feature: \n",
            "y\n",
            "2*y\n",
            "z\n",
            "w\n"
          ]
        }
      ]
    },
    {
      "cell_type": "markdown",
      "source": [
        "# Observation:\n",
        "\n",
        "- Accuracy is the same before and after adding noise to data.\n",
        "\n",
        "- In comparison to other features, weight is one of the top 4 features that has changed by a bigger percentage."
      ],
      "metadata": {
        "id": "PxQ7o0vODFuw"
      }
    },
    {
      "cell_type": "code",
      "source": [],
      "metadata": {
        "id": "SKv2MJ-dCP_J"
      },
      "execution_count": null,
      "outputs": []
    }
  ]
}