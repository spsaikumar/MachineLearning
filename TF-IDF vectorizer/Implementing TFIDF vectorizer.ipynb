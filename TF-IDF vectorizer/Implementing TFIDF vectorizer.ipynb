{
 "cells": [
  {
   "cell_type": "markdown",
   "metadata": {
    "id": "h9464I-uxLiw"
   },
   "source": [
    "# Assignment"
   ]
  },
  {
   "cell_type": "markdown",
   "metadata": {
    "id": "IvLvmewlxLix"
   },
   "source": [
    "<font face='georgia'>\n",
    "    \n",
    "   <h4><strong>What does tf-idf mean?</strong></h4>\n",
    "\n",
    "   <p>    \n",
    "Tf-idf stands for <em>term frequency-inverse document frequency</em>, and the tf-idf weight is a weight often used in information retrieval and text mining. This weight is a statistical measure used to evaluate how important a word is to a document in a collection or corpus. The importance increases proportionally to the number of times a word appears in the document but is offset by the frequency of the word in the corpus. Variations of the tf-idf weighting scheme are often used by search engines as a central tool in scoring and ranking a document's relevance given a user query.\n",
    "</p>\n",
    "    \n",
    "   <p>\n",
    "One of the simplest ranking functions is computed by summing the tf-idf for each query term; many more sophisticated ranking functions are variants of this simple model.\n",
    "</p>\n",
    "    \n",
    "   <p>\n",
    "Tf-idf can be successfully used for stop-words filtering in various subject fields including text summarization and classification.\n",
    "</p>\n",
    "    \n",
    "</font>"
   ]
  },
  {
   "cell_type": "markdown",
   "metadata": {
    "id": "4XLaGFUMxLiy"
   },
   "source": [
    "<font face='georgia'>\n",
    "    <h4><strong>How to Compute:</strong></h4>\n",
    "\n",
    "Typically, the tf-idf weight is composed by two terms: the first computes the normalized Term Frequency (TF), aka. the number of times a word appears in a document, divided by the total number of words in that document; the second term is the Inverse Document Frequency (IDF), computed as the logarithm of the number of the documents in the corpus divided by the number of documents where the specific term appears.\n",
    "\n",
    " <ul>\n",
    "    <li>\n",
    "<strong>TF:</strong> Term Frequency, which measures how frequently a term occurs in a document. Since every document is different in length, it is possible that a term would appear much more times in long documents than shorter ones. Thus, the term frequency is often divided by the document length (aka. the total number of terms in the document) as a way of normalization: <br>\n",
    "\n",
    "$TF(t) = \\frac{\\text{Number of times term t appears in a document}}{\\text{Total number of terms in the document}}.$\n",
    "</li>\n",
    "<li>\n",
    "<strong>IDF:</strong> Inverse Document Frequency, which measures how important a term is. While computing TF, all terms are considered equally important. However it is known that certain terms, such as \"is\", \"of\", and \"that\", may appear a lot of times but have little importance. Thus we need to weigh down the frequent terms while scale up the rare ones, by computing the following: <br>\n",
    "\n",
    "$IDF(t) = \\log_{e}\\frac{\\text{Total  number of documents}} {\\text{Number of documents with term t in it}}.$\n",
    "for numerical stabiltiy we will be changing this formula little bit\n",
    "$IDF(t) = \\log_{e}\\frac{\\text{Total  number of documents}} {\\text{Number of documents with term t in it}+1}.$\n",
    "</li>\n",
    "</ul>\n",
    "\n",
    "<br>\n",
    "<h4><strong>Example</strong></h4>\n",
    "<p>\n",
    "\n",
    "Consider a document containing 100 words wherein the word cat appears 3 times. The term frequency (i.e., tf) for cat is then (3 / 100) = 0.03. Now, assume we have 10 million documents and the word cat appears in one thousand of these. Then, the inverse document frequency (i.e., idf) is calculated as log(10,000,000 / 1,000) = 4. Thus, the Tf-idf weight is the product of these quantities: 0.03 * 4 = 0.12.\n",
    "</p>\n",
    "</font>"
   ]
  },
  {
   "cell_type": "markdown",
   "metadata": {
    "id": "dg2ooa4DxLiz"
   },
   "source": [
    "## Task-1"
   ]
  },
  {
   "cell_type": "markdown",
   "metadata": {
    "id": "TAcTjhO8xLiz"
   },
   "source": [
    "<font face='georgia'>\n",
    "    <h4><strong>1. Build a TFIDF Vectorizer & compare its results with Sklearn:</strong></h4>\n",
    "\n",
    "<ul>\n",
    "    <li> As a part of this task you will be implementing TFIDF vectorizer on a collection of text documents.</li>\n",
    "    <br>\n",
    "    <li> You should compare the results of your own implementation of TFIDF vectorizer with that of sklearns implemenation TFIDF vectorizer.</li>\n",
    "    <br>\n",
    "    <li> Sklearn does few more tweaks in the implementation of its version of TFIDF vectorizer, so to replicate the exact results you would need to add following things to your custom implementation of tfidf vectorizer:\n",
    "       <ol>\n",
    "        <li> Sklearn has its vocabulary generated from idf sroted in alphabetical order</li>\n",
    "        <li> Sklearn formula of idf is different from the standard textbook formula. Here the constant <strong>\"1\"</strong> is added to the numerator and denominator of the idf as if an extra document was seen containing every term in the collection exactly once, which prevents zero divisions.\n",
    "            \n",
    " $IDF(t) = 1+\\log_{e}\\frac{1\\text{ }+\\text{ Total  number of documents in collection}} {1+\\text{Number of documents with term t in it}}.$\n",
    "        </li>\n",
    "        <li> Sklearn applies L2-normalization on its output matrix.</li>\n",
    "        <li> The final output of sklearn tfidf vectorizer is a sparse matrix.</li>\n",
    "    </ol>\n",
    "    <br>\n",
    "    <li>Steps to approach this task:\n",
    "    <ol>\n",
    "        <li> You would have to write both fit and transform methods for your custom implementation of tfidf vectorizer.</li>\n",
    "        <li> Print out the alphabetically sorted voacb after you fit your data and check if its the same as that of the feature names from sklearn tfidf vectorizer. </li>\n",
    "        <li> Print out the idf values from your implementation and check if its the same as that of sklearns tfidf vectorizer idf values. </li>\n",
    "        <li> Once you get your voacb and idf values to be same as that of sklearns implementation of tfidf vectorizer, proceed to the below steps. </li>\n",
    "        <li> Make sure the output of your implementation is a sparse matrix. Before generating the final output, you need to normalize your sparse matrix using L2 normalization. You can refer to this link https://scikit-learn.org/stable/modules/generated/sklearn.preprocessing.normalize.html </li>\n",
    "        <li> After completing the above steps, print the output of your custom implementation and compare it with sklearns implementation of tfidf vectorizer.</li>\n",
    "        <li> To check the output of a single document in your collection of documents,  you can convert the sparse matrix related only to that document into dense matrix and print it.</li>\n",
    "        </ol>\n",
    "    </li>\n",
    "    <br>\n",
    "   </ul>\n",
    "\n",
    "  <p> <font color=\"#e60000\"><strong>Note-1: </strong></font> All the necessary outputs of sklearns tfidf vectorizer have been provided as reference in this notebook, you can compare your outputs as mentioned in the above steps, with these outputs.<br>\n",
    "   <font color=\"#e60000\"><strong>Note-2: </strong></font> The output of your custom implementation and that of sklearns implementation would match only with the collection of document strings provided to you as reference in this notebook. It would not match for strings that contain capital letters or punctuations, etc, because sklearn version of tfidf vectorizer deals with such strings in a different way. To know further details about how sklearn tfidf vectorizer works with such string, you can always refer to its official documentation.<br>\n",
    "   <font color=\"#e60000\"><strong>Note-3: </strong></font> During this task, it would be helpful for you to debug the code you write with print statements wherever necessary. But when you are finally submitting the assignment, make sure your code is readable and try not to print things which are not part of this task.\n",
    "    </p>"
   ]
  },
  {
   "cell_type": "markdown",
   "metadata": {
    "id": "OnV82tg1xLi0"
   },
   "source": [
    "### Corpus"
   ]
  },
  {
   "cell_type": "code",
   "execution_count": 1,
   "metadata": {
    "id": "bUsYm9wjxLi1"
   },
   "outputs": [],
   "source": [
    "## SkLearn# Collection of string documents\n",
    "\n",
    "corpus = [\n",
    "     'this is the first document',\n",
    "     'this document is the second document',\n",
    "     'and this is the third one',\n",
    "     'is this the first document',\n",
    "]"
   ]
  },
  {
   "cell_type": "markdown",
   "metadata": {
    "id": "eLwmFZfKxLi4"
   },
   "source": [
    "### SkLearn Implementation"
   ]
  },
  {
   "cell_type": "code",
   "execution_count": 2,
   "metadata": {
    "id": "Np4dfQOkxLi4"
   },
   "outputs": [],
   "source": [
    "from sklearn.feature_extraction.text import TfidfVectorizer\n",
    "vectorizer = TfidfVectorizer()\n",
    "vectorizer.fit(corpus)\n",
    "skl_output = vectorizer.transform(corpus)"
   ]
  },
  {
   "cell_type": "code",
   "execution_count": 3,
   "metadata": {
    "id": "-7Om8YpYxLi6",
    "outputId": "0a3bd0f5-4424-4400-944f-4482a80bd799"
   },
   "outputs": [
    {
     "name": "stdout",
     "output_type": "stream",
     "text": [
      "['and', 'document', 'first', 'is', 'one', 'second', 'the', 'third', 'this']\n"
     ]
    },
    {
     "name": "stderr",
     "output_type": "stream",
     "text": [
      "C:\\Users\\pavan\\AppData\\Local\\Programs\\Python\\Python310\\lib\\site-packages\\sklearn\\utils\\deprecation.py:87: FutureWarning: Function get_feature_names is deprecated; get_feature_names is deprecated in 1.0 and will be removed in 1.2. Please use get_feature_names_out instead.\n",
      "  warnings.warn(msg, category=FutureWarning)\n"
     ]
    }
   ],
   "source": [
    "# sklearn feature names, they are sorted in alphabetic order by default.\n",
    "\n",
    "print(vectorizer.get_feature_names())"
   ]
  },
  {
   "cell_type": "code",
   "execution_count": 4,
   "metadata": {
    "id": "dTKplK96xLi-",
    "outputId": "53722fa2-6756-4aa0-f179-37b578bb6890"
   },
   "outputs": [
    {
     "name": "stdout",
     "output_type": "stream",
     "text": [
      "[1.91629073 1.22314355 1.51082562 1.         1.91629073 1.91629073\n",
      " 1.         1.91629073 1.        ]\n"
     ]
    }
   ],
   "source": [
    "# Here we will print the sklearn tfidf vectorizer idf values after applying the fit method\n",
    "# After using the fit function on the corpus the vocab has 9 words in it, and each has its idf value.\n",
    "\n",
    "print(vectorizer.idf_)"
   ]
  },
  {
   "cell_type": "code",
   "execution_count": 5,
   "metadata": {
    "id": "-CTiWHygxLjA",
    "outputId": "8d5a9cde-2c29-4afe-f7b4-1547e88dba4f"
   },
   "outputs": [
    {
     "data": {
      "text/plain": [
       "(4, 9)"
      ]
     },
     "execution_count": 5,
     "metadata": {},
     "output_type": "execute_result"
    }
   ],
   "source": [
    "# shape of sklearn tfidf vectorizer output after applying transform method.\n",
    "\n",
    "skl_output.shape"
   ]
  },
  {
   "cell_type": "code",
   "execution_count": 6,
   "metadata": {
    "id": "bDKEpbA-xLjD",
    "outputId": "87dafd65-5313-443f-8c6e-1b05cc8c2543"
   },
   "outputs": [
    {
     "name": "stdout",
     "output_type": "stream",
     "text": [
      "  (0, 8)\t0.38408524091481483\n",
      "  (0, 6)\t0.38408524091481483\n",
      "  (0, 3)\t0.38408524091481483\n",
      "  (0, 2)\t0.5802858236844359\n",
      "  (0, 1)\t0.46979138557992045\n"
     ]
    }
   ],
   "source": [
    "# sklearn tfidf values for first line of the above corpus.\n",
    "# Here the output is a sparse matrix\n",
    "\n",
    "print(skl_output[0])"
   ]
  },
  {
   "cell_type": "code",
   "execution_count": 33,
   "metadata": {},
   "outputs": [
    {
     "name": "stdout",
     "output_type": "stream",
     "text": [
      "  (0, 25)\t1.0\n",
      "  (1, 30)\t0.572445699981522\n",
      "  (1, 8)\t0.8199426324888012\n",
      "  (2, 32)\t0.5699230219852334\n",
      "  (2, 25)\t0.35548195762874873\n",
      "  (2, 10)\t0.5273651853196742\n",
      "  (2, 0)\t0.5202944244602254\n",
      "  (3, 20)\t1.0\n",
      "  (4, 25)\t0.5110768901174535\n",
      "  (4, 4)\t0.859534997767905\n",
      "  (5, 25)\t1.0\n",
      "  (7, 25)\t0.33776010837475723\n",
      "  (7, 17)\t0.9412322291499969\n",
      "  (11, 25)\t0.32556342048857684\n",
      "  (11, 23)\t0.5366405664621315\n",
      "  (11, 21)\t0.5533799348242362\n",
      "  (11, 4)\t0.5475363087512142\n",
      "  (12, 4)\t1.0\n",
      "  (14, 25)\t1.0\n",
      "  (15, 37)\t0.7118629038754104\n",
      "  (15, 0)\t0.7023184506234106\n",
      "  (16, 23)\t0.6478335937139895\n",
      "  (16, 14)\t0.4007783298922675\n",
      "  (16, 11)\t0.6478335937139895\n",
      "  (17, 25)\t0.48899424176935075\n",
      "  :\t:\n",
      "  (727, 44)\t1.0\n",
      "  (728, 25)\t0.5830722125629216\n",
      "  (728, 17)\t0.8124203314399383\n",
      "  (729, 38)\t0.7482164865280394\n",
      "  (729, 30)\t0.4838684403668721\n",
      "  (729, 25)\t0.45392006091884396\n",
      "  (733, 46)\t0.8346729885507431\n",
      "  (733, 25)\t0.5507458598879985\n",
      "  (734, 37)\t0.6615139054580876\n",
      "  (734, 33)\t0.7499328989220224\n",
      "  (735, 35)\t0.7391763947283081\n",
      "  (735, 32)\t0.6735118836935696\n",
      "  (736, 43)\t1.0\n",
      "  (738, 18)\t1.0\n",
      "  (739, 47)\t0.6094124262000808\n",
      "  (739, 40)\t0.5963565650047202\n",
      "  (739, 19)\t0.5224704222907762\n",
      "  (740, 28)\t0.8668308595259199\n",
      "  (740, 25)\t0.4986023074290322\n",
      "  (741, 44)\t1.0\n",
      "  (742, 48)\t0.6520428640510826\n",
      "  (742, 36)\t0.6520428640510826\n",
      "  (742, 14)\t0.3868852631984358\n",
      "  (744, 3)\t1.0\n",
      "  (745, 31)\t1.0\n",
      "(746, 50)\n"
     ]
    }
   ],
   "source": [
    "print(skl_output)\n",
    "print(skl_output.shape)"
   ]
  },
  {
   "cell_type": "code",
   "execution_count": 7,
   "metadata": {
    "id": "3QWo34hexLjF",
    "outputId": "cdc04e08-989f-4bdc-dd7f-f1c82a9f90be"
   },
   "outputs": [
    {
     "name": "stdout",
     "output_type": "stream",
     "text": [
      "[[0.         0.46979139 0.58028582 0.38408524 0.         0.\n",
      "  0.38408524 0.         0.38408524]]\n"
     ]
    }
   ],
   "source": [
    "# sklearn tfidf values for first line of the above corpus.\n",
    "# To understand the output better, here we are converting the sparse output matrix to dense matrix and printing it.\n",
    "# Notice that this output is normalized using L2 normalization. sklearn does this by default.\n",
    "\n",
    "print(skl_output[0].toarray())"
   ]
  },
  {
   "cell_type": "markdown",
   "metadata": {
    "id": "qfIwx5LzxLjI"
   },
   "source": [
    "### Your custom implementation"
   ]
  },
  {
   "cell_type": "markdown",
   "metadata": {},
   "source": [
    "***I have referrred this blog to write the code***"
   ]
  },
  {
   "cell_type": "markdown",
   "metadata": {},
   "source": [
    "https://stackoverflow.com/questions/60042735/how-to-build-a-tfidf-vectorizer-given-a-corpus-and-compare-its-results-using-skl"
   ]
  },
  {
   "cell_type": "code",
   "execution_count": 10,
   "metadata": {},
   "outputs": [
    {
     "name": "stdout",
     "output_type": "stream",
     "text": [
      "{'and': 0, 'document': 1, 'first': 2, 'is': 3, 'one': 4, 'second': 5, 'the': 6, 'third': 7, 'this': 8}\n",
      "[0.         0.46979139 0.58028582 0.38408524 0.         0.\n",
      " 0.38408524 0.         0.38408524]\n"
     ]
    }
   ],
   "source": [
    "# Write your code here.\n",
    "# Make sure its well documented and readble with appropriate comments.\n",
    "# Compare your results with the above sklearn tfidf vectorizer\n",
    "# You are not supposed to use any other library apart from the ones given below\n",
    "\n",
    "from collections import Counter\n",
    "from tqdm import tqdm\n",
    "from scipy.sparse import csr_matrix\n",
    "import math\n",
    "import operator\n",
    "from sklearn.preprocessing import normalize\n",
    "import numpy as np\n",
    "\n",
    "corpus = [\n",
    "     'this is the first document',\n",
    "     'this document is the second document',\n",
    "     'and this is the third one',\n",
    "     'is this the first document',\n",
    "]\n",
    "\n",
    "def voc_doc(dataset):\n",
    "    \n",
    "    doc_set = set()\n",
    "    \n",
    "    if isinstance(dataset, list):\n",
    "        \n",
    "        for document in dataset:\n",
    "            for word in document.split(\" \"):\n",
    "                \n",
    "                doc_set.add(word)\n",
    "        doc_set = sorted(list(doc_set))\n",
    "        \n",
    "        vocab = {k:v for v,k in enumerate(doc_set)}\n",
    "        \n",
    "        return vocab\n",
    "    \n",
    "\n",
    "vocab = voc_doc(corpus)\n",
    "print(vocab)\n",
    "\n",
    "def cal_idf(word, dataset):\n",
    "    num_word_doc = 0\n",
    "    for doc in dataset:\n",
    "        if word in doc.split():\n",
    "            num_word_doc+=1\n",
    "    return num_word_doc\n",
    "\n",
    "\n",
    "def tf_idf(dataset, vocab):\n",
    "    \n",
    "    n_row = []\n",
    "    n_col = []\n",
    "    val_tf_idf = []\n",
    "    \n",
    "    idf_l = []\n",
    "    for ind_doc, document in enumerate(dataset):\n",
    "        \n",
    "        word_freq = dict(Counter(document.split()))\n",
    "        #print(word_freq,'\\n')\n",
    "        for word, freq in word_freq.items():\n",
    "            if len(word)<2:\n",
    "                continue            \n",
    "            col_ind = vocab.get(word,-1)\n",
    "            \n",
    "            if col_ind !=-1:\n",
    "\n",
    "                n_col.append(col_ind)\n",
    "                n_row.append(ind_doc)\n",
    "                \n",
    "                tf = freq/ float (len(document))\n",
    "                \n",
    "                idf = 1+math.log((1+len(dataset))/float(1+cal_idf(word,dataset)))\n",
    "                #print(idf)\n",
    "                idf_l.append(idf)\n",
    "                val_tf_idf.append(tf*idf)\n",
    "\n",
    "    cal_csr_matrix = csr_matrix((val_tf_idf,(n_row,n_col)),shape=(len(dataset), len(vocab)) )\n",
    "    res = normalize (cal_csr_matrix, norm = 'l2')\n",
    "                \n",
    "    return res\n",
    "\n",
    "\n",
    "print(tf_idf(corpus, vocab).toarray()[0])"
   ]
  },
  {
   "cell_type": "markdown",
   "metadata": {
    "id": "MMxBmVZExLjK"
   },
   "source": [
    "## Task-2"
   ]
  },
  {
   "cell_type": "markdown",
   "metadata": {
    "id": "51j_OtqAxLjL"
   },
   "source": [
    "<font face='georgia'>\n",
    "    <h4><strong>2. Implement max features functionality:</strong></h4>\n",
    "\n",
    "<ul>\n",
    "    <li> As a part of this task you have to modify your fit and transform functions so that your vocab will contain only 50 terms with top idf scores.</li>\n",
    "    <br>\n",
    "    <li>This task is similar to your previous task, just that here your vocabulary is limited to only top 50 features names based on their idf values. Basically your output will have exactly 50 columns and the number of rows will depend on the number of documents you have in your corpus.</li>\n",
    "    <br>\n",
    "    <li>Here you will be give a pickle file, with file name <strong>cleaned_strings</strong>. You would have to load the corpus from this file and use it as input to your tfidf vectorizer.</li>\n",
    "    <br>\n",
    "    <li>Steps to approach this task:\n",
    "    <ol>\n",
    "        <li> You would have to write both fit and transform methods for your custom implementation of tfidf vectorizer, just like in the previous task. Additionally, here you have to limit the number of features generated to 50 as described above.</li>\n",
    "        <li> Now sort your vocab based in descending order of idf values and print out the words in the sorted voacb after you fit your data. Here you should be getting only 50 terms in your vocab. And make sure to print idf values for each term in your vocab. </li>\n",
    "        <li> Make sure the output of your implementation is a sparse matrix. Before generating the final output, you need to normalize your sparse matrix using L2 normalization. You can refer to this link https://scikit-learn.org/stable/modules/generated/sklearn.preprocessing.normalize.html </li>\n",
    "        <li> Now check the output of a single document in your collection of documents,  you can convert the sparse matrix related only to that document into dense matrix and print it. And this dense matrix should contain 1 row and 50 columns. </li>\n",
    "        </ol>\n",
    "    </li>\n",
    "    <br>\n",
    "   </ul>"
   ]
  },
  {
   "cell_type": "code",
   "execution_count": 11,
   "metadata": {
    "id": "NHxPLlwNxLjL",
    "outputId": "9abd8e08-0e24-4975-9a13-4d3636d60323"
   },
   "outputs": [
    {
     "name": "stdout",
     "output_type": "stream",
     "text": [
      "Number of documents in corpus =  746\n"
     ]
    }
   ],
   "source": [
    "# Below is the code to load the cleaned_strings pickle file provided\n",
    "# Here corpus is of list type\n",
    "\n",
    "import pickle\n",
    "with open('cleaned_strings', 'rb') as f:\n",
    "    corpus = pickle.load(f)\n",
    "    \n",
    "# printing the length of the corpus loaded\n",
    "print(\"Number of documents in corpus = \",len(corpus))"
   ]
  },
  {
   "cell_type": "code",
   "execution_count": null,
   "metadata": {
    "id": "ZULfoOIdxLjQ"
   },
   "outputs": [],
   "source": [
    "# Write your code here.\n",
    "# Try not to hardcode any values.\n",
    "# Make sure its well documented and readble with appropriate comments."
   ]
  },
  {
   "cell_type": "code",
   "execution_count": 6,
   "metadata": {
    "id": "1_DJnnR3xLjR"
   },
   "outputs": [],
   "source": [
    "from sklearn.feature_extraction.text import TfidfVectorizer\n",
    "vectorizer = TfidfVectorizer( )\n",
    "vectorizer.fit(corpus)\n",
    "skl_output = vectorizer.transform(corpus)"
   ]
  },
  {
   "cell_type": "code",
   "execution_count": 7,
   "metadata": {},
   "outputs": [
    {
     "name": "stdout",
     "output_type": "stream",
     "text": [
      "['aailiyah', 'abandoned', 'ability', 'abroad', 'absolutely', 'abstruse', 'abysmal', 'academy', 'accents', 'accessible', 'acclaimed', 'accolades', 'accurate', 'accurately', 'accused', 'achievement', 'achille', 'ackerman', 'act', 'acted', 'acting', 'action', 'actions', 'actor', 'actors', 'actress', 'actresses', 'actually', 'adams', 'adaptation', 'add', 'added', 'addition', 'admins', 'admiration', 'admitted', 'adorable', 'adrift', 'adventure', 'advise', 'aerial', 'aesthetically', 'affected', 'affleck', 'afraid', 'africa', 'afternoon', 'age', 'aged', 'ages', 'ago', 'agree', 'agreed', 'aimless', 'air', 'aired', 'akasha', 'akin', 'alert', 'alexander', 'alike', 'allison', 'allow', 'allowing', 'almost', 'along', 'alongside', 'already', 'also', 'although', 'always', 'amateurish', 'amaze', 'amazed', 'amazing', 'amazingly', 'america', 'american', 'americans', 'among', 'amount', 'amusing', 'amust', 'anatomist', 'angel', 'angela', 'angeles', 'angelina', 'angle', 'angles', 'angry', 'anguish', 'angus', 'animals', 'animated', 'animation', 'anita', 'ann', 'anne', 'anniversary', 'annoying', 'another', 'anthony', 'antithesis', 'anyone', 'anything', 'anyway', 'apart', 'appalling', 'appealing', 'appearance', 'appears', 'applauded', 'applause', 'appreciate', 'appropriate', 'apt', 'argued', 'armageddon', 'armand', 'around', 'array', 'art', 'articulated', 'artiness', 'artist', 'artistic', 'artless', 'arts', 'aside', 'ask', 'asleep', 'aspect', 'aspects', 'ass', 'assante', 'assaulted', 'assistant', 'astonishingly', 'astronaut', 'atmosphere', 'atrocious', 'atrocity', 'attempt', 'attempted', 'attempting', 'attempts', 'attention', 'attractive', 'audience', 'audio', 'aurv', 'austen', 'austere', 'author', 'average', 'aversion', 'avoid', 'avoided', 'award', 'awarded', 'awards', 'away', 'awesome', 'awful', 'awkwardly', 'aye', 'baaaaaad', 'babbling', 'babie', 'baby', 'babysitting', 'back', 'backdrop', 'backed', 'bad', 'badly', 'bag', 'bailey', 'bakery', 'balance', 'balanced', 'ball', 'ballet', 'balls', 'band', 'barcelona', 'barely', 'barking', 'barney', 'barren', 'based', 'basic', 'basically', 'bat', 'bates', 'baxendale', 'bear', 'beautiful', 'beautifully', 'bec', 'became', 'bechard', 'become', 'becomes', 'began', 'begin', 'beginning', 'behind', 'behold', 'bela', 'believable', 'believe', 'believed', 'bell', 'bellucci', 'belly', 'belmondo', 'ben', 'bendingly', 'bennett', 'bergen', 'bertolucci', 'best', 'better', 'betty', 'beware', 'beyond', 'bible', 'big', 'biggest', 'billy', 'biographical', 'bipolarity', 'bit', 'bitchy', 'black', 'blah', 'blake', 'bland', 'blandly', 'blare', 'blatant', 'blew', 'blood', 'blown', 'blue', 'blush', 'boasts', 'bob', 'body', 'bohemian', 'boiling', 'bold', 'bombardments', 'bond', 'bonding', 'bonus', 'bonuses', 'boobs', 'boogeyman', 'book', 'boost', 'bop', 'bordered', 'borderlines', 'borders', 'bore', 'bored', 'boring', 'borrowed', 'boss', 'bother', 'bothersome', 'bought', 'box', 'boyfriend', 'boyle', 'brain', 'brainsucking', 'brat', 'breaking', 'breeders', 'brevity', 'brian', 'brief', 'brigand', 'bright', 'brilliance', 'brilliant', 'brilliantly', 'bring', 'brings', 'broad', 'broke', 'brooding', 'brother', 'brutal', 'buddy', 'budget', 'buffalo', 'buffet', 'build', 'builders', 'buildings', 'built', 'bullock', 'bully', 'bunch', 'burton', 'business', 'buy', 'cable', 'cailles', 'california', 'call', 'called', 'calls', 'came', 'cameo', 'camera', 'camerawork', 'camp', 'campy', 'canada', 'cancan', 'candace', 'candle', 'cannot', 'cant', 'captain', 'captured', 'captures', 'car', 'card', 'cardboard', 'cardellini', 'care', 'carol', 'carrell', 'carries', 'carry', 'cars', 'cartoon', 'cartoons', 'case', 'cases', 'cast', 'casted', 'casting', 'cat', 'catchy', 'caught', 'cause', 'ceases', 'celebration', 'celebrity', 'celluloid', 'centers', 'central', 'century', 'certain', 'certainly', 'cg', 'cgi', 'chalkboard', 'challenges', 'chance', 'change', 'changes', 'changing', 'channel', 'character', 'characterisation', 'characters', 'charisma', 'charismatic', 'charles', 'charlie', 'charm', 'charming', 'chase', 'chasing', 'cheap', 'cheaply', 'check', 'checking', 'cheek', 'cheekbones', 'cheerfull', 'cheerless', 'cheesiness', 'cheesy', 'chemistry', 'chick', 'child', 'childhood', 'children', 'childrens', 'chills', 'chilly', 'chimp', 'chodorov', 'choice', 'choices', 'choked', 'chosen', 'chow', 'christmas', 'christopher', 'church', 'cinema', 'cinematic', 'cinematographers', 'cinematography', 'circumstances', 'class', 'classic', 'classical', 'clear', 'clearly', 'clever', 'clich', 'cliche', 'clients', 'cliff', 'climax', 'close', 'closed', 'clothes', 'club', 'co', 'coach', 'coal', 'coastal', 'coaster', 'coherent', 'cold', 'cole', 'collect', 'collective', 'colored', 'colorful', 'colours', 'columbo', 'come', 'comedic', 'comedy', 'comes', 'comfortable', 'comforting', 'comical', 'coming', 'commands', 'comment', 'commentary', 'commented', 'comments', 'commercial', 'community', 'company', 'compelling', 'competent', 'complete', 'completed', 'completely', 'complex', 'complexity', 'composed', 'composition', 'comprehensible', 'compromise', 'computer', 'concentrate', 'conception', 'conceptually', 'concerning', 'concerns', 'concert', 'conclusion', 'condescends', 'confidence', 'configuration', 'confirm', 'conflict', 'confuses', 'confusing', 'connections', 'connery', 'connor', 'conrad', 'consequences', 'consider', 'considerable', 'considered', 'considering', 'considers', 'consistent', 'consolations', 'constant', 'constantine', 'constructed', 'contained', 'containing', 'contains', 'content', 'continually', 'continuation', 'continue', 'continuity', 'continuously', 'contract', 'contrast', 'contributing', 'contributory', 'contrived', 'control', 'controversy', 'convention', 'convey', 'convince', 'convincing', 'convoluted', 'cool', 'coppola', 'cords', 'core', 'corn', 'corny', 'correct', 'cost', 'costs', 'costumes', 'cotton', 'could', 'couple', 'course', 'court', 'courtroom', 'cover', 'cowardice', 'cox', 'crackles', 'crafted', 'crap', 'crash', 'crashed', 'crayon', 'crayons', 'crazy', 'create', 'created', 'creates', 'creative', 'creativity', 'creature', 'credible', 'credit', 'credits', 'crew', 'crime', 'crisp', 'critic', 'critical', 'crocdodile', 'crocs', 'cross', 'crowd', 'crowe', 'cruel', 'cruise', 'cry', 'cult', 'culture', 'curtain', 'custer', 'cute', 'cutest', 'cutie', 'cutouts', 'cuts', 'cutting', 'dads', 'damian', 'damn', 'dance', 'dancing', 'dangerous', 'dark', 'darren', 'daughter', 'daughters', 'day', 'days', 'de', 'dead', 'deadly', 'deadpan', 'deal', 'dealt', 'death', 'debated', 'debbie', 'debits', 'debut', 'decay', 'decent', 'decidely', 'decipher', 'decisions', 'dedication', 'dee', 'deep', 'deeply', 'defensemen', 'defined', 'definitely', 'delete', 'delight', 'delightful', 'delights', 'deliver', 'delivered', 'delivering', 'delivers', 'dependant', 'depending', 'depends', 'depicted', 'depicts', 'depressing', 'depth', 'derivative', 'describe', 'describes', 'desert', 'deserved', 'deserves', 'deserving', 'design', 'designed', 'designer', 'desperately', 'desperation', 'despised', 'despite', 'destroy', 'detailing', 'details', 'develop', 'development', 'developments', 'di', 'diabetic', 'dialog', 'dialogs', 'dialogue', 'diaper', 'dickens', 'difference', 'different', 'dignity', 'dimensional', 'direct', 'directed', 'directing', 'direction', 'director', 'directorial', 'directors', 'disappointed', 'disappointing', 'disappointment', 'disaster', 'disbelief', 'discomfort', 'discovering', 'discovery', 'disgrace', 'disgusting', 'dislike', 'disliked', 'disney', 'disparate', 'distant', 'distinction', 'distorted', 'distract', 'distressed', 'disturbing', 'diving', 'doctor', 'documentaries', 'documentary', 'dodge', 'dogs', 'dollars', 'dominated', 'done', 'donlevy', 'dont', 'doomed', 'dose', 'doubt', 'downs', 'dozen', 'dr', 'dracula', 'draft', 'drag', 'drago', 'drama', 'dramatic', 'drawings', 'drawn', 'dream', 'dreams', 'dreary', 'dribble', 'drift', 'drifting', 'drive', 'drooling', 'dropped', 'dry', 'due', 'duet', 'dull', 'dumb', 'dumbest', 'duper', 'duris', 'dustin', 'dvd', 'dwight', 'dysfunction', 'earlier', 'early', 'earth', 'easily', 'easy', 'eating', 'ebay', 'ebola', 'eccleston', 'ed', 'edge', 'editing', 'edition', 'educational', 'edward', 'effect', 'effective', 'effects', 'effort', 'efforts', 'egotism', 'eighth', 'eiko', 'either', 'elaborately', 'elderly', 'elegant', 'element', 'elias', 'eloquently', 'else', 'elsewhere', 'embarrassed', 'embarrassing', 'embassy', 'emerge', 'emilio', 'emily', 'emoting', 'emotion', 'emotionally', 'emotions', 'emperor', 'empowerment', 'emptiness', 'empty', 'en', 'enchanting', 'end', 'endearing', 'ended', 'ending', 'endlessly', 'ends', 'energetic', 'energy', 'engaging', 'english', 'enhanced', 'enjoy', 'enjoyable', 'enjoyed', 'enjoyment', 'enough', 'enter', 'enterprise', 'entertained', 'entertaining', 'entire', 'entirely', 'entrance', 'episode', 'episodes', 'equivalent', 'era', 'errol', 'errors', 'escalating', 'escapism', 'especially', 'essence', 'establish', 'established', 'estate', 'estevez', 'etc', 'european', 'evaluate', 'even', 'events', 'ever', 'every', 'everybody', 'everyone', 'everything', 'everywhere', 'evidently', 'evil', 'evinced', 'evokes', 'exactly', 'exaggerating', 'example', 'excellent', 'excellently', 'except', 'exceptional', 'exceptionally', 'excerpts', 'excessively', 'exchange', 'exciting', 'excruciatingly', 'excuse', 'excuses', 'executed', 'exemplars', 'existent', 'existential', 'expansive', 'expect', 'expectations', 'expected', 'expecting', 'experience', 'experiences', 'expert', 'explain', 'explains', 'explanation', 'exploit', 'explorations', 'explosion', 'expression', 'exquisite', 'extant', 'exteriors', 'extraneous', 'extraordinary', 'extremely', 'eye', 'eyes', 'fabulous', 'face', 'faces', 'facial', 'facing', 'fact', 'factory', 'failed', 'fails', 'fair', 'fairly', 'faithful', 'fall', 'falling', 'falls', 'falsely', 'falwell', 'fame', 'famed', 'family', 'famous', 'fan', 'fanciful', 'fans', 'fantastic', 'fantasy', 'far', 'farce', 'fare', 'fascinated', 'fascinating', 'fascination', 'fashioned', 'fast', 'faster', 'fat', 'father', 'faultless', 'fausa', 'faux', 'favorite', 'favourite', 'fear', 'feature', 'features', 'feel', 'feeling', 'feelings', 'feet', 'feisty', 'fellowes', 'felt', 'female', 'females', 'ferry', 'fest', 'fi', 'fields', 'fifteen', 'fifties', 'fill', 'film', 'filmed', 'filmiing', 'filmmaker', 'filmography', 'films', 'final', 'finale', 'finally', 'financial', 'find', 'finds', 'fine', 'finest', 'fingernails', 'finished', 'fire', 'first', 'fish', 'fishnet', 'fisted', 'fit', 'five', 'flag', 'flakes', 'flaming', 'flashbacks', 'flat', 'flaw', 'flawed', 'flaws', 'fleshed', 'flick', 'flicks', 'florida', 'flowed', 'flying', 'flynn', 'focus', 'fodder', 'follow', 'following', 'follows', 'foolish', 'footage', 'football', 'force', 'forced', 'forces', 'ford', 'foreign', 'foreigner', 'forever', 'forget', 'forgettable', 'forgetting', 'forgot', 'forgotten', 'form', 'format', 'former', 'fort', 'forth', 'forwarded', 'found', 'four', 'fox', 'foxx', 'frances', 'francis', 'frankly', 'free', 'freedom', 'freeman', 'french', 'fresh', 'freshness', 'friends', 'friendship', 'frightening', 'front', 'frontier', 'frost', 'frustration', 'fulci', 'fulfilling', 'full', 'fully', 'fumbling', 'fun', 'function', 'fundamental', 'funniest', 'funny', 'future', 'fx', 'gabriel', 'gadget', 'gain', 'gake', 'galley', 'gallon', 'game', 'games', 'garage', 'garbage', 'garbo', 'garfield', 'gas', 'gaudi', 'gave', 'gay', 'geek', 'gem', 'general', 'generally', 'generates', 'generic', 'genius', 'genre', 'gently', 'genuine', 'george', 'gerardo', 'gere', 'get', 'gets', 'getting', 'ghibili', 'giallo', 'gibberish', 'gifted', 'giovanni', 'girl', 'girlfriend', 'girls', 'girolamo', 'give', 'given', 'gives', 'giving', 'glad', 'glance', 'glasses', 'gloriously', 'go', 'goalies', 'god', 'goes', 'going', 'gone', 'gonna', 'good', 'gore', 'goremeister', 'gorman', 'gosh', 'got', 'goth', 'gotta', 'gotten', 'government', 'grace', 'grade', 'gradually', 'grainy', 'granted', 'graphics', 'grasp', 'grates', 'great', 'greatest', 'greatness', 'green', 'greenstreet', 'grew', 'grim', 'grimes', 'gripping', 'groove', 'gross', 'ground', 'guards', 'guess', 'guests', 'guilt', 'gung', 'guy', 'guys', 'hackneyed', 'haggis', 'hair', 'hairsplitting', 'half', 'halfway', 'ham', 'hand', 'handle', 'handled', 'handles', 'hands', 'hang', 'hankies', 'hanks', 'happen', 'happened', 'happiness', 'happy', 'hard', 'harris', 'hate', 'hated', 'hatred', 'havilland', 'hay', 'hayao', 'hayworth', 'hbo', 'head', 'heads', 'hear', 'heard', 'heart', 'hearts', 'heartwarming', 'heaven', 'heche', 'heels', 'heist', 'helen', 'hell', 'hellish', 'helms', 'help', 'helping', 'helps', 'hence', 'hendrikson', 'hernandez', 'hero', 'heroes', 'heroine', 'heroism', 'hes', 'hide', 'high', 'higher', 'highest', 'highlights', 'highly', 'hilarious', 'hill', 'hilt', 'hip', 'history', 'hitchcock', 'ho', 'hockey', 'hoffman', 'hold', 'holding', 'holds', 'holes', 'hollander', 'hollow', 'hollywood', 'home', 'homework', 'honest', 'honestly', 'hoot', 'hope', 'hopefully', 'hopeless', 'horrendous', 'horrendously', 'horrible', 'horrid', 'horrified', 'horror', 'horse', 'hosting', 'hot', 'hour', 'hours', 'house', 'houses', 'howdy', 'howe', 'howell', 'however', 'huge', 'hugo', 'human', 'humanity', 'humans', 'hummh', 'humor', 'humorous', 'humour', 'hurt', 'huston', 'hype', 'hypocrisy', 'idea', 'idealogical', 'identified', 'identifies', 'identify', 'idiot', 'idiotic', 'idyllic', 'iffy', 'im', 'imaginable', 'imagination', 'imaginative', 'imagine', 'imdb', 'imitation', 'impact', 'imperial', 'implausible', 'important', 'impossible', 'impressed', 'impression', 'impressive', 'improved', 'improvement', 'improvisation', 'impulse', 'inappropriate', 'incendiary', 'includes', 'including', 'incomprehensible', 'inconsistencies', 'incorrectness', 'incredible', 'incredibly', 'indeed', 'indescribably', 'indication', 'indictment', 'indie', 'individual', 'indoor', 'indulgent', 'industry', 'ineptly', 'inexperience', 'inexplicable', 'initially', 'innocence', 'insane', 'inside', 'insincere', 'insipid', 'insomniacs', 'inspiration', 'inspiring', 'instant', 'instead', 'instruments', 'insulin', 'insult', 'intangibles', 'integral', 'integration', 'intelligence', 'intelligent', 'intense', 'intensity', 'intentions', 'interacting', 'interest', 'interested', 'interesting', 'interim', 'interplay', 'interpretations', 'interview', 'intoning', 'intrigued', 'inventive', 'involved', 'involves', 'involving', 'iq', 'ireland', 'ironically', 'irons', 'ironside', 'irritating', 'ishioka', 'iso', 'issue', 'issues', 'istagey', 'italian', 'ive', 'jack', 'jaclyn', 'james', 'jamie', 'japanese', 'jason', 'jay', 'jealousy', 'jean', 'jennifer', 'jerky', 'jerry', 'jessica', 'jessice', 'jet', 'jim', 'jimmy', 'job', 'jobs', 'joe', 'john', 'joins', 'joke', 'jokes', 'jonah', 'jones', 'journey', 'joy', 'joyce', 'juano', 'judge', 'judging', 'judith', 'judo', 'julian', 'june', 'junk', 'junkyard', 'justice', 'jutland', 'kanaly', 'kathy', 'keep', 'keeps', 'keira', 'keith', 'kept', 'kevin', 'kid', 'kidnapped', 'kids', 'kieslowski', 'kill', 'killer', 'killing', 'killings', 'kind', 'kinda', 'kirk', 'kitchy', 'knew', 'knightley', 'knocked', 'know', 'known', 'knows', 'koteas', 'kris', 'kristoffersen', 'kudos', 'la', 'labute', 'lack', 'lacked', 'lacks', 'ladies', 'lady', 'lame', 'lance', 'landscapes', 'lane', 'lange', 'largely', 'laselva', 'lassie', 'last', 'lasting', 'latched', 'late', 'later', 'latest', 'latifa', 'latin', 'latter', 'laugh', 'laughable', 'laughed', 'laughs', 'layers', 'lazy', 'lead', 'leading', 'leap', 'learn', 'least', 'leave', 'leaves', 'leaving', 'lee', 'left', 'legal', 'legendary', 'length', 'leni', 'less', 'lesser', 'lestat', 'let', 'lets', 'letting', 'level', 'levels', 'lewis', 'lid', 'lie', 'lies', 'lieutenant', 'life', 'lifetime', 'light', 'lighting', 'like', 'liked', 'likes', 'lilli', 'lilt', 'limitations', 'limited', 'linda', 'line', 'linear', 'lines', 'lino', 'lion', 'list', 'literally', 'littered', 'little', 'lived', 'lives', 'living', 'loads', 'local', 'location', 'locations', 'loewenhielm', 'logic', 'london', 'loneliness', 'long', 'longer', 'look', 'looked', 'looking', 'looks', 'loose', 'loosely', 'lord', 'los', 'losing', 'lost', 'lot', 'lots', 'lousy', 'lovable', 'love', 'loved', 'lovely', 'loves', 'low', 'lower', 'loyalty', 'lucio', 'lucy', 'lugosi', 'lust', 'luv', 'lyrics', 'macbeth', 'machine', 'mad', 'made', 'magnificent', 'main', 'mainly', 'major', 'make', 'maker', 'makers', 'makes', 'making', 'male', 'males', 'malta', 'man', 'managed', 'manages', 'manna', 'mansonites', 'many', 'marbles', 'march', 'marine', 'marion', 'mark', 'marred', 'marriage', 'martin', 'masculine', 'masculinity', 'massive', 'master', 'masterful', 'masterpiece', 'masterpieces', 'material', 'matrix', 'matter', 'matthews', 'mature', 'may', 'maybe', 'mchattie', 'mclaglen', 'meagre', 'mean', 'meanders', 'meaning', 'meanings', 'meant', 'medical', 'mediocre', 'meld', 'melodrama', 'melville', 'member', 'members', 'memorable', 'memories', 'memorized', 'menace', 'menacing', 'mention', 'mercy', 'meredith', 'merit', 'mesmerising', 'mess', 'messages', 'meteorite', 'mexican', 'michael', 'mickey', 'microsoft', 'middle', 'might', 'mighty', 'mind', 'mindblowing', 'miner', 'mini', 'minor', 'minute', 'minutes', 'mirrormask', 'miserable', 'miserably', 'mishima', 'misplace', 'miss', 'missed', 'mistakes', 'miyazaki', 'modern', 'modest', 'mollusk', 'moment', 'moments', 'momentum', 'money', 'monica', 'monolog', 'monotonous', 'monster', 'monstrous', 'monumental', 'moral', 'morgan', 'morons', 'mostly', 'mother', 'motion', 'motivations', 'mountain', 'mouse', 'mouth', 'move', 'moved', 'movements', 'moves', 'movie', 'movies', 'moving', 'ms', 'much', 'muddled', 'muppets', 'murder', 'murdered', 'murdering', 'murky', 'music', 'musician', 'must', 'mystifying', 'naked', 'narration', 'narrative', 'nasty', 'national', 'nationalities', 'native', 'natural', 'nature', 'naughty', 'nearly', 'necklace', 'need', 'needed', 'needlessly', 'negative', 'negulesco', 'neighbour', 'neil', 'nerves', 'nervous', 'net', 'netflix', 'network', 'never', 'nevertheless', 'nevsky', 'new', 'next', 'nice', 'nicola', 'night', 'nimoy', 'nine', 'no', 'noble', 'nobody', 'noir', 'non', 'none', 'nonetheless', 'nonsense', 'nor', 'normally', 'northern', 'nostalgia', 'not', 'notable', 'notch', 'note', 'noteworthy', 'nothing', 'novella', 'number', 'numbers', 'nun', 'nuns', 'nurse', 'nut', 'nuts', 'obliged', 'obsessed', 'obvious', 'obviously', 'occasionally', 'occupied', 'occur', 'occurs', 'odd', 'offend', 'offensive', 'offer', 'offers', 'often', 'oh', 'okay', 'old', 'olde', 'older', 'ole', 'olivia', 'omit', 'one', 'ones', 'open', 'opened', 'opening', 'operas', 'opinion', 'ordeal', 'oriented', 'original', 'originality', 'origins', 'ortolani', 'oscar', 'others', 'otherwise', 'ought', 'outlandish', 'outlets', 'outside', 'outward', 'overacting', 'overall', 'overcome', 'overdue', 'overly', 'overs', 'overt', 'overwrought', 'owed', 'owls', 'owned', 'owns', 'oy', 'pace', 'paced', 'pacing', 'pack', 'paid', 'painful', 'painfully', 'paint', 'painted', 'pair', 'palance', 'pandering', 'pans', 'paolo', 'pap', 'paper', 'par', 'parents', 'park', 'parker', 'part', 'partaking', 'particular', 'particularly', 'parts', 'passed', 'passion', 'past', 'patent', 'pathetic', 'patriotism', 'paul', 'pay', 'peaking', 'pearls', 'peculiarity', 'pedestal', 'pencil', 'people', 'perabo', 'perfect', 'perfected', 'perfectly', 'performance', 'performances', 'perhaps', 'period', 'perplexing', 'person', 'personalities', 'personally', 'peter', 'pg', 'phantasm', 'phenomenal', 'philippa', 'phony', 'photograph', 'photography', 'phrase', 'physical', 'pi', 'picked', 'picture', 'pictures', 'piece', 'pieces', 'pile', 'pillow', 'pitch', 'pitiful', 'pixar', 'place', 'places', 'plain', 'plane', 'planned', 'plants', 'play', 'played', 'player', 'players', 'playing', 'plays', 'pleasant', 'pleased', 'pleaser', 'pleasing', 'pledge', 'plenty', 'plmer', 'plot', 'plug', 'plus', 'pm', 'poet', 'poetry', 'poignant', 'point', 'pointillistic', 'pointless', 'poised', 'poler', 'political', 'politically', 'politics', 'ponyo', 'poor', 'poorly', 'popcorn', 'popular', 'portrayal', 'portrayals', 'portrayed', 'portraying', 'positive', 'possible', 'possibly', 'post', 'potted', 'power', 'powerful', 'powerhouse', 'practical', 'practically', 'pray', 'precisely', 'predict', 'predictable', 'predictably', 'prejudice', 'prelude', 'premise', 'prepared', 'presence', 'presents', 'preservation', 'president', 'pretentious', 'pretext', 'pretty', 'previous', 'primal', 'primary', 'probably', 'problem', 'problems', 'proceedings', 'process', 'produce', 'produced', 'producer', 'producers', 'product', 'production', 'professionals', 'professor', 'progresses', 'promote', 'prompted', 'prone', 'propaganda', 'properly', 'proud', 'proudly', 'provided', 'provokes', 'provoking', 'ps', 'pseudo', 'psychological', 'psychotic', 'public', 'pull', 'pulling', 'pulls', 'punched', 'punches', 'punish', 'punishment', 'puppet', 'puppets', 'pure', 'purity', 'put', 'putting', 'puzzle', 'pyromaniac', 'qu', 'quaid', 'qualities', 'quality', 'question', 'questioning', 'quick', 'quicker', 'quiet', 'quinn', 'quite', 'race', 'racial', 'racism', 'radiant', 'raging', 'random', 'range', 'ranks', 'rare', 'rate', 'rated', 'rather', 'rating', 'ratings', 'raver', 'raw', 'ray', 'reactions', 'readers', 'reading', 'ready', 'real', 'realised', 'realistic', 'reality', 'realize', 'realized', 'really', 'reason', 'reasonable', 'reasons', 'receive', 'received', 'recent', 'recently', 'recommend', 'recommended', 'reconciliation', 'recover', 'recurring', 'redeemed', 'redeeming', 'reenactments', 'references', 'reflected', 'refreshing', 'regardless', 'regret', 'regrettable', 'regrettably', 'rejection', 'relate', 'related', 'relation', 'relations', 'relationship', 'relationships', 'relatively', 'relaxing', 'release', 'released', 'relief', 'relying', 'remaining', 'remake', 'remarkable', 'remember', 'reminded', 'remotely', 'removing', 'rendering', 'rendition', 'renowned', 'rent', 'repair', 'repeated', 'repeating', 'repeats', 'repertory', 'reporter', 'represents', 'require', 'rescue', 'researched', 'resounding', 'respecting', 'rest', 'restrained', 'result', 'results', 'resume', 'retarded', 'retreat', 'return', 'revealing', 'revenge', 'revere', 'reverse', 'review', 'reviewer', 'reviewers', 'reviews', 'rice', 'rickman', 'ridiculous', 'ridiculousness', 'right', 'riot', 'rips', 'rise', 'rita', 'rivalry', 'riveted', 'riz', 'road', 'robert', 'robotic', 'rochon', 'rocked', 'rocks', 'roeg', 'role', 'roles', 'roller', 'rolls', 'romantic', 'room', 'roosevelt', 'roth', 'rough', 'round', 'routine', 'row', 'rpg', 'rpger', 'rubbish', 'rubin', 'rumbles', 'run', 'running', 'ruthless', 'ryan', 'ryans', 'sabotages', 'sack', 'sacrifice', 'sad', 'said', 'sake', 'salesman', 'sam', 'sample', 'sand', 'sandra', 'sappiest', 'sarcophage', 'sat', 'satanic', 'savalas', 'savant', 'save', 'savor', 'saw', 'say', 'says', 'scale', 'scamp', 'scare', 'scared', 'scares', 'scary', 'scene', 'scenery', 'scenes', 'schilling', 'schizophrenic', 'school', 'schoolers', 'schrader', 'schultz', 'sci', 'science', 'scientist', 'score', 'scot', 'scream', 'screamy', 'screen', 'screened', 'screenplay', 'screenwriter', 'scrimm', 'script', 'scripted', 'scripting', 'scripts', 'sculpture', 'sea', 'seamless', 'seamlessly', 'sean', 'season', 'seat', 'second', 'secondary', 'secondly', 'see', 'seeing', 'seem', 'seemed', 'seems', 'seen', 'selections', 'self', 'sells', 'semi', 'senior', 'sense', 'senses', 'sensibility', 'sensitivities', 'sentiment', 'seperate', 'sequel', 'sequels', 'sequence', 'sequences', 'series', 'serious', 'seriously', 'served', 'set', 'sets', 'setting', 'settings', 'seuss', 'several', 'sex', 'shakespear', 'shakespears', 'shallow', 'shame', 'shameful', 'share', 'sharing', 'sharply', 'shatner', 'shattered', 'shed', 'sheer', 'shelf', 'shell', 'shelves', 'shenanigans', 'shepard', 'shined', 'shirley', 'shocking', 'shooting', 'short', 'shortlist', 'shot', 'shots', 'show', 'showcasing', 'showed', 'shows', 'shut', 'sibling', 'sick', 'side', 'sidelined', 'sign', 'significant', 'silent', 'silly', 'simmering', 'simplifying', 'simply', 'since', 'sincere', 'sing', 'singing', 'single', 'sinister', 'sink', 'sinking', 'sister', 'sisters', 'sit', 'sitcoms', 'site', 'sites', 'sits', 'situation', 'situations', 'skilled', 'skip', 'slackers', 'slavic', 'sleep', 'slideshow', 'slightest', 'slightly', 'slimy', 'sloppy', 'slow', 'slurs', 'smack', 'small', 'smart', 'smells', 'smile', 'smiling', 'smith', 'smoothly', 'snider', 'snow', 'soap', 'sobering', 'social', 'soldiers', 'sole', 'solid', 'solidifying', 'solving', 'someone', 'something', 'sometimes', 'somewhat', 'son', 'song', 'songs', 'soon', 'sophisticated', 'sorrentino', 'sorry', 'sort', 'soul', 'sound', 'sounded', 'sounds', 'soundtrack', 'sour', 'south', 'southern', 'space', 'spacek', 'spacey', 'span', 'speak', 'speaking', 'special', 'speed', 'spend', 'spent', 'spew', 'sphere', 'spiffy', 'splendid', 'spock', 'spoil', 'spoiled', 'spoiler', 'spoilers', 'spot', 'spy', 'squibs', 'stable', 'stage', 'stagy', 'stand', 'standout', 'stanwyck', 'star', 'starlet', 'starring', 'stars', 'start', 'started', 'starts', 'state', 'stay', 'stayed', 'stealing', 'steamboat', 'steele', 'step', 'stephen', 'stereotypes', 'stereotypically', 'steve', 'stewart', 'stick', 'still', 'stinker', 'stinks', 'stocking', 'stockings', 'stoic', 'store', 'stories', 'storm', 'story', 'storyline', 'storytelling', 'stowe', 'strange', 'stranger', 'stratus', 'straw', 'street', 'strident', 'string', 'strives', 'strokes', 'strong', 'struck', 'structure', 'struggle', 'stuart', 'student', 'students', 'studio', 'study', 'stuff', 'stunning', 'stupid', 'stupidity', 'style', 'stylized', 'sub', 'subject', 'subjects', 'sublime', 'sublimely', 'subplots', 'subtitles', 'subtle', 'subversive', 'subverting', 'succeeded', 'succeeds', 'success', 'suck', 'sucked', 'sucks', 'suffered', 'suffering', 'suggest', 'suggests', 'suited', 'sum', 'summary', 'sundays', 'super', 'superb', 'superbad', 'superbly', 'superficial', 'superlative', 'supernatural', 'supporting', 'supposed', 'supposedly', 'sure', 'surely', 'surf', 'surface', 'surprised', 'surprises', 'surprising', 'surprisingly', 'surrounding', 'surroundings', 'survivors', 'suspense', 'suspension', 'sven', 'swamp', 'sweep', 'sweet', 'switched', 'swords', 'sydney', 'sympathetic', 'syrupy', 'system', 'tacky', 'taelons', 'take', 'taken', 'takes', 'taking', 'tale', 'talent', 'talented', 'talents', 'talk', 'tanks', 'taped', 'tardis', 'task', 'taste', 'taxidermists', 'taylor', 'teacher', 'teaches', 'team', 'tear', 'tears', 'technically', 'teddy', 'tedium', 'teen', 'teenagers', 'teeth', 'telephone', 'television', 'tell', 'telly', 'temperaments', 'ten', 'tender', 'tension', 'tensions', 'terminology', 'terms', 'terrible', 'terribly', 'terrific', 'terror', 'th', 'thanks', 'theater', 'theatre', 'theatres', 'theatrical', 'theme', 'themes', 'therapy', 'thick', 'thing', 'things', 'think', 'thinking', 'thomerson', 'thoroughly', 'thorsen', 'though', 'thought', 'thoughts', 'thousand', 'thread', 'three', 'threshold', 'thrilled', 'thriller', 'thrillers', 'throughout', 'throwback', 'thrown', 'thug', 'thumper', 'thunderbirds', 'thus', 'ticker', 'tickets', 'tightly', 'time', 'timeless', 'timely', 'timers', 'times', 'timing', 'tiny', 'tired', 'title', 'titta', 'today', 'together', 'told', 'tolerable', 'tolerate', 'tom', 'tomorrow', 'tone', 'tongue', 'tonight', 'tons', 'tony', 'took', 'toons', 'top', 'tops', 'torture', 'tortured', 'total', 'totally', 'touch', 'touches', 'touching', 'tough', 'towards', 'towers', 'townsend', 'track', 'tract', 'traditional', 'traffic', 'trailer', 'train', 'tranquillity', 'transcend', 'transfers', 'translate', 'translating', 'trap', 'trash', 'trashy', 'treachery', 'treasure', 'treat', 'treatments', 'trek', 'tremendous', 'tremendously', 'tries', 'trilogy', 'trinity', 'trip', 'triumphed', 'trond', 'trooper', 'trouble', 'truck', 'true', 'truly', 'trumbull', 'trumpeter', 'truth', 'try', 'trying', 'trysts', 'tsunami', 'tuneful', 'turkey', 'turn', 'turned', 'turns', 'tv', 'twice', 'twirling', 'twist', 'twists', 'two', 'tying', 'type', 'typical', 'ue', 'ugliest', 'ugly', 'uhura', 'ultra', 'um', 'unaccompanied', 'unbearable', 'unbearably', 'unbelievable', 'uncalled', 'unconditional', 'unconvincing', 'underacting', 'underappreciated', 'underbite', 'underlines', 'underlying', 'underneath', 'underrated', 'understand', 'understanding', 'understated', 'understatement', 'understood', 'undertone', 'underwater', 'undoubtedly', 'uneasy', 'unemployed', 'unethical', 'unfaithful', 'unfolds', 'unforgettable', 'unfortunate', 'unfortunately', 'unfunny', 'unintentionally', 'uninteresting', 'union', 'unique', 'uniqueness', 'universal', 'universe', 'unless', 'unlockable', 'unmatched', 'unmitigated', 'unmoving', 'unnecessary', 'unneeded', 'unoriginal', 'unpleasant', 'unpredictability', 'unpredictable', 'unrealistic', 'unrecognizable', 'unrecommended', 'unremarkable', 'unrestrained', 'unsatisfactory', 'unwatchable', 'upa', 'uplifting', 'upper', 'ups', 'uptight', 'ursula', 'us', 'use', 'used', 'user', 'uses', 'using', 'ussr', 'usual', 'utter', 'utterly', 'valentine', 'value', 'values', 'vampire', 'vandiver', 'variation', 'vehicles', 'ventura', 'verbal', 'verbatim', 'versatile', 'version', 'versus', 'vessel', 'veteran', 'vey', 'vibe', 'victor', 'video', 'view', 'viewer', 'viewing', 'views', 'villain', 'villains', 'violence', 'violin', 'virtue', 'virus', 'vision', 'visual', 'visually', 'vitally', 'vivian', 'vivid', 'vocal', 'voice', 'volatile', 'volcano', 'vomit', 'vomited', 'voyage', 'vulcan', 'waiting', 'waitress', 'walk', 'walked', 'wall', 'want', 'wanted', 'wanting', 'wants', 'war', 'warmth', 'warn', 'warning', 'wartime', 'warts', 'washed', 'washing', 'waste', 'wasted', 'waster', 'wasting', 'watch', 'watchable', 'watched', 'watching', 'water', 'watkins', 'watson', 'wave', 'way', 'waylaid', 'wayne', 'ways', 'wb', 'weak', 'weaker', 'weariness', 'weaving', 'website', 'wedding', 'weight', 'weird', 'well', 'welsh', 'went', 'whatever', 'whatsoever', 'whenever', 'whether', 'whine', 'whiny', 'white', 'whites', 'whoever', 'whole', 'wholesome', 'wide', 'widmark', 'wife', 'wih', 'wild', 'wilkinson', 'william', 'willie', 'wily', 'win', 'wind', 'wise', 'wish', 'within', 'without', 'witticisms', 'witty', 'woa', 'women', 'wonder', 'wondered', 'wonderful', 'wonderfully', 'wong', 'wont', 'woo', 'wooden', 'word', 'words', 'work', 'worked', 'working', 'works', 'world', 'worry', 'worse', 'worst', 'worth', 'worthless', 'worthwhile', 'worthy', 'would', 'wouldnt', 'woven', 'wow', 'wrap', 'write', 'writer', 'writers', 'writing', 'written', 'wrong', 'wrote', 'yardley', 'yawn', 'yeah', 'year', 'years', 'yelps', 'yes', 'yet', 'young', 'younger', 'youthful', 'youtube', 'yun', 'zillion', 'zombie', 'zombiez']\n"
     ]
    },
    {
     "name": "stderr",
     "output_type": "stream",
     "text": [
      "C:\\Users\\pavan\\AppData\\Local\\Programs\\Python\\Python310\\lib\\site-packages\\sklearn\\utils\\deprecation.py:87: FutureWarning: Function get_feature_names is deprecated; get_feature_names is deprecated in 1.0 and will be removed in 1.2. Please use get_feature_names_out instead.\n",
      "  warnings.warn(msg, category=FutureWarning)\n"
     ]
    }
   ],
   "source": [
    "print(vectorizer.get_feature_names())\n"
   ]
  },
  {
   "cell_type": "code",
   "execution_count": 14,
   "metadata": {},
   "outputs": [
    {
     "name": "stdout",
     "output_type": "stream",
     "text": [
      "  (0, 25)\t1.0\n"
     ]
    }
   ],
   "source": [
    "print(skl_output[0])"
   ]
  },
  {
   "cell_type": "code",
   "execution_count": 17,
   "metadata": {},
   "outputs": [
    {
     "name": "stdout",
     "output_type": "stream",
     "text": [
      "746\n",
      "(746, 50)\n"
     ]
    }
   ],
   "source": [
    "print(len(skl_output.toarray()))\n",
    "print(skl_output.shape)"
   ]
  },
  {
   "cell_type": "code",
   "execution_count": 13,
   "metadata": {
    "scrolled": false
   },
   "outputs": [
    {
     "name": "stdout",
     "output_type": "stream",
     "text": [
      "[0. 0. 0. 0. 0. 0. 0. 0. 0. 0. 0. 0. 0. 0. 0. 0. 0. 0. 0. 0. 0. 0. 0. 0.\n",
      " 0. 1. 0. 0. 0. 0. 0. 0. 0. 0. 0. 0. 0. 0. 0. 0. 0. 0. 0. 0. 0. 0. 0. 0.\n",
      " 0. 0.]\n"
     ]
    }
   ],
   "source": [
    "print(skl_output.toarray()[0])"
   ]
  },
  {
   "cell_type": "code",
   "execution_count": 18,
   "metadata": {},
   "outputs": [
    {
     "name": "stdout",
     "output_type": "stream",
     "text": [
      "  (0, 25)\t1.0\n",
      "  (1, 30)\t0.572445699981522\n",
      "  (1, 8)\t0.8199426324888012\n",
      "  (2, 32)\t0.5699230219852334\n",
      "  (2, 25)\t0.35548195762874873\n",
      "  (2, 10)\t0.5273651853196742\n",
      "  (2, 0)\t0.5202944244602254\n",
      "  (3, 20)\t1.0\n",
      "  (4, 25)\t0.5110768901174535\n",
      "  (4, 4)\t0.859534997767905\n",
      "  (5, 25)\t1.0\n",
      "  (7, 25)\t0.33776010837475723\n",
      "  (7, 17)\t0.9412322291499969\n",
      "  (11, 25)\t0.32556342048857684\n",
      "  (11, 23)\t0.5366405664621315\n",
      "  (11, 21)\t0.5533799348242362\n",
      "  (11, 4)\t0.5475363087512142\n",
      "  (12, 4)\t1.0\n",
      "  (14, 25)\t1.0\n",
      "  (15, 37)\t0.7118629038754104\n",
      "  (15, 0)\t0.7023184506234106\n",
      "  (16, 23)\t0.6478335937139895\n",
      "  (16, 14)\t0.4007783298922675\n",
      "  (16, 11)\t0.6478335937139895\n",
      "  (17, 25)\t0.48899424176935075\n",
      "  :\t:\n",
      "  (727, 44)\t1.0\n",
      "  (728, 25)\t0.5830722125629216\n",
      "  (728, 17)\t0.8124203314399383\n",
      "  (729, 38)\t0.7482164865280394\n",
      "  (729, 30)\t0.4838684403668721\n",
      "  (729, 25)\t0.45392006091884396\n",
      "  (733, 46)\t0.8346729885507431\n",
      "  (733, 25)\t0.5507458598879985\n",
      "  (734, 37)\t0.6615139054580876\n",
      "  (734, 33)\t0.7499328989220224\n",
      "  (735, 35)\t0.7391763947283081\n",
      "  (735, 32)\t0.6735118836935696\n",
      "  (736, 43)\t1.0\n",
      "  (738, 18)\t1.0\n",
      "  (739, 47)\t0.6094124262000808\n",
      "  (739, 40)\t0.5963565650047202\n",
      "  (739, 19)\t0.5224704222907762\n",
      "  (740, 28)\t0.8668308595259199\n",
      "  (740, 25)\t0.4986023074290322\n",
      "  (741, 44)\t1.0\n",
      "  (742, 48)\t0.6520428640510826\n",
      "  (742, 36)\t0.6520428640510826\n",
      "  (742, 14)\t0.3868852631984358\n",
      "  (744, 3)\t1.0\n",
      "  (745, 31)\t1.0\n"
     ]
    }
   ],
   "source": [
    "print(skl_output)"
   ]
  },
  {
   "cell_type": "code",
   "execution_count": 25,
   "metadata": {},
   "outputs": [
    {
     "name": "stdout",
     "output_type": "stream",
     "text": [
      "50\n",
      "['acting', 'actors', 'also', 'bad', 'best', 'better', 'cast', 'character', 'characters', 'could', 'even', 'ever', 'every', 'excellent', 'film', 'films', 'funny', 'good', 'great', 'like', 'little', 'look', 'love', 'made', 'make', 'movie', 'movies', 'much', 'never', 'no', 'not', 'one', 'plot', 'real', 'really', 'scenes', 'script', 'see', 'seen', 'show', 'story', 'think', 'time', 'watch', 'watching', 'way', 'well', 'wonderful', 'work', 'would']\n"
     ]
    }
   ],
   "source": [
    "#implementing for max feature = 50 using sklearn\n",
    "\n",
    "from sklearn.feature_extraction.text import TfidfVectorizer\n",
    "vectorizer = TfidfVectorizer(max_features=50 )\n",
    "vectorizer.fit(corpus)\n",
    "skl_output = vectorizer.transform(corpus)\n",
    "print(len(vectorizer.get_feature_names()))\n",
    "print(vectorizer.get_feature_names())"
   ]
  },
  {
   "cell_type": "code",
   "execution_count": 12,
   "metadata": {},
   "outputs": [
    {
     "name": "stdout",
     "output_type": "stream",
     "text": [
      "[3.97847903 4.67162621 4.39718936 3.62708114 4.57154275 4.78285184\n",
      " 4.67162621 4.57154275 4.15032928 4.39718936 4.03254625 4.48057097\n",
      " 4.84347646 4.97700786 2.7718781  4.67162621 4.78285184 3.78742379\n",
      " 4.18207798 4.00514727 4.72569343 4.62033291 4.57154275 4.48057097\n",
      " 4.67162621 2.71822539 4.48057097 4.72569343 4.72569343 4.35796865\n",
      " 2.89756631 3.57301392 4.35796865 4.57154275 4.08970466 4.78285184\n",
      " 4.67162621 4.03254625 4.48057097 4.78285184 4.57154275 4.67162621\n",
      " 3.95250354 4.72569343 4.67162621 4.52502273 4.11955762 4.67162621\n",
      " 4.67162621 4.28386067]\n"
     ]
    }
   ],
   "source": [
    "#printing idf values of 50 features\n",
    "idf = vectorizer.idf_\n",
    "print(idf)\n"
   ]
  },
  {
   "cell_type": "markdown",
   "metadata": {},
   "source": [
    "# custom implementation"
   ]
  },
  {
   "cell_type": "code",
   "execution_count": 23,
   "metadata": {},
   "outputs": [
    {
     "name": "stdout",
     "output_type": "stream",
     "text": [
      "Number of documents in corpus =  746\n",
      "vocab: 2897\n",
      "  (10, 171)\t0.38460655580960396\n",
      "  (10, 1783)\t0.38460655580960396\n",
      "  (31, 1217)\t0.6922918004572872\n",
      "  (43, 530)\t0.36436410550383536\n",
      "  (43, 1891)\t0.36436410550383536\n",
      "  (123, 2705)\t0.3461459002286436\n",
      "  (142, 2469)\t0.38460655580960396\n",
      "  (153, 2230)\t0.865364750571609\n",
      "  (166, 582)\t0.38460655580960396\n",
      "  (192, 38)\t0.36436410550383536\n",
      "  (194, 116)\t0.3146780911169487\n",
      "  (218, 2554)\t0.40723047085722774\n",
      "  (221, 244)\t1.730729501143218\n",
      "  (251, 2870)\t0.576909833714406\n",
      "  (271, 2355)\t0.3146780911169487\n",
      "  (278, 2293)\t0.3296627621225177\n",
      "  (280, 238)\t0.38460655580960396\n",
      "  (340, 2868)\t0.3146780911169487\n",
      "  (364, 240)\t0.3146780911169487\n",
      "  (383, 944)\t0.3009964349814292\n",
      "  (415, 1752)\t0.5325321541979132\n",
      "  (420, 1624)\t0.865364750571609\n",
      "  (457, 2226)\t0.37421178403096605\n",
      "  (470, 183)\t0.40723047085722774\n",
      "  (470, 724)\t0.40723047085722774\n",
      "  (472, 2003)\t0.3461459002286436\n",
      "  (472, 2423)\t0.3461459002286436\n",
      "  (477, 1675)\t0.40723047085722774\n",
      "  (477, 2609)\t0.40723047085722774\n",
      "  (495, 2850)\t0.6293561822338974\n",
      "  (499, 1339)\t0.3146780911169487\n",
      "  (504, 2077)\t0.38460655580960396\n",
      "  (505, 618)\t0.4326823752858045\n",
      "  (527, 189)\t0.40723047085722774\n",
      "  (528, 2602)\t0.49449414318377655\n",
      "  (540, 1335)\t0.4326823752858045\n",
      "  (552, 2284)\t0.3146780911169487\n",
      "  (553, 1599)\t0.3296627621225177\n",
      "  (559, 2360)\t0.49449414318377655\n",
      "  (560, 2700)\t0.3009964349814292\n",
      "  (578, 2652)\t0.3296627621225177\n",
      "  (580, 849)\t0.3146780911169487\n",
      "  (589, 876)\t0.38460655580960396\n",
      "  (596, 341)\t0.38460655580960396\n",
      "  (629, 2626)\t0.38460655580960396\n",
      "  (694, 716)\t0.3296627621225177\n",
      "  (728, 2134)\t0.49449414318377655\n",
      "  (730, 579)\t0.38460655580960396\n",
      "  (732, 482)\t0.3461459002286436\n",
      "  (744, 845)\t0.40723047085722774\n"
     ]
    }
   ],
   "source": [
    "from collections import Counter\n",
    "from tqdm import tqdm\n",
    "from scipy.sparse import csr_matrix\n",
    "import math\n",
    "import operator\n",
    "from sklearn.preprocessing import normalize\n",
    "import numpy\n",
    "\n",
    "import pickle\n",
    "with open('cleaned_strings', 'rb') as f:\n",
    "    corpus = pickle.load(f)\n",
    "    \n",
    "# printing the length of the corpus loaded\n",
    "print(\"Number of documents in corpus = \",len(corpus))\n",
    "\n",
    "\n",
    "\n",
    "def voc_doc(dataset):\n",
    "    \n",
    "    doc_set = set()\n",
    "    \n",
    "    if isinstance(dataset, list):\n",
    "        \n",
    "        for document in dataset:\n",
    "            for word in document.split(\" \"):\n",
    "                \n",
    "                doc_set.add(word)\n",
    "        doc_set = sorted(list(doc_set))\n",
    "        \n",
    "        vocab = {k:v for v,k in enumerate(doc_set)}\n",
    "        \n",
    "        return vocab\n",
    "    \n",
    "\n",
    "vocab = voc_doc(corpus)\n",
    "print('vocabulary:',len(vocab))\n",
    "\n",
    "def cal_idf(word, dataset):\n",
    "    num_word_doc = 0\n",
    "    for doc in dataset:\n",
    "        if word in doc.split():\n",
    "            num_word_doc+=1\n",
    "    return num_word_doc\n",
    "\n",
    "\n",
    "\n",
    "\n",
    "def tf_idf(dataset, vocab):\n",
    "    \n",
    "    n_row = []\n",
    "    n_col = []\n",
    "    val_tf_idf = []\n",
    "    val_tfidf = []\n",
    "    \n",
    "    tf_lst = []\n",
    "    idf_lst = []\n",
    "\n",
    "    \n",
    "    for ind_doc, document in enumerate(dataset):\n",
    "        \n",
    "        word_freq = dict(Counter(document.split()))\n",
    "        \n",
    "        for word, freq in word_freq.items():\n",
    "            if len(word)<2:\n",
    "                continue\n",
    "                \n",
    "            col_ind = vocab.get(word,-1)\n",
    "            \n",
    "            if col_ind !=-1:\n",
    "\n",
    "                n_col.append(col_ind)\n",
    "                n_row.append(ind_doc)\n",
    "                \n",
    "                tf = freq/ float (len(document))\n",
    "                tf_lst.append(tf)\n",
    "                \n",
    "                idf = 1+math.log((1+len(dataset))/float(1+cal_idf(word,dataset)))\n",
    "                idf_lst.append(idf)\n",
    "                val_tfidf.append(tf*idf)\n",
    "                \n",
    "    idf_lst_sorted, tf_lst_sorted, n_row_sorted, n_col_sorted = zip(*sorted(zip(idf_lst, tf_lst, n_row, n_col), reverse = True)[:50])\n",
    "\n",
    "\n",
    "    for i in range(50):\n",
    "        \n",
    "        val_tf_idf.append(tf_lst_sorted[i]*idf_lst_sorted[i])\n",
    "\n",
    "    cal_csr_matrix = csr_matrix((val_tf_idf,(n_row_sorted,n_col_sorted)),shape=(len(dataset),len(vocab) ) )\n",
    "    print(cal_csr_matrix)\n",
    "    res = normalize (cal_csr_matrix, norm = 'l2')\n",
    "                \n",
    "    return res\n",
    "\n",
    "res = tf_idf(corpus, vocab)\n"
   ]
  },
  {
   "cell_type": "code",
   "execution_count": 31,
   "metadata": {},
   "outputs": [
    {
     "name": "stdout",
     "output_type": "stream",
     "text": [
      "Top 50 features of  idf values:\n",
      "  [6.922918004572872, 6.922918004572872, 6.922918004572872, 6.922918004572872, 6.922918004572872, 6.922918004572872, 6.922918004572872, 6.922918004572872, 6.922918004572872, 6.922918004572872, 6.922918004572872, 6.922918004572872, 6.922918004572872, 6.922918004572872, 6.922918004572872, 6.922918004572872, 6.922918004572872, 6.922918004572872, 6.922918004572872, 6.922918004572872, 6.922918004572872, 6.922918004572872, 6.922918004572872, 6.922918004572872, 6.922918004572872, 6.922918004572872, 6.922918004572872, 6.922918004572872, 6.922918004572872, 6.922918004572872, 6.922918004572872, 6.922918004572872, 6.922918004572872, 6.922918004572872, 6.922918004572872, 6.922918004572872, 6.922918004572872, 6.922918004572872, 6.922918004572872, 6.922918004572872, 6.922918004572872, 6.922918004572872, 6.922918004572872, 6.922918004572872, 6.922918004572872, 6.922918004572872, 6.922918004572872, 6.922918004572872, 6.922918004572872, 6.922918004572872] \n",
      "\n",
      "Unique idf values from whole calculated idf list:\n",
      "  [2.7182253851819063, 2.771878098674226, 2.897566313837723, 3.573013917298267, 3.627081138568543, 3.7874237886437223, 3.9525035390031706, 3.9784790254064317, 4.005147272488593, 4.0325462466767075, 4.089704660516656, 4.119557623666337, 4.150329282333091, 4.182077980647671, 4.283860674957613, 4.357968647111335, 4.397189360264616, 4.480570969203668, 4.525022731774501, 4.571542747409394, 4.620332911578826, 4.671626205966376, 4.725693427236653, 4.782851841076601, 4.843476462893037, 4.908014984030608, 4.9770078555175585, 5.05111582767128, 5.131158535344817, 5.218169912334447, 5.3134800921387715, 5.418840607796598, 5.536623643452981, 5.670155036077504, 5.824305715904762, 6.006627272698717, 6.229770824012927, 6.517452896464707, 6.922918004572872] \n",
      "\n",
      "Length of Unique idf values from whole calculated idf list: 39 \n",
      "\n",
      "Top 50 features:\n",
      " (6.922918004572872, 'zombiez') (6.922918004572872, 'zillion') (6.922918004572872, 'z') (6.922918004572872, 'yun') (6.922918004572872, 'youtube') (6.922918004572872, 'youthful') (6.922918004572872, 'younger') (6.922918004572872, 'yelps') (6.922918004572872, 'yawn') (6.922918004572872, 'yardley') (6.922918004572872, 'x') (6.922918004572872, 'wrote') (6.922918004572872, 'writers') (6.922918004572872, 'wrap') (6.922918004572872, 'wow') (6.922918004572872, 'woven') (6.922918004572872, 'wouldnt') (6.922918004572872, 'worthy') (6.922918004572872, 'worthwhile') (6.922918004572872, 'worthless') (6.922918004572872, 'worry') (6.922918004572872, 'worked') (6.922918004572872, 'woo') (6.922918004572872, 'wont') (6.922918004572872, 'wong') (6.922918004572872, 'wondered') (6.922918004572872, 'woa') (6.922918004572872, 'witticisms') (6.922918004572872, 'within') (6.922918004572872, 'wise') (6.922918004572872, 'win') (6.922918004572872, 'wily') (6.922918004572872, 'willie') (6.922918004572872, 'william') (6.922918004572872, 'wild') (6.922918004572872, 'wih') (6.922918004572872, 'wife') (6.922918004572872, 'widmark') (6.922918004572872, 'wide') (6.922918004572872, 'whoever') (6.922918004572872, 'whites') (6.922918004572872, 'whine') (6.922918004572872, 'whenever') (6.922918004572872, 'went') (6.922918004572872, 'welsh') (6.922918004572872, 'weight') (6.922918004572872, 'wedding') (6.922918004572872, 'website') (6.922918004572872, 'weaving') (6.922918004572872, 'weariness')\n"
     ]
    }
   ],
   "source": [
    "#getting top 50 vocabulary list based on idf value\n",
    "def cal_idf_max50(dataset,word):\n",
    "    idf_lst = []\n",
    "    word_lst = []\n",
    "    dataset = corpus\n",
    "    word = vocab\n",
    "    for word, freq in vocab.items():\n",
    "            word_lst.append(word)\n",
    "            idf = 1+math.log((1+len(dataset))/float(1+cal_idf(word,dataset)))\n",
    "            idf_lst.append(idf)\n",
    "    return idf_lst, word_lst\n",
    "cal_idf_max50(corpus, vocab)\n",
    "print('Top 50 features of  idf values:\\n ',sorted(idf_lst,reverse=True)[:50],'\\n')        \n",
    "print('Unique idf values from whole calculated idf list:\\n ',sorted(set(idf_lst)),'\\n')\n",
    "print('Length of Unique idf values from whole calculated idf list:',len(sorted(set(idf_lst))),'\\n')\n",
    "\n",
    "\n",
    "print('Top 50 features:\\n', *sorted(zip(idf_lst,word_lst_ind),reverse=True)[:50])   \n"
   ]
  },
  {
   "cell_type": "code",
   "execution_count": null,
   "metadata": {},
   "outputs": [],
   "source": [
    "# I am oberving that top 50 idf values having same value = 6.922918004572872 for all of them\n",
    "# I am getting different values of idf and words when comparing to sklearn output values"
   ]
  },
  {
   "cell_type": "code",
   "execution_count": null,
   "metadata": {},
   "outputs": [],
   "source": []
  },
  {
   "cell_type": "code",
   "execution_count": null,
   "metadata": {},
   "outputs": [],
   "source": []
  }
 ],
 "metadata": {
  "colab": {
   "collapsed_sections": [],
   "name": "Assignment_3_Instructions.ipynb",
   "provenance": []
  },
  "kernelspec": {
   "display_name": "Python 3 (ipykernel)",
   "language": "python",
   "name": "python3"
  },
  "language_info": {
   "codemirror_mode": {
    "name": "ipython",
    "version": 3
   },
   "file_extension": ".py",
   "mimetype": "text/x-python",
   "name": "python",
   "nbconvert_exporter": "python",
   "pygments_lexer": "ipython3",
   "version": "3.10.0"
  }
 },
 "nbformat": 4,
 "nbformat_minor": 1
}
